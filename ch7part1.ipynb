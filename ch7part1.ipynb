{
  "cells": [
    {
      "cell_type": "markdown",
      "metadata": {
        "id": "view-in-github",
        "colab_type": "text"
      },
      "source": [
        "<a href=\"https://colab.research.google.com/github/aydcereal/CS122-MYREP/blob/main/ch7part1.ipynb\" target=\"_parent\"><img src=\"https://colab.research.google.com/assets/colab-badge.svg\" alt=\"Open In Colab\"/></a>"
      ]
    },
    {
      "cell_type": "markdown",
      "metadata": {
        "id": "ZTaRhfCZXPAK"
      },
      "source": [
        "<style>\n",
        "\th1 {\n",
        "\t--\tbackground-color: grey;\n",
        "\t\tcolor: yellow\n",
        "\t\tborder: 3px solid grey\n",
        "\n",
        "\t}\n",
        "\tp {\n",
        "\t\tbackground-color: grey;\n",
        "\t\tcolor: white\n",
        "\t\tborder: 3px solid grey\n",
        "\n",
        "\t}\n",
        "</style>\n",
        "<h1> Chapter 7 List: Part 1</h1>"
      ]
    },
    {
      "cell_type": "markdown",
      "metadata": {
        "id": "0isUkVvUXPAK"
      },
      "source": [
        "<p style=\"margin-left:40px\"> 7.1 Basic Examples of List</p>\n",
        "\n",
        "<p style=\"margin-left:40px\"> 7.2 Understanding the \"Mutable Data Type\" </p>\n",
        "\n",
        "<p style=\"margin-left:40px\"> 7.3 Handing the list index out of range error </p>\n",
        "\n",
        "<p style=\"margin-left:40px\"> 7.4 List of List </p>\n",
        "\n",
        "<p style=\"margin-left:40px\"> 7.5 any() and all() </p>\n"
      ]
    },
    {
      "cell_type": "markdown",
      "metadata": {
        "id": "u9iUca6kXPAL"
      },
      "source": [
        "***\n",
        "\n",
        "## <p style=\"background-color: grey; color: white \"> ◼️  List </p>\n",
        "# <p style=\"font-family: Arial; font-size:1.4em;color:red;\"> 1. Basic Examples of List</p>\n"
      ]
    },
    {
      "cell_type": "markdown",
      "metadata": {
        "id": "1tyYkIktXPAL"
      },
      "source": [
        "<style>\n",
        "\th3{\n",
        "\t\tbackground-color: grey\n",
        "\t\tcolor: white\n",
        "\t}\n",
        "</style>\n",
        "\n",
        "<h1> Understanding the \"Mutable Data Type\"  </h1>\n",
        "\n",
        "- Run all the following code cells and check out the result of code segments"
      ]
    },
    {
      "cell_type": "markdown",
      "metadata": {
        "id": "M-0VuVXdXPAL"
      },
      "source": [
        "#### <p style=\"font-family: Arial; font-size:1.4em; background-color: yellow; color:black;\"> Problem #1.0 </p>\n",
        "\n",
        "#### Run all the cells and figure out the Mutal Data Type"
      ]
    },
    {
      "cell_type": "markdown",
      "metadata": {
        "id": "19sbSqIzXPAL"
      },
      "source": [
        "### What is the value of numbers1 after run the following code cell?"
      ]
    },
    {
      "cell_type": "code",
      "execution_count": null,
      "metadata": {
        "id": "qdA_fUofXPAL",
        "colab": {
          "base_uri": "https://localhost:8080/"
        },
        "outputId": "d5578d40-4264-4214-933e-028459009aa4"
      },
      "outputs": [
        {
          "output_type": "execute_result",
          "data": {
            "text/plain": [
              "[6, 7]"
            ]
          },
          "metadata": {},
          "execution_count": 1
        }
      ],
      "source": [
        "numbers1 = [1,2,3,4,5,6,7]\n",
        "numbers2 = numbers1\n",
        "\n",
        "del numbers2[:5]\n",
        "\n",
        "numbers1"
      ]
    },
    {
      "cell_type": "markdown",
      "metadata": {
        "id": "_ugjsrJJXPAM"
      },
      "source": [
        "#### <p style=\"font-family: Arial; font-size:1.4em; background-color: yellow; color:black;\"> Problem #1.1 </p>\n",
        "\n",
        "#### Figure out the difference between the following two code segments\n",
        "\n",
        "#### The first code segment:\n",
        "- the number is integer value in the function.\n",
        "- The value of the number is changed by the function\n",
        "- Check the value in the caller function main()\n",
        "- The change of the value of the number is not reflected in the caller function\n",
        "\n",
        "#### The second code segment:\n",
        "- The list is a mutable data type\n",
        "- The value of the list is changed by the function\n",
        "- Check the value in the caller function main()\n",
        "- The change of the value of the list is reflected in the caller function\n",
        "\n",
        "## Explain the output of the following code segments. <br> Elaborate the reason why the output is as such."
      ]
    },
    {
      "cell_type": "code",
      "execution_count": null,
      "metadata": {
        "id": "kC-lX5sLXPAM",
        "colab": {
          "base_uri": "https://localhost:8080/"
        },
        "outputId": "b9216fd9-9cbd-47c2-ca68-de965c04d179"
      },
      "outputs": [
        {
          "output_type": "stream",
          "name": "stdout",
          "text": [
            "number in main(): -1\n"
          ]
        }
      ],
      "source": [
        "def myfuntion(number):\n",
        "    number = 100\n",
        "\n",
        "number = -1\n",
        "myfuntion(number)\n",
        "print ('number in main():', number)\n",
        "# number in main(): -1. Change of the value of the number is not reflected in the caller function"
      ]
    },
    {
      "cell_type": "code",
      "execution_count": null,
      "metadata": {
        "id": "IX99NtcjXPAM",
        "colab": {
          "base_uri": "https://localhost:8080/"
        },
        "outputId": "cc6a7d81-ccc6-43c7-e916-73baecad172e"
      },
      "outputs": [
        {
          "output_type": "stream",
          "name": "stdout",
          "text": [
            "numbers in main(): [100]\n"
          ]
        }
      ],
      "source": [
        "def myfunction(numbers):\n",
        "    numbers[0] = 100\n",
        "\n",
        "numbers = [-1]\n",
        "myfunction(numbers)\n",
        "print ('numbers in main():', numbers)\n",
        "# numbers in main(): [100]. Change of the value of the list is reflected in the caller function\n"
      ]
    },
    {
      "cell_type": "markdown",
      "source": [
        "# **On code segment 1, when myfunction is it assigns the local number = 100 which does not affect the global variable. so it remains -1 since it is out of scope. on code segment 2 the numbers is a list which is a mutable object. when myfunction(numbers) is passed called, a reference to the list is passed to the function. Inside the function, numbers[0] = 100 modifies the actual list object.**"
      ],
      "metadata": {
        "id": "l-Ns3vFfYycK"
      }
    },
    {
      "cell_type": "markdown",
      "metadata": {
        "id": "IEyxmyLsXPAM"
      },
      "source": [
        "#### <p style=\"font-family: Arial; font-size:1.4em; background-color: yellow; color:black;\"> Problem #1.2 </p>\n",
        "\n",
        "#### List the other data types that are working as the same way as the list in the above code segments.\n",
        "### Choose the data types from the following list:\n",
        "- String\n",
        "- Tuple\n",
        "- Dictionary\n",
        "- Set\n",
        "\n",
        "- int\n",
        "- float\n",
        "- boolean\n",
        "\n"
      ]
    },
    {
      "cell_type": "markdown",
      "source": [
        "# **Dictionary and Set**"
      ],
      "metadata": {
        "id": "2lpECFYUbbz9"
      }
    },
    {
      "cell_type": "markdown",
      "metadata": {
        "id": "fiHc8l-OXPAM"
      },
      "source": [
        "#### <p style=\"font-family: Arial; font-size:1.4em; background-color: yellow; color:black;\"> Problem #1.3 </p>\n",
        "\n",
        "#### Review the following methods of the list data type.\n",
        "- append()\n",
        "- extend()\n",
        "- insert()\n",
        "- remove()\n",
        "- sort()\n",
        "- reverse()\n",
        "- pop()\n",
        "- count()\n",
        "- index()\n",
        "- copy()\n",
        "- clear()\n",
        "\n",
        "\n"
      ]
    },
    {
      "cell_type": "markdown",
      "metadata": {
        "id": "6KSLHUhVXPAM"
      },
      "source": [
        "## Concatenation of the List\n",
        "```\n",
        "n1 = [1,2,3]\n",
        "n2 = [4,5,6]\n",
        "```\n",
        "\n",
        "### complete your code here to concatenate the two lists"
      ]
    },
    {
      "cell_type": "code",
      "execution_count": null,
      "metadata": {
        "id": "BicZOU-bXPAM",
        "colab": {
          "base_uri": "https://localhost:8080/"
        },
        "outputId": "4d7180b4-a1ec-431c-f567-1d40b0eebabd"
      },
      "outputs": [
        {
          "output_type": "stream",
          "name": "stdout",
          "text": [
            "[1, 2, 3, 4, 5, 6]\n"
          ]
        }
      ],
      "source": [
        "n1 = [1,2,3]\n",
        "n2 = [4,5,6]\n",
        "\n",
        "concatenated_list = n1 + n2\n",
        "print(concatenated_list)"
      ]
    },
    {
      "cell_type": "markdown",
      "metadata": {
        "id": "jYtkyV5jXPAN"
      },
      "source": [
        "## Sort the list in the descending order\n",
        "```\n",
        "import random\n",
        "numbers = random.sample(range(1,100), 10)\n",
        "print (numbers)\n",
        "```\n",
        "\n",
        "### complete your code here to sort the list in the descending order\n",
        "\n"
      ]
    },
    {
      "cell_type": "code",
      "execution_count": null,
      "metadata": {
        "id": "o-P2bZXvXPAN",
        "colab": {
          "base_uri": "https://localhost:8080/"
        },
        "outputId": "7c5824c0-bf46-44d7-ddbf-8b421e0f7777"
      },
      "outputs": [
        {
          "output_type": "stream",
          "name": "stdout",
          "text": [
            "[94, 86, 56, 55, 45, 36, 35, 34, 29, 16]\n"
          ]
        }
      ],
      "source": [
        "import random\n",
        "numbers = random.sample(range(1,100), 10)\n",
        "numbers.sort()\n",
        "numbers.reverse()\n",
        "print (numbers)\n",
        "\n"
      ]
    },
    {
      "cell_type": "markdown",
      "metadata": {
        "id": "0naVfCp1XPAN"
      },
      "source": [
        "## Figoure out the difference between the following statements\n",
        "```\n",
        "numbers1 = [1,2,3,4,5,6,7,8,9,10]\n",
        "numbers2 = numbers1\n",
        "numbers3 = number1[:]\n",
        "numbers4 = number1.copy()\n",
        "```\n",
        "\n",
        "### complete your code here to test the above statements\n",
        "### Make some changes to the list numbers1 and check the output of numbers2, numbers3, and numbers4\n",
        "### Elaborate the reason why the output is as such.\n",
        "\n",
        "\n"
      ]
    },
    {
      "cell_type": "markdown",
      "metadata": {
        "id": "ihUplxoXXPAN"
      },
      "source": [
        "<mark> Save your file by pressing \"Ctrl+S\" or \"git commit -m \"your message\"\" </mark>"
      ]
    },
    {
      "cell_type": "code",
      "source": [
        "numbers1 = [1,2,3,4,5,6,7,8,9,10]\n",
        "numbers2 = numbers1\n",
        "numbers3 = numbers1[:]\n",
        "numbers4 = numbers1.copy()\n",
        "\n",
        "numbers1[0] = 100\n",
        "numbers1.append(200)\n",
        "\n",
        "print(numbers1)\n",
        "print(numbers2)\n",
        "print(numbers3)\n",
        "print(numbers4)"
      ],
      "metadata": {
        "colab": {
          "base_uri": "https://localhost:8080/"
        },
        "id": "6BVE6858pk34",
        "outputId": "c2065fc7-041c-4fec-aab4-53a10e287254"
      },
      "execution_count": null,
      "outputs": [
        {
          "output_type": "stream",
          "name": "stdout",
          "text": [
            "[100, 2, 3, 4, 5, 6, 7, 8, 9, 10, 200]\n",
            "[100, 2, 3, 4, 5, 6, 7, 8, 9, 10, 200]\n",
            "[1, 2, 3, 4, 5, 6, 7, 8, 9, 10]\n",
            "[1, 2, 3, 4, 5, 6, 7, 8, 9, 10]\n"
          ]
        }
      ]
    },
    {
      "cell_type": "markdown",
      "source": [
        "numbers2 creates a reference to numbers1 so any changes to numbers1 is reflected.\n",
        "numbers3 = numbers1[:] creates a copy of numbers1 with the same elements but in a different memory location. so changes to number1 does not affect numbers3\n",
        "\n",
        "numbers4 = numbers1.copy() also creates a copy of numbers1 with the same elements, just like numbers3 it is independent of numbers1\n"
      ],
      "metadata": {
        "id": "layOamb7uCrE"
      }
    },
    {
      "cell_type": "markdown",
      "metadata": {
        "id": "Bzkaig1MXPAN"
      },
      "source": [
        "***\n",
        "\n",
        "## <p style=\"background-color: grey; color: white \"> ◼️  List </p>\n",
        "# <p style=\"font-family: Arial; font-size:1.4em;color:red;\"> 2. Understanding the \"Immutable Data Type\" </p>\n"
      ]
    },
    {
      "cell_type": "markdown",
      "metadata": {
        "id": "kWs1OtBkXPAN"
      },
      "source": [
        "# Object Identity\n",
        "- this specific memory address is what you’ll know as the object’s identity.\n",
        "- This identity is a unique identifier that distinguishes one object from others.\n",
        "- You can use the id() function to find out the identity of an object.\n",
        "\n",
        "\n",
        "\n",
        "\n",
        "\n",
        "\n",
        "\n"
      ]
    },
    {
      "cell_type": "markdown",
      "metadata": {
        "id": "y5iysbn3XPAN"
      },
      "source": [
        "#### <p style=\"font-family: Arial; font-size:1.4em; background-color: yellow; color:black;\"> Problem #2.0 </p>"
      ]
    },
    {
      "cell_type": "markdown",
      "metadata": {
        "id": "Kvr6PhfVXPAN"
      },
      "source": [
        "### Even you use the same value, the identity of the object is different.\n",
        "### Because the integer is an immutable data type.\n",
        "\n",
        "#### Run the following code segment and figure out the identity of the object"
      ]
    },
    {
      "cell_type": "code",
      "execution_count": null,
      "metadata": {
        "id": "y9gFGpnmXPAN",
        "colab": {
          "base_uri": "https://localhost:8080/"
        },
        "outputId": "d8fd22fb-9b9c-4cfa-da36-3bdaea1b3df8"
      },
      "outputs": [
        {
          "output_type": "execute_result",
          "data": {
            "text/plain": [
              "10751144"
            ]
          },
          "metadata": {},
          "execution_count": 21
        }
      ],
      "source": [
        "num: int = 10\n",
        "\n",
        "id(num)"
      ]
    },
    {
      "cell_type": "code",
      "execution_count": null,
      "metadata": {
        "id": "HCqQS9OQXPAO",
        "colab": {
          "base_uri": "https://localhost:8080/"
        },
        "outputId": "238c4fe8-fbd4-4909-cbb1-9793f7201b8d"
      },
      "outputs": [
        {
          "output_type": "execute_result",
          "data": {
            "text/plain": [
              "10751464"
            ]
          },
          "metadata": {},
          "execution_count": 22
        }
      ],
      "source": [
        "num = 20    # The identity of the object is different even if you use the same variable\n",
        "id(num)"
      ]
    },
    {
      "cell_type": "markdown",
      "metadata": {
        "id": "5rZ96kwVXPAO"
      },
      "source": [
        "#### <p style=\"font-family: Arial; font-size:1.4em; background-color: yellow; color:black;\"> Problem #2.1 </p>"
      ]
    },
    {
      "cell_type": "markdown",
      "metadata": {
        "id": "BBEdNgnIXPAO"
      },
      "source": [
        "### For the list data type, the identity of the object is the same.\n",
        "### Because the list is a mutable data type.\n",
        "\n",
        "#### Run the following code segment and figure out the identity of the list numbers1 and numbers2\n",
        "#### Elaborate the reason why the identity of the list is the same."
      ]
    },
    {
      "cell_type": "code",
      "execution_count": null,
      "metadata": {
        "id": "qzJyjlu9XPAO",
        "colab": {
          "base_uri": "https://localhost:8080/"
        },
        "outputId": "d3237c8d-b98d-45cb-c9e5-a0237e2c8095"
      },
      "outputs": [
        {
          "output_type": "stream",
          "name": "stdout",
          "text": [
            "132293285422848 132293285422848\n"
          ]
        }
      ],
      "source": [
        "numbers1 = [1,2,3]\n",
        "numbers2 = numbers1\n",
        "\n",
        "print (id(numbers1), id(numbers2))\n",
        "# The identity of the object is the same."
      ]
    },
    {
      "cell_type": "markdown",
      "source": [
        "**Because numbers2 is a reference to numbers1**"
      ],
      "metadata": {
        "id": "Pe7HRYeUv76k"
      }
    },
    {
      "cell_type": "markdown",
      "metadata": {
        "id": "SF1ub4M7XPAO"
      },
      "source": [
        "#### <p style=\"font-family: Arial; font-size:1.4em; background-color: yellow; color:black;\"> Problem #2.2 </p>"
      ]
    },
    {
      "cell_type": "markdown",
      "metadata": {
        "id": "y9Kld-5UXPAO"
      },
      "source": [
        "### In function call, the identities of the list are the same.  \n",
        "### Because the list is a mutable data type.\n",
        "```\n",
        "def myfunction(numbers):\n",
        "    numbers[0] = 100\n",
        "\n",
        "numbers = [1,2,3]\n",
        "myfunction(numbers)\n",
        "print (numbers)\n",
        "```\n",
        "### The identity of the list is the same.\n",
        "\n",
        "Make the code segment to show the identity of the list is the same.\n",
        "\n",
        "- Elaborate the reason why the identity of the list is the same.\n",
        "\n"
      ]
    },
    {
      "cell_type": "code",
      "execution_count": null,
      "metadata": {
        "id": "1FyE2LicXPAO",
        "colab": {
          "base_uri": "https://localhost:8080/"
        },
        "outputId": "83a2b0e1-b5a7-4c13-82c3-352f3a4dc401"
      },
      "outputs": [
        {
          "output_type": "stream",
          "name": "stdout",
          "text": [
            "132292540593152\n",
            "132292540593152\n",
            "132292540593152\n",
            "[100, 2, 3]\n"
          ]
        }
      ],
      "source": [
        "def myfunction(numbers):\n",
        "    print(id(numbers))\n",
        "    numbers[0] = 100\n",
        "\n",
        "numbers = [1,2,3]\n",
        "print(id(numbers))\n",
        "myfunction(numbers)\n",
        "print(id(numbers))\n",
        "print (numbers)"
      ]
    },
    {
      "cell_type": "markdown",
      "source": [
        "**The identity of the list is the same because when you pass a list to a function, you pass a reference to the same object.**"
      ],
      "metadata": {
        "id": "o7fZRwTHxysd"
      }
    },
    {
      "cell_type": "markdown",
      "metadata": {
        "id": "lqHN08-tXPAO"
      },
      "source": [
        "<mark> Save your file by pressing \"Ctrl+S\" or \"git commit -m \"your message\"\" </mark>"
      ]
    },
    {
      "cell_type": "markdown",
      "metadata": {
        "id": "gd_8J5q4XPAO"
      },
      "source": [
        "***\n",
        "\n",
        "## <p style=\"background-color: grey; color: white \"> ◼️  List </p>\n",
        "# <p style=\"font-family: Arial; font-size:1.4em;color:red;\"> 3. Handing the list index out of range error </p>\n"
      ]
    },
    {
      "cell_type": "markdown",
      "metadata": {
        "id": "oMGUyKRCXPAO"
      },
      "source": [
        "#### <p style=\"font-family: Arial; font-size:1.4em; background-color: yellow; color:black;\"> Problem #3.1 </p>"
      ]
    },
    {
      "cell_type": "markdown",
      "metadata": {
        "id": "0Ivs5pBZXPAO"
      },
      "source": [
        "## [1] Figure out the index error situation"
      ]
    },
    {
      "cell_type": "markdown",
      "metadata": {
        "id": "02t1IuCRXPAP"
      },
      "source": [
        "### 1) Error or Not ?\n",
        "\n",
        "```\n",
        "numbers = [1,2,3]\n",
        "numbers[3] = 100\n",
        "```\n",
        "\n",
        "### 2) Error or Not ?\n",
        "```\n",
        "print (numbers[:10])\n",
        "```"
      ]
    },
    {
      "cell_type": "code",
      "execution_count": null,
      "metadata": {
        "id": "TtsBgOVRXPAP"
      },
      "outputs": [],
      "source": [
        "numbers = [1,2,3,4]\n",
        "numbers[3] = 100\n"
      ]
    },
    {
      "cell_type": "code",
      "execution_count": null,
      "metadata": {
        "id": "vTtFc1eZXPAP",
        "outputId": "ee5fe34c-f3f8-4439-f223-5f8e943e0325",
        "colab": {
          "base_uri": "https://localhost:8080/"
        }
      },
      "outputs": [
        {
          "output_type": "stream",
          "name": "stdout",
          "text": [
            "[2, 3]\n"
          ]
        }
      ],
      "source": [
        "numbers = [1,2,3]\n",
        "#print (numbers[3])\n",
        "\n",
        "print (numbers[1:10])"
      ]
    },
    {
      "cell_type": "markdown",
      "metadata": {
        "id": "7OIZxoZBXPAP"
      },
      "source": [
        "#### <p style=\"font-family: Arial; font-size:1.4em; background-color: yellow; color:black;\"> Problem #3.2 </p>"
      ]
    },
    {
      "cell_type": "markdown",
      "metadata": {
        "id": "GfR2QBEQXPAP"
      },
      "source": [
        "## [2] Handling the index error situation with the try-except statement"
      ]
    },
    {
      "cell_type": "markdown",
      "metadata": {
        "id": "1jKeJ9f9XPAX"
      },
      "source": [
        "### Understanding the try-except statement\n",
        "\n",
        "``` Basic Syntax of the try-except statement\n",
        "try:\n",
        "    # Code block where exception might occur\n",
        "    # Your code here\n",
        "except ExceptionType as e:\n",
        "    # Code block to execute if an exception occurs\n",
        "    # Your code here\n",
        "else:\n",
        "    # Code block to execute if no exception occurs\n",
        "    # Your code here\n",
        "```\n",
        "\n"
      ]
    },
    {
      "cell_type": "markdown",
      "metadata": {
        "id": "75CfQveJXPAX"
      },
      "source": [
        "#### Example 1"
      ]
    },
    {
      "cell_type": "code",
      "execution_count": null,
      "metadata": {
        "id": "FVKIE_BVXPAX",
        "colab": {
          "base_uri": "https://localhost:8080/"
        },
        "outputId": "e7f8a2b9-e4fb-4a97-ad2a-9d49bbc15f4d"
      },
      "outputs": [
        {
          "output_type": "stream",
          "name": "stdout",
          "text": [
            "list index out of range\n"
          ]
        }
      ],
      "source": [
        "#Example\n",
        "numbers = [1,2,3]\n",
        "try:\n",
        "    print (numbers[3])\n",
        "except Exception as e:\n",
        "    print (e)\n"
      ]
    },
    {
      "cell_type": "markdown",
      "metadata": {
        "id": "snnDokJ2XPAX"
      },
      "source": [
        "#### Example 2"
      ]
    },
    {
      "cell_type": "code",
      "execution_count": null,
      "metadata": {
        "id": "kU1YgTreXPAX",
        "outputId": "3a952282-9e30-493c-f372-6e83ef204c60",
        "colab": {
          "base_uri": "https://localhost:8080/"
        }
      },
      "outputs": [
        {
          "output_type": "stream",
          "name": "stdout",
          "text": [
            "IndexError: list index out of range\n"
          ]
        }
      ],
      "source": [
        "# Example 2\n",
        "numbers = [1,2,3]\n",
        "try:\n",
        "    print (numbers[10])\n",
        "except IndexError:\n",
        "    print ('IndexError: list index out of range')\n",
        "else:\n",
        "    print ('No error')\n",
        "\n",
        "\n"
      ]
    },
    {
      "cell_type": "markdown",
      "metadata": {
        "id": "eTUM78f7XPAY"
      },
      "source": [
        "## Main Adavatage of the try-except statement\n",
        "\n",
        "#### Die or Alive\n",
        "\n",
        "- In error situation, the program is not terminated.\n",
        "- The program can continue to run.\n",
        "\n",
        "\n",
        "\n"
      ]
    },
    {
      "cell_type": "markdown",
      "metadata": {
        "id": "aea-k_QRXPAY"
      },
      "source": [
        "## Error Keywords\n",
        "[Python Official Document for Errores and exception](https://docs.python.org/3/tutorial/errors.html)\n",
        "```\n",
        "Types of Exceptions\n",
        "Python has several built-in exception types. Some common ones include:\n",
        "- SyntaxError: Raised when there's a syntax error in the code.\n",
        "- NameError: Raised when a variable is not found in the local or global scope.\n",
        "- TypeError: Raised when an operation is performed on an inappropriate type.\n",
        "- ValueError: Raised when a function receives an argument of the correct type but an inappropriate value.\n",
        "- ZeroDivisionError: Raised when division or modulo by zero is performed.\n",
        "```\n",
        "\n"
      ]
    },
    {
      "cell_type": "markdown",
      "metadata": {
        "id": "lFf4yTQ3XPAY"
      },
      "source": [
        "#### <p style=\"font-family: Arial; font-size:1.4em; background-color: yellow; color:black;\"> Problem #3.3 </p>"
      ]
    },
    {
      "cell_type": "markdown",
      "metadata": {
        "id": "vM_d7S9iXPAY"
      },
      "source": [
        "### Make the code segment to handle the index error situation with the try-except statement\n",
        "- There is 100 elements in the list numbers\n",
        "- A user will pick an index of the element in the list\n",
        "- Your program will print out the element in the list at the picked index\n",
        "- If the index is out of range, the program will print out the error message \"IndexError: list index out of range\". Use the try-except statement to handle the error.\n",
        "- If the index is valid, the program will print out the element in the list at the picked index\n",
        "\n"
      ]
    },
    {
      "cell_type": "code",
      "execution_count": 1,
      "metadata": {
        "id": "uRfLj5kYXPAY",
        "outputId": "2705dce6-0c1a-4527-be62-b6be0f7b6d0b",
        "colab": {
          "base_uri": "https://localhost:8080/"
        }
      },
      "outputs": [
        {
          "output_type": "stream",
          "name": "stdout",
          "text": [
            "[40, 77, 40, 1, 68, 55, 69, 57, 97, 6, 14, 27, 76, 73, 45, 98, 95, 81, 76, 24, 52, 99, 79, 34, 76, 38, 89, 15, 13, 17, 4, 31, 1, 33, 54, 78, 42, 68, 43, 28, 57, 69, 52, 88, 86, 2, 65, 55, 16, 31, 2, 63, 16, 25, 2, 68, 41, 60, 40, 16, 58, 46, 21, 54, 42, 63, 38, 81, 13, 5, 97, 11, 63, 85, 82, 12, 2, 94, 7, 53, 86, 22, 90, 34, 47, 86, 20, 21, 95, 2, 4, 24, 96, 43, 98, 1, 86, 9, 50, 2]\n",
            "Enter an index (0-99): 100\n",
            "IndexError: list index out of range\n"
          ]
        }
      ],
      "source": [
        "import random\n",
        "\n",
        "numbers = [random.randint(1,100) for _ in range(100)]\n",
        "print (numbers)\n",
        "\n",
        "try:\n",
        "  index = int(input(\"Enter an index (0-99): \"))\n",
        "  print(\"Element at index\", index, \"is\", numbers[index])\n",
        "except IndexError:\n",
        "  print(\"IndexError: list index out of range\")"
      ]
    },
    {
      "cell_type": "markdown",
      "metadata": {
        "id": "JVGxIwReXPAY"
      },
      "source": [
        "<mark> Save your file by pressing \"Ctrl+S\" or \"git commit -m \"your message\"\" </mark>"
      ]
    },
    {
      "cell_type": "markdown",
      "metadata": {
        "id": "bywvV9P2XPAY"
      },
      "source": [
        "***\n",
        "\n",
        "## <p style=\"background-color: grey; color: white \"> ◼️  List </p>\n",
        "# <p style=\"font-family: Arial; font-size:1.4em;color:red;\"> 4. List of List\n",
        "\n"
      ]
    },
    {
      "cell_type": "markdown",
      "metadata": {
        "id": "vYIcxYh9XPAY"
      },
      "source": [
        "#### <p style=\"font-family: Arial; font-size:1.4em; background-color: yellow; color:black;\"> Problem #4.1 </p>"
      ]
    },
    {
      "cell_type": "markdown",
      "metadata": {
        "id": "HcwxviPyXPAY"
      },
      "source": [
        "## There are students records in the list \"students\".\n",
        "```\n",
        "- The Student record consists of the student name, age, and the list of scores in Math, Science, and English\n",
        "- Make a function to print out the student record in the following format\n",
        "-- No return value. Use the same list of students. Do not create a new list.\n",
        "- Name: <student name> - Age: <student age> - Scores: <list of scores> - Total Score: <total score> - Average Score: <average score>\n",
        "- The function will take the list of students as an input and print out the student record for each student in the list\n",
        "\n",
        "students = [\n",
        "    [\"John\", 20, [80, 85, 90]],\n",
        "    [\"Jane\", 21, [82, 86, 89]],\n",
        "    [\"Doe\", 22, [84, 88, 92]]\n",
        "]\n",
        "```"
      ]
    },
    {
      "cell_type": "code",
      "execution_count": 3,
      "metadata": {
        "id": "rYMfCySLXPAZ",
        "colab": {
          "base_uri": "https://localhost:8080/"
        },
        "outputId": "f81274fa-b83d-4343-8254-fd5d4b4db781"
      },
      "outputs": [
        {
          "output_type": "stream",
          "name": "stdout",
          "text": [
            "**********************************************************************\n",
            "Name: John - Age: 20 - Scores: [80, 85, 90] - Total Score: 255 - Average Score: 85\n",
            "Name: Jane - Age: 21 - Scores: [82, 86, 89] - Total Score: 257 - Average Score: 86\n",
            "Name: Doe - Age: 22 - Scores: [84, 88, 92] - Total Score: 264 - Average Score: 88\n",
            "Name: Kim - Age: 23 - Scores: [85, 89, 91] - Total Score: 265 - Average Score: 88\n",
            "Name: Lee - Age: 24 - Scores: [86, 90, 93] - Total Score: 269 - Average Score: 90\n",
            "Name: Alex - Age: 25 - Scores: [87, 91, 94] - Total Score: 272 - Average Score: 91\n",
            "Name: Kyle - Age: 26 - Scores: [88, 92, 95] - Total Score: 275 - Average Score: 92\n",
            "Name: Jenny - Age: 27 - Scores: [89, 93, 96] - Total Score: 278 - Average Score: 93\n",
            "Name: Jake - Age: 28 - Scores: [90, 94, 97] - Total Score: 281 - Average Score: 94\n",
            "Name: Jessica - Age: 29 - Scores: [91, 95, 98] - Total Score: 284 - Average Score: 95\n",
            "Name: Josh - Age: 30 - Scores: [92, 96, 99] - Total Score: 287 - Average Score: 96\n",
            "Name: Jill - Age: 31 - Scores: [93, 97, 100] - Total Score: 290 - Average Score: 97\n"
          ]
        }
      ],
      "source": [
        "def print_student_record(students):\n",
        "    ###################################################\n",
        "    # code here\n",
        "    # Name: John - Age: 20 - Scores: [80, 85, 90] - Total Score: 255 - Average Score: 85.0\n",
        "    # Name: Jane - Age: 21 - Scores: [82, 86, 89] - Total Score: 257 - Average Score: 85.67\n",
        "    # ...\n",
        "    ###################################################\n",
        "    print (\"**********************************************************************\")\n",
        "    for student in students:\n",
        "        print (f\"Name: {student[0]} - Age: {student[1]} - Scores: {student[2]} - Total Score: {sum(student[2])} - Average Score: {round(sum(student[2])/len(student[2]))}\")\n",
        "\n",
        "\n",
        "\n",
        "students = [\n",
        "    [\"John\", 20, [80, 85, 90]],\n",
        "    [\"Jane\", 21, [82, 86, 89]],\n",
        "    [\"Doe\", 22, [84, 88, 92]],\n",
        "    ['Kim', 23, [85, 89, 91]],\n",
        "    ['Lee', 24, [86, 90, 93]],\n",
        "    ['Alex', 25, [87, 91, 94]],\n",
        "    ['Kyle', 26, [88, 92, 95]],\n",
        "    ['Jenny', 27, [89, 93, 96]],\n",
        "    ['Jake', 28, [90, 94, 97]],\n",
        "    ['Jessica', 29, [91, 95, 98]],\n",
        "    ['Josh', 30, [92, 96, 99]],\n",
        "    ['Jill', 31, [93, 97, 100]] ]\n",
        "\n",
        "print_student_record(students)\n",
        "\n",
        "\n"
      ]
    },
    {
      "cell_type": "markdown",
      "metadata": {
        "id": "ATyX5VQRXPAZ"
      },
      "source": [
        "## Make the function \"sort_students\" to sort the students by the the following criteria\n",
        "\n",
        "- Key = 1: Sort the students by the total score\n",
        "- Key = 2: Sort the students by the age\n",
        "- Key = 3: Sort the students by the name\n",
        "- Ascending = True: Sort in ascending order\n",
        "- Ascending = False: Sort in descending order\n",
        "```\n",
        "def sort_students(students, key, ascending):\n",
        "    ###################################################\n",
        "    # code here\n",
        "    ###################################################\n",
        "\n",
        "```\n"
      ]
    },
    {
      "cell_type": "code",
      "execution_count": 7,
      "metadata": {
        "id": "R-SXpxLoXPAZ",
        "colab": {
          "base_uri": "https://localhost:8080/"
        },
        "outputId": "b6b835eb-c1e1-48b2-911b-49027ebdeca9"
      },
      "outputs": [
        {
          "output_type": "stream",
          "name": "stdout",
          "text": [
            "**********************************************************************\n",
            "Name: Alex - Age: 25 - Scores: [87, 91, 94] - Total Score: 272 - Average Score: 91\n",
            "Name: Doe - Age: 22 - Scores: [84, 88, 92] - Total Score: 264 - Average Score: 88\n",
            "Name: Jake - Age: 28 - Scores: [90, 94, 97] - Total Score: 281 - Average Score: 94\n",
            "Name: Jane - Age: 21 - Scores: [82, 86, 89] - Total Score: 257 - Average Score: 86\n",
            "Name: Jenny - Age: 27 - Scores: [89, 93, 96] - Total Score: 278 - Average Score: 93\n",
            "Name: Jessica - Age: 29 - Scores: [91, 95, 98] - Total Score: 284 - Average Score: 95\n",
            "Name: Jill - Age: 31 - Scores: [93, 97, 100] - Total Score: 290 - Average Score: 97\n",
            "Name: John - Age: 20 - Scores: [80, 85, 90] - Total Score: 255 - Average Score: 85\n",
            "Name: Josh - Age: 30 - Scores: [92, 96, 99] - Total Score: 287 - Average Score: 96\n",
            "Name: Kim - Age: 23 - Scores: [85, 89, 91] - Total Score: 265 - Average Score: 88\n",
            "Name: Kyle - Age: 26 - Scores: [88, 92, 95] - Total Score: 275 - Average Score: 92\n",
            "Name: Lee - Age: 24 - Scores: [86, 90, 93] - Total Score: 269 - Average Score: 90\n",
            "**********************************************************************\n",
            "Name: John - Age: 20 - Scores: [80, 85, 90] - Total Score: 255 - Average Score: 85\n",
            "Name: Jane - Age: 21 - Scores: [82, 86, 89] - Total Score: 257 - Average Score: 86\n",
            "Name: Doe - Age: 22 - Scores: [84, 88, 92] - Total Score: 264 - Average Score: 88\n",
            "Name: Kim - Age: 23 - Scores: [85, 89, 91] - Total Score: 265 - Average Score: 88\n",
            "Name: Lee - Age: 24 - Scores: [86, 90, 93] - Total Score: 269 - Average Score: 90\n",
            "Name: Alex - Age: 25 - Scores: [87, 91, 94] - Total Score: 272 - Average Score: 91\n",
            "Name: Kyle - Age: 26 - Scores: [88, 92, 95] - Total Score: 275 - Average Score: 92\n",
            "Name: Jenny - Age: 27 - Scores: [89, 93, 96] - Total Score: 278 - Average Score: 93\n",
            "Name: Jake - Age: 28 - Scores: [90, 94, 97] - Total Score: 281 - Average Score: 94\n",
            "Name: Jessica - Age: 29 - Scores: [91, 95, 98] - Total Score: 284 - Average Score: 95\n",
            "Name: Josh - Age: 30 - Scores: [92, 96, 99] - Total Score: 287 - Average Score: 96\n",
            "Name: Jill - Age: 31 - Scores: [93, 97, 100] - Total Score: 290 - Average Score: 97\n",
            "**********************************************************************\n",
            "Name: Jill - Age: 31 - Scores: [93, 97, 100] - Total Score: 290 - Average Score: 97\n",
            "Name: Josh - Age: 30 - Scores: [92, 96, 99] - Total Score: 287 - Average Score: 96\n",
            "Name: Jessica - Age: 29 - Scores: [91, 95, 98] - Total Score: 284 - Average Score: 95\n",
            "Name: Jake - Age: 28 - Scores: [90, 94, 97] - Total Score: 281 - Average Score: 94\n",
            "Name: Jenny - Age: 27 - Scores: [89, 93, 96] - Total Score: 278 - Average Score: 93\n",
            "Name: Kyle - Age: 26 - Scores: [88, 92, 95] - Total Score: 275 - Average Score: 92\n",
            "Name: Alex - Age: 25 - Scores: [87, 91, 94] - Total Score: 272 - Average Score: 91\n",
            "Name: Lee - Age: 24 - Scores: [86, 90, 93] - Total Score: 269 - Average Score: 90\n",
            "Name: Kim - Age: 23 - Scores: [85, 89, 91] - Total Score: 265 - Average Score: 88\n",
            "Name: Doe - Age: 22 - Scores: [84, 88, 92] - Total Score: 264 - Average Score: 88\n",
            "Name: Jane - Age: 21 - Scores: [82, 86, 89] - Total Score: 257 - Average Score: 86\n",
            "Name: John - Age: 20 - Scores: [80, 85, 90] - Total Score: 255 - Average Score: 85\n",
            "**********************************************************************\n",
            "Name: Alex - Age: 25 - Scores: [87, 91, 94] - Total Score: 272 - Average Score: 91\n",
            "Name: Doe - Age: 22 - Scores: [84, 88, 92] - Total Score: 264 - Average Score: 88\n",
            "Name: Jake - Age: 28 - Scores: [90, 94, 97] - Total Score: 281 - Average Score: 94\n",
            "Name: Jane - Age: 21 - Scores: [82, 86, 89] - Total Score: 257 - Average Score: 86\n",
            "Name: Jenny - Age: 27 - Scores: [89, 93, 96] - Total Score: 278 - Average Score: 93\n",
            "Name: Jessica - Age: 29 - Scores: [91, 95, 98] - Total Score: 284 - Average Score: 95\n",
            "Name: Jill - Age: 31 - Scores: [93, 97, 100] - Total Score: 290 - Average Score: 97\n",
            "Name: John - Age: 20 - Scores: [80, 85, 90] - Total Score: 255 - Average Score: 85\n",
            "Name: Josh - Age: 30 - Scores: [92, 96, 99] - Total Score: 287 - Average Score: 96\n",
            "Name: Kim - Age: 23 - Scores: [85, 89, 91] - Total Score: 265 - Average Score: 88\n",
            "Name: Kyle - Age: 26 - Scores: [88, 92, 95] - Total Score: 275 - Average Score: 92\n",
            "Name: Lee - Age: 24 - Scores: [86, 90, 93] - Total Score: 269 - Average Score: 90\n"
          ]
        }
      ],
      "source": [
        "def sort_students(students, key, ascending):\n",
        "    if key == 1:\n",
        "      students.sort(key=lambda s: sum(s[2]), reverse = not ascending)\n",
        "    elif key == 2:\n",
        "      students.sort(key=lambda s: s[1], reverse=not ascending)\n",
        "    elif key == 3:\n",
        "      students.sort(key=lambda s: s[0], reverse=not ascending)\n",
        "\n",
        "\n",
        "\n",
        "print_student_record(students)\n",
        "sort_students(students, 1, True)\n",
        "print_student_record(students)\n",
        "sort_students(students, 2, False)\n",
        "print_student_record(students)\n",
        "sort_students(students, 3, True)\n",
        "print_student_record(students)\n"
      ]
    },
    {
      "cell_type": "markdown",
      "metadata": {
        "id": "CvCKxPxKXPAZ"
      },
      "source": [
        "#### <p style=\"font-family: Arial; font-size:1.4em; background-color: yellow; color:black;\"> Problem #4.2 </p>"
      ]
    },
    {
      "cell_type": "markdown",
      "metadata": {
        "id": "_fyqJ_Y2XPAZ"
      },
      "source": [
        "## Make the function \"reconstruct_list(rows, cols)\" that reconstructs the list of integers in the following way\n",
        "#### Return value: new list of list of integers\n",
        "\n",
        "- numbers = [ 1, 2, 3, 4, 5, 6, 7, 8, 9, 10, 11, 12, 13, 14, 15, 16, 17, 18, 19, 20, 21, 22, 23, 24]\n",
        "- reconstruct_list(rows, cols) will reform the list of list of integers with the number of rows and columns\n",
        "- For example, if rows = 4 and cols = 6, the function will return the following list of list of integers\n",
        "- numbers = [ [1, 2, 3, 4, 5, 6], [7, 8, 9, 10, 11, 12], [13, 14, 15, 16, 17, 18], [19, 20, 21, 22, 23, 24] ]\n",
        "- For example if rows = 2 and cols = 12,\n",
        "- numbers = [ [1, 2, 3, 4, 5, 6, 7, 8, 9, 10, 11, 12], [13, 14, 15, 16, 17, 18, 19, 20, 21, 22, 23, 24] ]\n",
        "- For example if rows = 8 and cols = 3,\n",
        "- numbers = [ [1, 2, 3], [4, 5, 6], [7, 8, 9], [10, 11, 12], [13, 14, 15], [16, 17, 18], [19, 20, 21], [22, 23, 24] ]\n",
        "```\n",
        "def reconstruct_list(numbers, rows, cols):\n",
        "    ###################################################\n",
        "    # code here\n",
        "    ###################################################\n",
        "\n",
        "```\n"
      ]
    },
    {
      "cell_type": "code",
      "execution_count": 11,
      "metadata": {
        "id": "ZAIYUm2mXPAZ",
        "colab": {
          "base_uri": "https://localhost:8080/"
        },
        "outputId": "16b4ea1d-a64c-4ddd-9dd2-e75406eccb00"
      },
      "outputs": [
        {
          "output_type": "stream",
          "name": "stdout",
          "text": [
            "[[1, 2, 3, 4, 5, 6], [7, 8, 9, 10, 11, 12], [13, 14, 15, 16, 17, 18], [19, 20, 21, 22, 23, 24]]\n"
          ]
        }
      ],
      "source": [
        "def reconstruct_list(numbers, rows, cols):\n",
        "    result = []\n",
        "    for i in range(rows):\n",
        "      start = i * cols\n",
        "      end = start + cols\n",
        "      result.append(numbers[start:end])\n",
        "    return result\n",
        "\n",
        "numbers = [ 1, 2, 3, 4, 5, 6, 7, 8, 9, 10, 11, 12, 13, 14, 15, 16, 17, 18, 19, 20, 21, 22, 23, 24]\n",
        "new_numbers = reconstruct_list(numbers, 4, 6)\n",
        "print (new_numbers)"
      ]
    },
    {
      "cell_type": "markdown",
      "metadata": {
        "id": "zm7bFHuNXPAZ"
      },
      "source": [
        "<mark> Save your file by pressing \"Ctrl+S\" or \"git commit -m \"your message\"\" </mark>"
      ]
    },
    {
      "cell_type": "markdown",
      "metadata": {
        "id": "ZnBVbGZkXPAZ"
      },
      "source": [
        "***\n",
        "\n",
        "## <p style=\"background-color: grey; color: white \"> ◼️  List </p>\n",
        "# <p style=\"font-family: Arial; font-size:1.4em;color:red;\"> 5. any() and all()\n",
        "\n"
      ]
    },
    {
      "cell_type": "markdown",
      "metadata": {
        "id": "ljKLvDE8XPAa"
      },
      "source": [
        "Use the any() and all() functions to check the elements in the list\n",
        "\n",
        "#### <p style=\"font-family: Arial; font-size:1.4em; background-color: yellow; color:black;\"> Problem #5.1 </p>\n",
        "\n",
        "#### Run the following code segment and figure out the output of the code segment"
      ]
    },
    {
      "cell_type": "code",
      "execution_count": 12,
      "metadata": {
        "id": "uiHMga_dXPAa",
        "colab": {
          "base_uri": "https://localhost:8080/"
        },
        "outputId": "99881824-0244-43d8-be22-bb36e3b343e2"
      },
      "outputs": [
        {
          "output_type": "execute_result",
          "data": {
            "text/plain": [
              "True"
            ]
          },
          "metadata": {},
          "execution_count": 12
        }
      ],
      "source": [
        "numbers = [1, 2, 3, 4, 5, 6, 7, 8, 9, 10]\n",
        "\n",
        "any( x % 2 == 0 for x in numbers)"
      ]
    },
    {
      "cell_type": "code",
      "execution_count": 13,
      "metadata": {
        "id": "mzxsOIM_XPAa",
        "colab": {
          "base_uri": "https://localhost:8080/"
        },
        "outputId": "85d9bcf4-fb5e-4390-e27c-7c3f4351ca90"
      },
      "outputs": [
        {
          "output_type": "execute_result",
          "data": {
            "text/plain": [
              "True"
            ]
          },
          "metadata": {},
          "execution_count": 13
        }
      ],
      "source": [
        "all ( x > 0 for x in numbers)"
      ]
    },
    {
      "cell_type": "markdown",
      "metadata": {
        "id": "goCWngoTXPAa"
      },
      "source": [
        "Use the any() and all() functions to check the elements in the list\n",
        "\n",
        "#### <p style=\"font-family: Arial; font-size:1.4em; background-color: yellow; color:black;\"> Problem #5.2</p>\n",
        "\n",
        "#### Make the function isSubset(numbers1, numbers2) to check if the numbers1 is a subset of numbers2\n",
        "- Return True if the numbers1 is a subset of numbers2\n",
        "- Return False otherwise\n",
        "- Use the any() and all() functions to check the elements in the list\n"
      ]
    },
    {
      "cell_type": "code",
      "execution_count": 14,
      "metadata": {
        "id": "F9WB11yUXPAa",
        "colab": {
          "base_uri": "https://localhost:8080/"
        },
        "outputId": "2d906efc-fb8e-4570-aad2-769303657d41"
      },
      "outputs": [
        {
          "output_type": "stream",
          "name": "stdout",
          "text": [
            "True\n"
          ]
        }
      ],
      "source": [
        "def isSubset(numbers1, numbers2):\n",
        "    return all(x in numbers2 for x in numbers1)\n",
        "\n",
        "\n",
        "numbers1 = [1, 2, 3]\n",
        "numbers2 = [1, 2, 3, 4, 5, 6, 7, 8, 9, 10]\n",
        "print (isSubset(numbers1, numbers2))\n",
        "\n"
      ]
    },
    {
      "cell_type": "markdown",
      "metadata": {
        "id": "BOUGHSQtXPAa"
      },
      "source": [
        "<mark> Save your file by pressing \"Ctrl+S\" or \"git commit -m \"your message\"\" </mark>"
      ]
    }
  ],
  "metadata": {
    "kernelspec": {
      "display_name": "Python 3.9.13 ('base')",
      "language": "python",
      "name": "python3"
    },
    "language_info": {
      "codemirror_mode": {
        "name": "ipython",
        "version": 3
      },
      "file_extension": ".py",
      "mimetype": "text/x-python",
      "name": "python",
      "nbconvert_exporter": "python",
      "pygments_lexer": "ipython3",
      "version": "3.9.17"
    },
    "orig_nbformat": 4,
    "vscode": {
      "interpreter": {
        "hash": "32cd87c0c55905266dc8232ebf1148f668af0d9324249c125246585210a29cd6"
      }
    },
    "colab": {
      "provenance": [],
      "include_colab_link": true
    }
  },
  "nbformat": 4,
  "nbformat_minor": 0
}