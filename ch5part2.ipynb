{
  "cells": [
    {
      "cell_type": "markdown",
      "metadata": {
        "id": "view-in-github",
        "colab_type": "text"
      },
      "source": [
        "<a href=\"https://colab.research.google.com/github/aydcereal/CS122-MYREP/blob/main/ch5part2.ipynb\" target=\"_parent\"><img src=\"https://colab.research.google.com/assets/colab-badge.svg\" alt=\"Open In Colab\"/></a>"
      ]
    },
    {
      "cell_type": "markdown",
      "metadata": {
        "id": "7Kq1qCsTjQ_5"
      },
      "source": [
        "<style>\n",
        "\th1 {\n",
        "\t--\tbackground-color: grey;\n",
        "\t\tcolor: yellow\n",
        "\t\tborder: 3px solid grey\n",
        "\n",
        "\t}\n",
        "\tp {\n",
        "\t\tbackground-color: grey;\n",
        "\t\tcolor: white\n",
        "\t\tborder: 3px solid grey\n",
        "\n",
        "\t}\n",
        "</style>\n",
        "<h1> Chapter 5 Functions</h1>"
      ]
    },
    {
      "cell_type": "markdown",
      "metadata": {
        "id": "8hPyrLpdjQ_6"
      },
      "source": [
        "***\n",
        "\n",
        "## <p style=\"background-color: grey; color: white \"> ◼️  Storing Functions in Modules </p>\n",
        "# <p style=\"font-family: Arial; font-size:1.4em;color:red;\"> 7. Storing Functions in Modules </p>\n"
      ]
    },
    {
      "cell_type": "markdown",
      "metadata": {
        "id": "-1WZ786ljQ_6"
      },
      "source": [
        "<img src=\"https://github.com/AVC-CS/PythonCH05/blob/main/images/image71.png?raw=1\" alt=\"Storing Function in modules\" width=\"50%\">\n"
      ]
    },
    {
      "cell_type": "markdown",
      "metadata": {
        "id": "qBcgCGKEjQ_7"
      },
      "source": [
        "***"
      ]
    },
    {
      "cell_type": "markdown",
      "metadata": {
        "id": "OAD3r3PsjQ_7"
      },
      "source": [
        "#### <p style=\"font-family: Arial; font-size:1.4em; background-color: yellow; color:black;\"> Problem #7.0 </p>\n",
        "\n",
        "#### Run all the cells and figure out the results of the code"
      ]
    },
    {
      "cell_type": "markdown",
      "metadata": {
        "id": "V_DNSmI1jQ_7"
      },
      "source": [
        "### Create a new file as mymodule.py\n",
        "#### And define your functions in the file\n",
        "```\n",
        "def func1():\n",
        "    print(\"This is func1\")\n",
        "```\n",
        "\n",
        "### Now, let's use the function in the module\n",
        "```\n",
        "from mymodule import func1\n",
        "func1()\n",
        "```"
      ]
    },
    {
      "cell_type": "code",
      "execution_count": 47,
      "metadata": {
        "colab": {
          "base_uri": "https://localhost:8080/"
        },
        "id": "k6n1MqO3jQ_7",
        "outputId": "e62957ce-bd4c-40bb-ac04-57c53f90b084"
      },
      "outputs": [
        {
          "output_type": "stream",
          "name": "stdout",
          "text": [
            "This is func1\n",
            "This is func2\n",
            "This is func3\n"
          ]
        }
      ],
      "source": [
        "from mymodule import func1, func2, func3\n",
        "func1()\n",
        "func2()\n",
        "func3()"
      ]
    },
    {
      "cell_type": "markdown",
      "metadata": {
        "id": "Pjz2nPTIjQ_8"
      },
      "source": [
        "***"
      ]
    },
    {
      "cell_type": "markdown",
      "metadata": {
        "id": "7O4mT2T2jQ_8"
      },
      "source": [
        "### <p style=\"font-family: Arial; font-size:1.4em; background-color: yellow; color:black;\"> Problem #7.1 </p>\n",
        "\n",
        "###Create a new file as primemodule.py that includes the following functions:\n",
        "- is_prime(n): returns True if n is a prime number, False otherwise\n",
        "- print_primes(n): prints all prime numbers less than n\n",
        "- get_primes(n): returns a list of all prime numbers less than n\n",
        "\n",
        "\n",
        "### Now, let's use the functions in the module, for example, in the main function\n",
        "```\n",
        "from primemodule import is_prime, print_primes, get_primes\n",
        "is_prime(10)\n",
        "print_primes(10)\n",
        "get_primes(10)\n",
        "```"
      ]
    },
    {
      "cell_type": "code",
      "execution_count": 48,
      "metadata": {
        "colab": {
          "base_uri": "https://localhost:8080/"
        },
        "id": "RvAm7GMkjQ_8",
        "outputId": "a00721c5-e18f-4e7f-e6ec-8a2c09460137"
      },
      "outputs": [
        {
          "output_type": "stream",
          "name": "stdout",
          "text": [
            "2\n",
            "3\n",
            "5\n",
            "7\n"
          ]
        },
        {
          "output_type": "execute_result",
          "data": {
            "text/plain": [
              "[2, 3, 5, 7]"
            ]
          },
          "metadata": {},
          "execution_count": 48
        }
      ],
      "source": [
        "from primemodule import is_prime, print_primes, get_primes\n",
        "is_prime(10)\n",
        "print_primes(10)\n",
        "get_primes(10)\n"
      ]
    },
    {
      "cell_type": "markdown",
      "metadata": {
        "id": "2WiyJQmqjQ_9"
      },
      "source": [
        "### <p style=\"font-family: Arial; font-size:1.4em; background-color: yellow; color:black;\"> Problem #7.2 </p>\n",
        "\n",
        "#### Make a function gen_lambda(number, criteria) that returns a lambda function that takes a list of numbers based on the parameter number and criteria.\n",
        "#### The criteria is one of the following:\n",
        "- \"even\": the lambda function returns the even numbers in the list\n",
        "- \"odd\": the lambda function returns the odd numbers in the list\n",
        "- \"positive\": the lambda function returns the positive numbers in the list\n",
        "- \"negative\": the lambda function returns the negative numbers in the list\n",
        "- \"zero\": the lambda function returns the number of zero numbers in the list\n",
        "\n",
        "### Now, let's use the functions in the module, for example, in the main function\n",
        "```\n",
        "even_lambda = gen_lambda(10, \"even\")\n",
        "even_lambda([1, 2, 3, 4, 5, 6, 7, 8, 9, 10])\n",
        "- it will return [2, 4, 6, 8, 10]\n",
        "\n",
        "positive_lambda = gen_lambda(10, \"positive\")\n",
        "positive_lambda([1, 2, 3, 4, 5, 6, 7, 8, 9, 10])\n",
        "- it will return [1, 2, 3, 4, 5, 6, 7, 8, 9, 10]\n",
        "\n",
        "negative_lambda = gen_lambda(10, \"negative\")\n",
        "negative_lambda([1, 2, 3, 4, 5, 6, 7, 8, 9, 10])\n",
        "- it will return []\n",
        "\n",
        "zero_lambda = gen_lambda(10, \"zero\")\n",
        "zero_lambda([1, 2, 3, 4, 0, 0, 7, 8, 9, 0])\n",
        "- it will return 3\n",
        "```"
      ]
    },
    {
      "cell_type": "markdown",
      "metadata": {
        "id": "PDA20SbfjQ_9"
      },
      "source": [
        "### Complete the code to run the main function"
      ]
    },
    {
      "cell_type": "code",
      "execution_count": 52,
      "metadata": {
        "colab": {
          "base_uri": "https://localhost:8080/"
        },
        "id": "qgnxXamEjQ_9",
        "outputId": "927a37a5-8ba4-414c-8af4-8f1165cb706e"
      },
      "outputs": [
        {
          "output_type": "execute_result",
          "data": {
            "text/plain": [
              "3"
            ]
          },
          "metadata": {},
          "execution_count": 52
        }
      ],
      "source": [
        "# complete the code to run the main function\n",
        "def gen_lambda(number, criteria):\n",
        "    if criteria == \"even\":\n",
        "        return lambda lst: [x for x in lst if x % 2 == 0]\n",
        "    elif criteria == \"positive\":\n",
        "        return lambda lst:[x for x in lst if x > 0]\n",
        "    elif criteria == \"negative\":\n",
        "        return lambda lst: [x for x in lst if x < 0]\n",
        "    elif criteria == \"zero\":\n",
        "        return lambda lst: lst.count(0)\n",
        "\n",
        "\n",
        "returned_lambda = gen_lambda(10, \"even\")\n",
        "returned_lambda([1, 2, 3, 4, 5, 6, 7, 8, 9, 10])\n",
        "# it will return [2, 4, 6, 8, 10]\n",
        "\n",
        "positive_lambda = gen_lambda(10, \"positive\")\n",
        "positive_lambda([1, 2, 3, 4, 5, 6, 7, 8, 9, 10])\n",
        "# it will return [1, 2, 3, 4, 5, 6, 7, 8, 9, 10]\n",
        "\n",
        "negative_lambda = gen_lambda(10, \"negative\")\n",
        "negative_lambda([1, 2, -3, 4, -5, -6, 7, 8, 9, 10])\n",
        "# it will return [-3, -5, -6]\n",
        "\n",
        "zero_lambda = gen_lambda(10, \"zero\")\n",
        "zero_lambda([1, 2, 3, 4, 0, 0, 7, 8, 9, 0])\n",
        "# it will return 3"
      ]
    },
    {
      "cell_type": "markdown",
      "metadata": {
        "id": "5aQJ1LYnjQ_9"
      },
      "source": [
        "***"
      ]
    },
    {
      "cell_type": "markdown",
      "metadata": {
        "id": "MZ1rE47ajQ_9"
      },
      "source": [
        "#### Don't forget to <font color='red'> **\"commit\"** </font> your work or <font color='red'> **\"save\"** </font> in Google Colab before moving to the next section."
      ]
    },
    {
      "cell_type": "markdown",
      "metadata": {
        "id": "a5A4h1JtjQ_9"
      },
      "source": [
        "***\n",
        "\n",
        "## <p style=\"background-color: grey; color: white \"> ◼️  Algorithms </p>\n",
        "# <p style=\"font-family: Arial; font-size:1.4em;color:red;\"> 8. Algorithms Development with Functions </p>\n"
      ]
    },
    {
      "cell_type": "markdown",
      "metadata": {
        "id": "SV2RWXdujQ_9"
      },
      "source": [
        "### Complete the following problems with funtions\n",
        "#### In this section, you can use the additional functions if you need."
      ]
    },
    {
      "cell_type": "markdown",
      "metadata": {
        "id": "JnU_-MczjQ_9"
      },
      "source": [
        "***\n",
        "#### <p style=\"font-family: Arial; font-size:1.4em; background-color: yellow; color:black;\"> Problem #8.1 </p>\n",
        "\n",
        "<style>\n",
        "\tp {\n",
        "\t\tbackground-color: black;\n",
        "\t\tcolor: white;\n",
        "\t\tborder: 1px solid grey;\n",
        "\t\tfont-size: 30px;\n",
        "\t}\n",
        "</style>\n",
        "<p> Make a function that receives two lists and figure out which list has the greater median value. Return the list with the greater median value. </p>\n",
        "- The definition of median is the middle value in an ordered list of numbers. If the list has an even number of elements, the median is the average of the two middle numbers.\n",
        "- Example n1 = [1, 3, 2, 4, 5, 0] n2 = [1,2,3] <br>\n",
        "- The median of n1 is 2.5 and the median of n2 is 2. So the function should return n1 and 2.5 together.\n"
      ]
    },
    {
      "cell_type": "code",
      "source": [
        "def calculate_median(lst):\n",
        "  lst.sort()\n",
        "  n = len(lst)\n",
        "  if n% 2 == 1:\n",
        "    return lst[n // 2]\n",
        "  else:\n",
        "    return (lst[n // 2 -1 ] + lst[n // 2]) / 2\n",
        "\n",
        "def compare_median(lst1, lst2):\n",
        "  median1 = calculate_median(lst1)\n",
        "  median2 = calculate_median(lst2)\n",
        "\n",
        "  if median1 > median2:\n",
        "    return lst1, median1\n",
        "  else:\n",
        "    return lst2, median2\n",
        "\n",
        "\n",
        ""
      ],
      "metadata": {
        "id": "g8tJ-Duyx51s"
      },
      "execution_count": 54,
      "outputs": []
    },
    {
      "cell_type": "markdown",
      "metadata": {
        "id": "1ScF2fWfjQ_9"
      },
      "source": [
        "```\n",
        "def compare_median(lst1, lst2):\n",
        "    # Write your code here\n",
        "    return lst1, median1\n",
        "```\n",
        "\n",
        "#### Test the function\n",
        "```\n",
        "compare_median([1, 3, 2, 4, 5, 0], [1,2,3])\n",
        "```\n"
      ]
    },
    {
      "cell_type": "code",
      "execution_count": 55,
      "metadata": {
        "id": "KSkLeSEqjQ_-",
        "colab": {
          "base_uri": "https://localhost:8080/"
        },
        "outputId": "571c7e77-0678-4549-9779-faa16a2d54a4"
      },
      "outputs": [
        {
          "output_type": "execute_result",
          "data": {
            "text/plain": [
              "([0, 1, 2, 3, 4, 5], 2.5)"
            ]
          },
          "metadata": {},
          "execution_count": 55
        }
      ],
      "source": [
        "compare_median([1, 3, 2, 4, 5, 0], [1,2,3])"
      ]
    },
    {
      "cell_type": "markdown",
      "metadata": {
        "id": "kfUkEKZTjQ_-"
      },
      "source": [
        "***\n",
        "#### <p style=\"font-family: Arial; font-size:1.4em; background-color: yellow; color:black;\"> Problem #8.2 </p>\n",
        "<style>\n",
        "\tp {\n",
        "\t\tbackground-color: black;\n",
        "\t\tcolor: white;\n",
        "\t\tborder: 1px solid grey;\n",
        "\t\tfont-size: 30px;\n",
        "\t}\n",
        "</style>\n",
        "<p> Make a function that receives a list of numbers and returns the second largest number in the list. </p>\n",
        "\n",
        "```\n",
        "Example:\n",
        " Input: [5, 2, 8, 1, 9, 3]\n",
        " Output: 8\n",
        "\n",
        " Note: If the list has less than two unique elements, the function should return None.\n",
        " ```\n",
        "\n",
        "\n",
        "\n",
        "```\n",
        "def second_largest(lst):\n",
        "    # Write your code here\n",
        "    return second_largest\n",
        "```\n",
        "\n",
        "##### Test the function\n",
        "```\n",
        "\n"
      ]
    },
    {
      "cell_type": "code",
      "source": [
        "def second_largest(lst):\n",
        "  unique_lst = list(set(lst))\n",
        "  if len(unique_lst) < 2:\n",
        "    return None\n",
        "  unique_lst.sort(reverse=True)\n",
        "  return unique_lst[1]"
      ],
      "metadata": {
        "id": "Wq0nONP80enl"
      },
      "execution_count": 56,
      "outputs": []
    },
    {
      "cell_type": "code",
      "execution_count": 57,
      "metadata": {
        "id": "JT64b7gljQ_-",
        "colab": {
          "base_uri": "https://localhost:8080/"
        },
        "outputId": "8590fe7d-7d7e-41a4-ce1b-4d70e9704c51"
      },
      "outputs": [
        {
          "output_type": "execute_result",
          "data": {
            "text/plain": [
              "8"
            ]
          },
          "metadata": {},
          "execution_count": 57
        }
      ],
      "source": [
        "second_largest([5, 2, 8, 1, 9, 3])"
      ]
    },
    {
      "cell_type": "markdown",
      "metadata": {
        "id": "4UzQaneyjQ_-"
      },
      "source": [
        "***\n",
        "#### <p style=\"font-family: Arial; font-size:1.4em; background-color: yellow; color:black;\"> Problem #8.3 </p>\n",
        "<style>\n",
        "\tp {\n",
        "\t\tbackground-color: black;\n",
        "\t\tcolor: white;\n",
        "\t\tborder: 1px solid grey;\n",
        "\t\tfont-size: 30px;\n",
        "\t}\n",
        "</style>\n",
        "<p> Make a function that receives a list of tuples which contains two integers values and return a list of tuples where the second value of each tuple is greater than the first value. </p>\n",
        "\n",
        "```\n",
        "For example:\n",
        "numbers = [(4, 1), (3, 2), (5, 0), (2, 3), (1, 4), (6, -1), (0, 5), (7, 5), (8, 4), (9, 3), (10, 2), (11, 1), (12, 0), (13, -1), (14, -2), (15, -3)]\n",
        "Output = [(2,3), (1,4), (0,5)]\n",
        "\n",
        "##### Test the function\n",
        "numbers = [(4, 1), (3, 2), (5, 0), (2, 3), (1, 4)]\n",
        "filter_tuples(numbers)\n",
        "\n",
        "```\n",
        "\n"
      ]
    },
    {
      "cell_type": "code",
      "execution_count": 62,
      "metadata": {
        "id": "9wXHK_qRjQ_-"
      },
      "outputs": [],
      "source": [
        "def filter_tuples(lst):\n",
        "  return [tup for tup in lst if tup[1] > tup[0]]"
      ]
    },
    {
      "cell_type": "code",
      "source": [
        "filter_tuples([(4, 1), (3, 2), (5, 0), (2, 3), (1, 4), (6, -1), (0, 5), (7, 5), (8, 4), (9, 3), (10, 2), (11, 1), (12, 0), (13, -1), (14, -2), (15, -3)])"
      ],
      "metadata": {
        "colab": {
          "base_uri": "https://localhost:8080/"
        },
        "id": "SjuLAfA81zhv",
        "outputId": "b7e6a2cc-5481-47ca-88f3-e9d3d7a3100b"
      },
      "execution_count": 63,
      "outputs": [
        {
          "output_type": "execute_result",
          "data": {
            "text/plain": [
              "[(2, 3), (1, 4), (0, 5)]"
            ]
          },
          "metadata": {},
          "execution_count": 63
        }
      ]
    },
    {
      "cell_type": "markdown",
      "metadata": {
        "id": "RHmBgkI5jQ_-"
      },
      "source": [
        "***\n",
        "#### <p style=\"font-family: Arial; font-size:1.4em; background-color: yellow; color:black;\"> Problem #8.4 </p>\n",
        "<style>\n",
        "\tp {\n",
        "\t\tbackground-color: black;\n",
        "\t\tcolor: white;\n",
        "\t\tborder: 1px solid grey;\n",
        "\t\tfont-size: 30px;\n",
        "\t}\n",
        "</style>\n",
        "<p> Make a function that receives a list of tuples which contains two integers values and sort the list based on the gap of two values in each tuple. The tuple with the smallest gap should be the first one in the sorted list. If the gap is the same, then sort based on the first value in the tuple. </p>\n",
        "\n",
        "\n",
        "```\n",
        "For example:\n",
        "numbers = [(4, 1), (3, 2), (5, 0), (2, 3), (1, 4)]\n",
        "Output = [(3, 2), (2,3 ), (1,4), (4,1), (5,0)]\n",
        "\n",
        "\n",
        "##### Test the function\n",
        "sort_tuples(numbers)\n",
        "- Expected output: [(3, 2), (2,3 ), (1,4), (4,1), (5,0)]\n",
        "```\n",
        "\n"
      ]
    },
    {
      "cell_type": "code",
      "execution_count": 67,
      "metadata": {
        "id": "JFdz-BxFjQ_-"
      },
      "outputs": [],
      "source": [
        "def sort_tuples(lst):\n",
        "  return sorted(lst, key=lambda t: (abs(t[1] -t[0]), t[0])     )\n",
        "\n"
      ]
    },
    {
      "cell_type": "code",
      "execution_count": 68,
      "metadata": {
        "id": "Ij6guQFgjQ_-",
        "colab": {
          "base_uri": "https://localhost:8080/"
        },
        "outputId": "7ca3ab69-4191-405a-9e9b-52fe8cd50af7"
      },
      "outputs": [
        {
          "output_type": "execute_result",
          "data": {
            "text/plain": [
              "[(2, 3), (3, 2), (1, 4), (4, 1), (5, 0)]"
            ]
          },
          "metadata": {},
          "execution_count": 68
        }
      ],
      "source": [
        "sort_tuples([(4, 1), (3, 2), (5, 0), (2, 3), (1, 4)])"
      ]
    },
    {
      "cell_type": "markdown",
      "metadata": {
        "id": "LMzi9hNejQ_-"
      },
      "source": [
        "***\n",
        "#### <p style=\"font-family: Arial; font-size:1.4em; background-color: yellow; color:black;\"> Problem #8.5 </p>\n",
        "<style>\n",
        "\tp {\n",
        "\t\tcolor: white;\n",
        "\t\tborder: 1px solid grey;\n",
        "\t\tfont-size: 28;\n",
        "\t}\n",
        "</style>\n",
        "<p> Make a function that receives a string value and returns the encoded string by shifting each letter by \"seed\" value. </p>\n",
        "\n",
        "- If the letter is not a letter, then keep it as it is.\n",
        "- If the lettter + seed is greater than 'z', then wrap around to the beginning of the alphabet.\n",
        "\n",
        "```\n",
        "- For example, if the seed is 2, then 'a' will be 'c', 'b' will be 'd', ..., 'z' will be 'b'.\n",
        "\n",
        "##### Test the function\n",
        "```\n",
        "encode_string(\"hello\", 2) <br>\n",
        "The expected output is \"jgnnq\"\n",
        "```\n",
        "\n"
      ]
    },
    {
      "cell_type": "code",
      "execution_count": 69,
      "metadata": {
        "id": "C46xxiccjQ_-"
      },
      "outputs": [],
      "source": [
        "def encode_string(s, seed):\n",
        "  encoded = []\n",
        "\n",
        "  for char in s:\n",
        "    if char.isalpha():\n",
        "      start = ord('a') if char.islower() else ord('A')\n",
        "      shifted_char = chr(start + (ord(char) - start + seed) %26)\n",
        "      encoded.append(shifted_char)\n",
        "    else:\n",
        "      encoded.append(char)\n",
        "\n",
        "  return ''.join(encoded)\n"
      ]
    },
    {
      "cell_type": "code",
      "source": [
        "encode_string(\"hello\", 2)"
      ],
      "metadata": {
        "colab": {
          "base_uri": "https://localhost:8080/",
          "height": 35
        },
        "id": "V_S1MjX_4MbY",
        "outputId": "c730b69c-5084-4546-8536-b288c5a0b874"
      },
      "execution_count": 70,
      "outputs": [
        {
          "output_type": "execute_result",
          "data": {
            "text/plain": [
              "'jgnnq'"
            ],
            "application/vnd.google.colaboratory.intrinsic+json": {
              "type": "string"
            }
          },
          "metadata": {},
          "execution_count": 70
        }
      ]
    },
    {
      "cell_type": "markdown",
      "metadata": {
        "id": "11GalhCojQ__"
      },
      "source": [
        "***"
      ]
    },
    {
      "cell_type": "markdown",
      "metadata": {
        "id": "9YBUrejXjQ__"
      },
      "source": [
        "***\n",
        "#### <p style=\"font-family: Arial; font-size:1.4em; background-color: yellow; color:black;\"> Problem #8.6 </p>\n",
        "<style>\n",
        " \tp {\n",
        " \t\tcolor: white;\n",
        " \t\tborder: 1px solid grey;\n",
        " \t\tfont-size: 28;\n",
        " \t}\n",
        "</style>\n",
        "<p> Make a function that takes a list of lists as input and performs the following operations: </p>\n",
        "\n",
        "1. Calculate the sum of each inner list\n",
        "2. Find the maximum sum among all inner lists\n",
        "3. Return a tuple containing:\n",
        "   a) The list of sums\n",
        "   b) The index of the inner list with the maximum sum\n",
        "   c) The maximum sum itself\n",
        "\n",
        "For example:\n",
        "```python\n",
        "input_list = [[1, 2, 3], [4, 5], [6, 7, 8, 9]]\n",
        "result = find_max_sum(input_list)\n",
        "print(result)\n",
        "Expected output: ([6, 9, 30], 2, 30)\n",
        "```\n",
        "\n",
        "##### Test the function\n",
        "```\n",
        "find_max_sum([[1, 2, 3], [4, 5], [6, 7, 8, 9]])\n",
        "The expected output is ([6, 9, 30], 2, 30)\n",
        "```\n",
        "\n"
      ]
    },
    {
      "cell_type": "code",
      "execution_count": 71,
      "metadata": {
        "id": "rQJITXR3jQ__"
      },
      "outputs": [],
      "source": [
        "def find_max_sum(input_list):\n",
        "  sums = [sum(inner_list) for inner_list in input_list]\n",
        "\n",
        "  max_sum = max(sums)\n",
        "  max_index = sums.index(max_sum)\n",
        "\n",
        "  return(sums, max_index, max_sum)"
      ]
    },
    {
      "cell_type": "code",
      "source": [
        "find_max_sum([[1, 2, 3], [4, 5], [6, 7, 8, 9]])"
      ],
      "metadata": {
        "id": "qW14JRek44Uv",
        "outputId": "488d500d-2cfc-461d-d59e-d5e7e3698223",
        "colab": {
          "base_uri": "https://localhost:8080/"
        }
      },
      "execution_count": 72,
      "outputs": [
        {
          "output_type": "execute_result",
          "data": {
            "text/plain": [
              "([6, 9, 30], 2, 30)"
            ]
          },
          "metadata": {},
          "execution_count": 72
        }
      ]
    },
    {
      "cell_type": "markdown",
      "metadata": {
        "id": "4Rx-8N7ojQ__"
      },
      "source": [
        "***"
      ]
    },
    {
      "cell_type": "markdown",
      "metadata": {
        "id": "uJpzR7ZKjQ__"
      },
      "source": [
        "<p style=\"font-family: Arial; font-size:1.4em; background-color: yellow; color:black;\"> Problem #8.7 </p>\n",
        "<style>\n",
        " \tp {\n",
        " \t\tcolor: white;\n",
        " \t\tborder: 1px solid grey;\n",
        " \t\tfont-size: 28;\n",
        " \t}\n",
        "</style>\n",
        "<p> Make a function that takes a list that contains a integer value and the size of the new sub list. The function returns a list of sub lists with the size of the new sub list. </p>\n",
        "\n",
        "- For example, if the input list is [1, 2, 3, 4, 5, 6, 7, 8, 9, 10] and the size of the new sub list is 3, the function returns [[1, 2, 3], [4, 5, 6], [7, 8, 9], [10]].\n",
        "- Another example, if the input list is [1, 2, 3, 4, 5, 6, 7, 8, 9, 10, 11] and the size of the new sub list is 6, the function returns [[1, 2, 3, 4, 5, 6], [7, 8, 9, 10, 11]].\n",
        "\n",
        "\n",
        "\n",
        "### Function call example,\n",
        "```\n",
        "sub_lists([1, 2, 3, 4, 5, 6, 7, 8, 9, 10], 3)\n",
        "```\n",
        "### Expected output:\n",
        "```\n",
        "[[1, 2, 3], [4, 5, 6], [7, 8, 9], [10]]\n",
        "```\n",
        "***\n",
        "\n",
        "\n"
      ]
    },
    {
      "cell_type": "code",
      "execution_count": null,
      "metadata": {
        "id": "QNYCnw4ZjQ__"
      },
      "outputs": [],
      "source": [
        "# complete the code"
      ]
    },
    {
      "cell_type": "markdown",
      "metadata": {
        "id": "1mQ-Qk_XjQ__"
      },
      "source": [
        "***"
      ]
    },
    {
      "cell_type": "markdown",
      "metadata": {
        "id": "SPlt8qCyjQ__"
      },
      "source": [
        "<p style=\"font-family: Arial; font-size:1.4em; background-color: yellow; color:black;\"> Problem #8.8 </p>\n",
        "<style>\n",
        " \tp {\n",
        " \t\tcolor: white;\n",
        " \t\tborder: 1px solid grey;\n",
        " \t\tfont-size: 28;\n",
        " \t}\n",
        "</style>\n",
        "<p> Make a function that takes a list of lists as input and performs the following operations: </p>\n",
        "\n",
        "- get the average of the length of the lists.\n",
        "- re-arrange the list based on the average\n",
        "- For example, if the input list is [[1, 2, 3], [4, 5], [6, 7, 8, 9]], the average of the length of the lists is 3.\n",
        "- The list will be rearranged to [[1, 2, 3], [4, 5, 6], [7, 8, 9]]\n",
        "- If the total number of elements is not divisible by the average, the last list will be shorter than the others.\n",
        "- For example, if the input list is [[1, 2, 3], [4, 5], [6, 7, 8, 9, 10]], the average of the length of the lists is 3.\n",
        "- The list will be rearranged to [[1, 2, 3], [4, 5, 6], [7, 8, 9], [10]].\n",
        "\n",
        "\n"
      ]
    },
    {
      "cell_type": "code",
      "execution_count": null,
      "metadata": {
        "id": "QWASmMD9jQ__"
      },
      "outputs": [],
      "source": [
        "# complete the code"
      ]
    },
    {
      "cell_type": "markdown",
      "metadata": {
        "id": "dsd_LThwjRAA"
      },
      "source": [
        "***"
      ]
    }
  ],
  "metadata": {
    "colab": {
      "provenance": [],
      "include_colab_link": true
    },
    "kernelspec": {
      "display_name": "base",
      "language": "python",
      "name": "python3"
    },
    "language_info": {
      "codemirror_mode": {
        "name": "ipython",
        "version": 3
      },
      "file_extension": ".py",
      "mimetype": "text/x-python",
      "name": "python",
      "nbconvert_exporter": "python",
      "pygments_lexer": "ipython3",
      "version": "3.12.7"
    },
    "orig_nbformat": 4
  },
  "nbformat": 4,
  "nbformat_minor": 0
}