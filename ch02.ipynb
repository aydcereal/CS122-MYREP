{
  "cells": [
    {
      "cell_type": "markdown",
      "metadata": {
        "id": "8AMC9HiK0M-Z"
      },
      "source": [
        "# <p style=\"font-family: Arial; font-size:2.4em;color:red;\"> Contents </p>\n",
        "*[Section 1. Arithmetic Operator](ch02.ipynb/#section1) <br>\n",
        "*[Section 2. Variables ](#section2) <br>\n",
        "*[Section 3. Output in Python ](#section3) <br>\n",
        "*[Section 4. Input Statement ](#section4) <br>\n",
        "*[Section 5. String ](#section5) <br>\n",
        "***"
      ]
    },
    {
      "cell_type": "markdown",
      "metadata": {
        "id": "W_YPRFiW0M-a"
      },
      "source": [
        "***\n",
        "<a id=\"section1\"></a>\n",
        "# <p style=\"font-family: Arial; font-size:2.4em;color:red;\"> 1. Arithmetic Operator </p>\n",
        "### <p style=\"font-family: Arial; font-size:1.4em;color:gold;\">  +, -, *, / , // </p>\n"
      ]
    },
    {
      "cell_type": "markdown",
      "metadata": {
        "id": "ntMgHfHO0M-a"
      },
      "source": [
        "### Run all the blow code cells and see the results (click the cell and press \"ctrl-enter\" to run it)"
      ]
    },
    {
      "cell_type": "markdown",
      "metadata": {
        "id": "nVocm96J0M-a"
      },
      "source": [
        "#### **Problem #1.0**\n",
        "\n",
        "Run the below code cell and figure out the data type of values\n",
        "<br>\n"
      ]
    },
    {
      "cell_type": "code",
      "execution_count": null,
      "metadata": {
        "colab": {
          "base_uri": "https://localhost:8080/"
        },
        "id": "5atcUJDT0M-b",
        "outputId": "64062779-95c9-4e17-ec53-f83467afddfd"
      },
      "outputs": [
        {
          "output_type": "execute_result",
          "data": {
            "text/plain": [
              "30"
            ]
          },
          "metadata": {},
          "execution_count": 1
        }
      ],
      "source": [
        "10 + 20"
      ]
    },
    {
      "cell_type": "code",
      "execution_count": null,
      "metadata": {
        "colab": {
          "base_uri": "https://localhost:8080/"
        },
        "id": "O24i8nq90M-b",
        "outputId": "f2921cd0-ab18-477e-ff1e-10a4f31b16c4"
      },
      "outputs": [
        {
          "output_type": "execute_result",
          "data": {
            "text/plain": [
              "30.0"
            ]
          },
          "metadata": {},
          "execution_count": 2
        }
      ],
      "source": [
        "10.0 + 20.0"
      ]
    },
    {
      "cell_type": "code",
      "execution_count": null,
      "metadata": {
        "colab": {
          "base_uri": "https://localhost:8080/"
        },
        "id": "jSsYM5_U0M-b",
        "outputId": "2258b086-4eb2-4659-8f5f-d28be92a49b3"
      },
      "outputs": [
        {
          "output_type": "execute_result",
          "data": {
            "text/plain": [
              "200"
            ]
          },
          "metadata": {},
          "execution_count": 3
        }
      ],
      "source": [
        "10 * 20"
      ]
    },
    {
      "cell_type": "code",
      "execution_count": null,
      "metadata": {
        "colab": {
          "base_uri": "https://localhost:8080/"
        },
        "id": "qVYwFtnO0M-b",
        "outputId": "9f339a26-f5e4-4036-8fdf-f83994ef514c"
      },
      "outputs": [
        {
          "output_type": "execute_result",
          "data": {
            "text/plain": [
              "0.5"
            ]
          },
          "metadata": {},
          "execution_count": 4
        }
      ],
      "source": [
        "10 / 20"
      ]
    },
    {
      "cell_type": "code",
      "execution_count": null,
      "metadata": {
        "colab": {
          "base_uri": "https://localhost:8080/"
        },
        "id": "AZ-BbvcU0M-c",
        "outputId": "dd997c1e-3005-48ae-9f03-d9803cb64073"
      },
      "outputs": [
        {
          "output_type": "execute_result",
          "data": {
            "text/plain": [
              "0"
            ]
          },
          "metadata": {},
          "execution_count": 5
        }
      ],
      "source": [
        "10 // 20"
      ]
    },
    {
      "cell_type": "code",
      "execution_count": null,
      "metadata": {
        "colab": {
          "base_uri": "https://localhost:8080/"
        },
        "id": "td0b8WPt0M-c",
        "outputId": "585edfe7-ddc7-4403-fce1-388176702e0f"
      },
      "outputs": [
        {
          "output_type": "execute_result",
          "data": {
            "text/plain": [
              "2"
            ]
          },
          "metadata": {},
          "execution_count": 6
        }
      ],
      "source": [
        "5 * 10 // 20"
      ]
    },
    {
      "cell_type": "code",
      "execution_count": null,
      "metadata": {
        "colab": {
          "base_uri": "https://localhost:8080/"
        },
        "id": "TFCfHK6_0M-c",
        "outputId": "086de140-3fe3-43f8-d062-7c3c3b72346c"
      },
      "outputs": [
        {
          "output_type": "execute_result",
          "data": {
            "text/plain": [
              "150"
            ]
          },
          "metadata": {},
          "execution_count": 7
        }
      ],
      "source": [
        "5 * 30 + 10 // 20"
      ]
    },
    {
      "cell_type": "code",
      "execution_count": null,
      "metadata": {
        "colab": {
          "base_uri": "https://localhost:8080/"
        },
        "id": "fN8vI-lL0M-c",
        "outputId": "66e983f6-2d2d-4060-bfe0-82b956287dd1"
      },
      "outputs": [
        {
          "output_type": "execute_result",
          "data": {
            "text/plain": [
              "75.0"
            ]
          },
          "metadata": {},
          "execution_count": 8
        }
      ],
      "source": [
        "5 * 30 / 2"
      ]
    },
    {
      "cell_type": "code",
      "execution_count": null,
      "metadata": {
        "colab": {
          "base_uri": "https://localhost:8080/"
        },
        "id": "ydkxNuPw0M-c",
        "outputId": "0f8cdc41-620a-48a6-bfa7-d7e6898b162f"
      },
      "outputs": [
        {
          "output_type": "execute_result",
          "data": {
            "text/plain": [
              "3"
            ]
          },
          "metadata": {},
          "execution_count": 9
        }
      ],
      "source": [
        "75 // 20"
      ]
    },
    {
      "cell_type": "code",
      "execution_count": null,
      "metadata": {
        "colab": {
          "base_uri": "https://localhost:8080/"
        },
        "id": "CHLpT4fe0M-c",
        "outputId": "42ac12d5-76b4-4be5-aa68-a7a2b04d4d76"
      },
      "outputs": [
        {
          "output_type": "execute_result",
          "data": {
            "text/plain": [
              "3.0"
            ]
          },
          "metadata": {},
          "execution_count": 10
        }
      ],
      "source": [
        "5 * 30 / 2 // 20"
      ]
    },
    {
      "cell_type": "markdown",
      "metadata": {
        "id": "wJM58pmW0M-c"
      },
      "source": [
        "#### **Problem #1.1**\n",
        "\n",
        "Complete the follow code cells\n",
        "<br>\n"
      ]
    },
    {
      "cell_type": "markdown",
      "metadata": {
        "id": "96jNPL-K0M-c"
      },
      "source": [
        "#### Let's multiply 24.0 and 25.4"
      ]
    },
    {
      "cell_type": "code",
      "execution_count": null,
      "metadata": {
        "colab": {
          "base_uri": "https://localhost:8080/"
        },
        "id": "pNb6PPrT0M-d",
        "outputId": "7ffa1178-692e-44d1-e8f4-701af0056bd5"
      },
      "outputs": [
        {
          "output_type": "execute_result",
          "data": {
            "text/plain": [
              "609.5999999999999"
            ]
          },
          "metadata": {},
          "execution_count": 12
        }
      ],
      "source": [
        "24.0 * 25.4"
      ]
    },
    {
      "cell_type": "markdown",
      "metadata": {
        "id": "vMEKAh_E0M-d"
      },
      "source": [
        "#### **Problem #1.2**"
      ]
    },
    {
      "cell_type": "markdown",
      "metadata": {
        "id": "vD42eUMf0M-d"
      },
      "source": [
        "#### Let's divide 23 by 2"
      ]
    },
    {
      "cell_type": "code",
      "execution_count": null,
      "metadata": {
        "colab": {
          "base_uri": "https://localhost:8080/"
        },
        "id": "6ktw_Pml0M-d",
        "outputId": "97a9bfbe-284e-4cba-8bba-3ca4b438f426"
      },
      "outputs": [
        {
          "output_type": "execute_result",
          "data": {
            "text/plain": [
              "11.5"
            ]
          },
          "metadata": {},
          "execution_count": 13
        }
      ],
      "source": [
        "23 / 2"
      ]
    },
    {
      "cell_type": "markdown",
      "metadata": {
        "id": "tfs3Nu5_0M-d"
      },
      "source": [
        "#### **Problem #1.3**"
      ]
    },
    {
      "cell_type": "markdown",
      "metadata": {
        "id": "h34jVT9k0M-d"
      },
      "source": [
        "#### Let's divide 100 by 20. Show the result as an integer value like 5, not 5.0"
      ]
    },
    {
      "cell_type": "code",
      "execution_count": null,
      "metadata": {
        "colab": {
          "base_uri": "https://localhost:8080/"
        },
        "id": "l356sRha0M-d",
        "outputId": "3d91d680-4b8c-4602-d0e0-e40dbe63ed8b"
      },
      "outputs": [
        {
          "output_type": "execute_result",
          "data": {
            "text/plain": [
              "5"
            ]
          },
          "metadata": {},
          "execution_count": 15
        }
      ],
      "source": [
        "100 // 20"
      ]
    },
    {
      "cell_type": "markdown",
      "metadata": {
        "id": "UL-7X4Eq0M-d"
      },
      "source": [
        "#### **Problem #1.4**"
      ]
    },
    {
      "cell_type": "markdown",
      "metadata": {
        "id": "b83QK_Ur0M-d"
      },
      "source": [
        "### Explain how you can get the integer result 5 from 100 divide by 20"
      ]
    },
    {
      "cell_type": "markdown",
      "metadata": {
        "id": "YhIYdvDC0M-e"
      },
      "source": [
        "By using the // operator instead of /\n"
      ]
    },
    {
      "cell_type": "markdown",
      "metadata": {
        "id": "Ulxip9QM0M-e"
      },
      "source": [
        "## 👉 Please save<font color='red'> **(ctrl-s or cmd-s)** </font> your file to make a checkpoint."
      ]
    },
    {
      "cell_type": "markdown",
      "metadata": {
        "id": "QubrMYeF0M-e"
      },
      "source": [
        "***\n",
        "<a id=\"section2\"></a>\n",
        "# <p style=\"font-family: Arial; font-size:2.4em;color:red;\"> 2. Variables</p>\n",
        "\n",
        "#### Concepts:\n",
        "<blockquote> A variable is a name that represents a value stored in the computer’s memory.\n",
        "</blockquote>\n"
      ]
    },
    {
      "cell_type": "markdown",
      "metadata": {
        "id": "0iTUbZPD0M-e"
      },
      "source": [
        "<blockquote>\n",
        "An assignment statement is written in the following general format:\n",
        "variable = expression\n",
        "</blockquote>"
      ]
    },
    {
      "cell_type": "code",
      "execution_count": null,
      "metadata": {
        "id": "2u7EuOlc0M-e"
      },
      "outputs": [],
      "source": [
        "width = 10\n",
        "length = 5\n",
        "\n",
        "length = 10"
      ]
    },
    {
      "cell_type": "code",
      "execution_count": null,
      "metadata": {
        "colab": {
          "base_uri": "https://localhost:8080/",
          "height": 35
        },
        "id": "R3gvV0sg0M-e",
        "outputId": "bc5328c2-697e-4f17-edcd-464643686980"
      },
      "outputs": [
        {
          "output_type": "execute_result",
          "data": {
            "text/plain": [
              "'Python'"
            ],
            "application/vnd.google.colaboratory.intrinsic+json": {
              "type": "string"
            }
          },
          "metadata": {},
          "execution_count": 17
        }
      ],
      "source": [
        "class_name = 'Python'\n",
        "class_name"
      ]
    },
    {
      "cell_type": "markdown",
      "metadata": {
        "id": "uY1FciD-0M-e"
      },
      "source": [
        "#### **Problem #2.0**\n",
        "\n",
        "Run the below code cell and figure out the data type of values\n",
        "<br>\n"
      ]
    },
    {
      "cell_type": "code",
      "execution_count": null,
      "metadata": {
        "colab": {
          "base_uri": "https://localhost:8080/"
        },
        "id": "U2fLfD-O0M-e",
        "outputId": "202d2ab3-6f80-4357-9581-e5e069d2bf14"
      },
      "outputs": [
        {
          "output_type": "execute_result",
          "data": {
            "text/plain": [
              "int"
            ]
          },
          "metadata": {},
          "execution_count": 18
        }
      ],
      "source": [
        "type(width)"
      ]
    },
    {
      "cell_type": "code",
      "execution_count": null,
      "metadata": {
        "colab": {
          "base_uri": "https://localhost:8080/"
        },
        "id": "mwAEO0Rt0M-f",
        "outputId": "59dcadb0-a656-4310-e047-c1abb5cc8908"
      },
      "outputs": [
        {
          "output_type": "execute_result",
          "data": {
            "text/plain": [
              "str"
            ]
          },
          "metadata": {},
          "execution_count": 21
        }
      ],
      "source": [
        "\n",
        "type(class_name)"
      ]
    },
    {
      "cell_type": "code",
      "execution_count": null,
      "metadata": {
        "colab": {
          "base_uri": "https://localhost:8080/"
        },
        "id": "gNlYBzo00M-f",
        "outputId": "9fcb02c2-83e1-490e-c43a-0accc34b98a5"
      },
      "outputs": [
        {
          "output_type": "stream",
          "name": "stdout",
          "text": [
            "Hello World\n"
          ]
        }
      ],
      "source": [
        "print (\"Hello World\")"
      ]
    },
    {
      "cell_type": "markdown",
      "metadata": {
        "id": "plA2TURW0M-f"
      },
      "source": [
        "#### **Problem #2.1**\n",
        "\n",
        "\n",
        "let's create a variable called `my_school` and assign a string (anything inside quotes: `\"...\"`) to it with your school's name.\n",
        "\n",
        "<br>\n",
        "\n",
        "**NOTE**: We will output the variable's value by writing the name of the variable on a line of its own."
      ]
    },
    {
      "cell_type": "code",
      "execution_count": null,
      "metadata": {
        "colab": {
          "base_uri": "https://localhost:8080/",
          "height": 35
        },
        "id": "rXXLVMHB0M-f",
        "outputId": "3e5ce893-9a63-48f3-94be-a266789bd663"
      },
      "outputs": [
        {
          "output_type": "execute_result",
          "data": {
            "text/plain": [
              "'AVC'"
            ],
            "application/vnd.google.colaboratory.intrinsic+json": {
              "type": "string"
            }
          },
          "metadata": {},
          "execution_count": 22
        }
      ],
      "source": [
        "my_school = \"AVC\"\n",
        "\n",
        "my_school"
      ]
    },
    {
      "cell_type": "markdown",
      "metadata": {
        "id": "fnRylfRA0M-f"
      },
      "source": [
        "#### **Problem #2.2**\n",
        "\n",
        "Let's create <font color=\"red\"> two varibles </font> to hold two scores 100 and 90 repectivelu and show the sum of two scores.\n",
        "<br>\n",
        "\n",
        "**NOTE**: We will output the variable's value by writing the name of the variable on a line of its own."
      ]
    },
    {
      "cell_type": "code",
      "execution_count": null,
      "metadata": {
        "colab": {
          "base_uri": "https://localhost:8080/"
        },
        "id": "Fwk_s4BM0M-f",
        "outputId": "9f535ca6-57c9-4fe1-be88-60f271417851"
      },
      "outputs": [
        {
          "output_type": "stream",
          "name": "stdout",
          "text": [
            "190\n"
          ]
        }
      ],
      "source": [
        "\n",
        "score1 = 100\n",
        "score2 = 90\n",
        "print (score1 + score2)"
      ]
    },
    {
      "cell_type": "markdown",
      "metadata": {
        "id": "XeEUVT3N0M-i"
      },
      "source": [
        "#### **Problem #2.3**\n",
        "\n",
        "Let's create the <font color=\"red\"> **varibles** </font> to hold two values,  <br>\n",
        "100  <br>\n",
        "50.99   <br>\n",
        "<br>\n",
        "The variable names can be any names you want\n",
        "Then, show the summation of two variables.\n",
        "\n",
        "**NOTE**: We will output the variable's value by writing the name of the variable on a line of its own."
      ]
    },
    {
      "cell_type": "code",
      "execution_count": null,
      "metadata": {
        "colab": {
          "base_uri": "https://localhost:8080/"
        },
        "id": "5gOBKmOQ0M-i",
        "outputId": "66d8155c-4ad2-479e-d55e-1a2c41fd5b01"
      },
      "outputs": [
        {
          "output_type": "stream",
          "name": "stdout",
          "text": [
            "150.99\n"
          ]
        }
      ],
      "source": [
        "\n",
        "sum1 = 100\n",
        "sum2 = 50.99\n",
        "print(sum1 + sum2)\n"
      ]
    },
    {
      "cell_type": "markdown",
      "metadata": {
        "id": "nQ1s5U7j0M-j"
      },
      "source": [
        "#### **Problem #2.4**\n",
        "\n",
        "Let's create the <font color=\"red\"> **varibles** </font> to hold two values,  <br>\n",
        "<br><mark style=\"background-color:green; color:white\">\n",
        "Python  <br>\n",
        "Programming   <br>\n",
        "</mark>\n",
        "<br> </font>\n",
        "The variable names can be any names you want\n",
        "Then, show the summation of two variables.\n",
        "\n",
        "**NOTE**: We will output the variable's value by writing the name of the variable on a line of its own."
      ]
    },
    {
      "cell_type": "code",
      "execution_count": null,
      "metadata": {
        "colab": {
          "base_uri": "https://localhost:8080/"
        },
        "id": "KDhJVXgZ0M-j",
        "outputId": "8ecf12b9-7910-48f6-a629-9f0886f9dae6"
      },
      "outputs": [
        {
          "output_type": "stream",
          "name": "stdout",
          "text": [
            "Phyton Programming\n"
          ]
        }
      ],
      "source": [
        "\n",
        "value1 = \"Phyton\"\n",
        "value2 = \"Programming\"\n",
        "print(value1 +\" \" + value2)"
      ]
    },
    {
      "cell_type": "markdown",
      "metadata": {
        "id": "9woACnFz0M-j"
      },
      "source": [
        "#### **Problem #2.5**\n",
        "\n",
        "#### make the expression to calculate the following math expression\n",
        "#### Set 30 to C and Solve the F value\n",
        "![Math Expression](https://wecapable.com/tools/celsius-to-fahrenheit/celsius-to-fahrenheit-conversion-formula-igetanswers.jpg)\n",
        "\n",
        "<br> Show the answer for F\n"
      ]
    },
    {
      "cell_type": "code",
      "execution_count": null,
      "metadata": {
        "colab": {
          "base_uri": "https://localhost:8080/"
        },
        "id": "H4YRyy1p0M-j",
        "outputId": "ee6fce91-438d-41af-d75a-6e28ed71588b"
      },
      "outputs": [
        {
          "output_type": "stream",
          "name": "stdout",
          "text": [
            "86.0\n"
          ]
        }
      ],
      "source": [
        "C = 30\n",
        "F = (9/5* C) + 32\n",
        "print(F)"
      ]
    },
    {
      "cell_type": "markdown",
      "metadata": {
        "id": "QLqotE4k0M-j"
      },
      "source": [
        "#### **Problem #2.6**\n",
        "\n",
        "#### Set the price value $200 to your variable (any variable name you want)\n",
        "#### Calculate the 20% off price\n",
        "#### Show the final price\n",
        "\n"
      ]
    },
    {
      "cell_type": "code",
      "execution_count": null,
      "metadata": {
        "colab": {
          "base_uri": "https://localhost:8080/"
        },
        "id": "C0sl3Rk60M-j",
        "outputId": "1ecc988e-96ad-42db-b37a-2861a1857730"
      },
      "outputs": [
        {
          "output_type": "stream",
          "name": "stdout",
          "text": [
            "160.0\n"
          ]
        }
      ],
      "source": [
        "price = 200\n",
        "discounted= 200 * .80\n",
        "print(discounted)\n"
      ]
    },
    {
      "cell_type": "markdown",
      "metadata": {
        "id": "XJAZEYKI0M-j"
      },
      "source": [
        "#### **Problem #2.7**\n",
        "\n",
        "#### Create three integer variables to hold the following values\n",
        "##### 100\n",
        "##### 50\n",
        "##### 200\n",
        "\n",
        "#### Calculate the average of three values\n",
        "#### Show the average\n",
        "\n"
      ]
    },
    {
      "cell_type": "code",
      "execution_count": null,
      "metadata": {
        "colab": {
          "base_uri": "https://localhost:8080/"
        },
        "id": "_e_AeOgJ0M-j",
        "outputId": "df888d92-0d71-4936-e2ad-5de9f5031df9"
      },
      "outputs": [
        {
          "output_type": "stream",
          "name": "stdout",
          "text": [
            "116.66666666666667\n"
          ]
        }
      ],
      "source": [
        "num1 = 100\n",
        "num2 = 50\n",
        "num3 = 200\n",
        "print((num1 + num2 + num3)/3)"
      ]
    },
    {
      "cell_type": "markdown",
      "metadata": {
        "id": "29r8Sis40M-k"
      },
      "source": [
        "## 👉 Please save<font color='red'> **(ctrl-s or cmd-s)** </font> your file to make a checkpoint."
      ]
    },
    {
      "cell_type": "markdown",
      "metadata": {
        "id": "NfX9VQBf0M-k"
      },
      "source": [
        "***\n",
        "<a id='section3'></a>\n",
        "# <p style=\"font-family: Arial; font-size:2.4em;color:Red;\"> 3. Output in Python </p>\n"
      ]
    },
    {
      "cell_type": "markdown",
      "metadata": {
        "id": "ngrUZaXO0M-k"
      },
      "source": [
        "### Simple Formatting Numbers\n",
        "\n",
        "\n",
        "- `Simple way to print with format:`\n",
        "\n",
        "\t- <a href=\"https://docs.python.org/3/library/functions.html?highlight=format#format\"> format(value[, format_spec])\n",
        "\t</a>\n",
        "\t- <a href=\"https://docs.python.org/3/library/string.html#formatspec\"> Format Specification </a>\n",
        "\n",
        "![Format Specifier](https://nimbus-screenshots.s3.amazonaws.com/s/cc0c0ec7efc3aba9bc4406f053b8fdf4.png)\n"
      ]
    },
    {
      "cell_type": "markdown",
      "metadata": {
        "id": "BXfCPxlI0M-k"
      },
      "source": [
        "#### <font color='red'> **Problem #3.1** </font>\n",
        "\n",
        "#### Run all the below cells and figure out the output format symbols\n",
        "\n"
      ]
    },
    {
      "cell_type": "markdown",
      "metadata": {
        "id": "veahHJA20M-k"
      },
      "source": [
        "### <mark style=\"background-color:green; color:white\"> formatting </mark>"
      ]
    },
    {
      "cell_type": "code",
      "execution_count": 8,
      "metadata": {
        "colab": {
          "base_uri": "https://localhost:8080/"
        },
        "id": "TwhdnvNy0M-k",
        "outputId": "217f5df7-40d9-4ce0-f475-45951ef092da"
      },
      "outputs": [
        {
          "output_type": "stream",
          "name": "stdout",
          "text": [
            "123456789\n",
            "      123456789\n",
            "12345.68\n"
          ]
        }
      ],
      "source": [
        "# Format with width, Decimal / Float\n",
        "\n",
        "print ( 123456789 )\n",
        "print (format(123456789, '15d'))\n",
        "print (format(12345.678, '.2f'))\n"
      ]
    },
    {
      "cell_type": "code",
      "execution_count": 7,
      "metadata": {
        "colab": {
          "base_uri": "https://localhost:8080/"
        },
        "id": "f9YURsr00M-k",
        "outputId": "11642ea0-e865-4b15-f7f6-29a841eac1d9"
      },
      "outputs": [
        {
          "output_type": "stream",
          "name": "stdout",
          "text": [
            "1.234568e+04\n",
            "1.23e+04\n"
          ]
        }
      ],
      "source": [
        "# Scientific Notation\n",
        "\n",
        "print (format(12345.6789, 'e'))\n",
        "print (format(12345.6789, '.2e'))\n"
      ]
    },
    {
      "cell_type": "code",
      "execution_count": 6,
      "metadata": {
        "colab": {
          "base_uri": "https://localhost:8080/"
        },
        "id": "R3XGkgiX0M-k",
        "outputId": "523c65f6-e7cb-4630-83fa-280afa291f88"
      },
      "outputs": [
        {
          "output_type": "stream",
          "name": "stdout",
          "text": [
            "123,456,789.12\n"
          ]
        }
      ],
      "source": [
        "#? Inserting comma separator\n",
        "\n",
        "print (format(123456789.12345, ',.2f'))\n"
      ]
    },
    {
      "cell_type": "code",
      "execution_count": 5,
      "metadata": {
        "colab": {
          "base_uri": "https://localhost:8080/"
        },
        "id": "3nOzlrhE0M-l",
        "outputId": "072a80b7-0329-4053-e9af-0b7719fcb80e"
      },
      "outputs": [
        {
          "output_type": "stream",
          "name": "stdout",
          "text": [
            "1234567.89%\n"
          ]
        }
      ],
      "source": [
        "#? Floating point numbers as a percentage\n",
        "\n",
        "print (format(12345.6789, '.2%'))"
      ]
    },
    {
      "cell_type": "markdown",
      "metadata": {
        "id": "Oj4P8sFe0M-l"
      },
      "source": [
        "### <mark style=\"background-color:green; color:white\"> % formatting </mark>"
      ]
    },
    {
      "cell_type": "code",
      "execution_count": 1,
      "metadata": {
        "colab": {
          "base_uri": "https://localhost:8080/"
        },
        "id": "pdEX68Re0M-l",
        "outputId": "81b91126-8e40-4e9a-8559-553f37993b47"
      },
      "outputs": [
        {
          "output_type": "stream",
          "name": "stdout",
          "text": [
            "Value 1 is 1000\n"
          ]
        }
      ],
      "source": [
        "val1 =  1000\n",
        "print (\"Value 1 is %d\" % (val1))"
      ]
    },
    {
      "cell_type": "code",
      "execution_count": 9,
      "metadata": {
        "id": "kRr-N47M0M-l",
        "outputId": "4cdddc71-3634-4e73-b7de-56e5bf2e4268",
        "colab": {
          "base_uri": "https://localhost:8080/"
        }
      },
      "outputs": [
        {
          "output_type": "stream",
          "name": "stdout",
          "text": [
            "Integer value: 100, String Value: COMSC140, Floating Value:1234.57\n"
          ]
        }
      ],
      "source": [
        "\n",
        "val1 = 100\n",
        "val2 = 1234.5678\n",
        "strval = \"COMSC140\"\n",
        "\n",
        "print (\"Integer value: %d, String Value: %s, Floating Value:%.2f\" % (val1, strval, val2))"
      ]
    },
    {
      "cell_type": "markdown",
      "metadata": {
        "id": "_n2y8d4J0M-l"
      },
      "source": [
        "#### <mark style=\"background-color:green; color:white\"> Using the String format </mark>"
      ]
    },
    {
      "cell_type": "code",
      "execution_count": 10,
      "metadata": {
        "id": "BgVmeCaP0M-l",
        "outputId": "194f24c2-346f-42e9-e91a-c02e45230f77",
        "colab": {
          "base_uri": "https://localhost:8080/"
        }
      },
      "outputs": [
        {
          "output_type": "stream",
          "name": "stdout",
          "text": [
            "Python Programming Class\n"
          ]
        }
      ],
      "source": [
        "print ( '{0} {1} Class'.format('Python', 'Programming'))"
      ]
    },
    {
      "cell_type": "code",
      "execution_count": 11,
      "metadata": {
        "id": "wLPp_are0M-l",
        "outputId": "beab52b1-bc6f-419d-a74f-33f68040c2da",
        "colab": {
          "base_uri": "https://localhost:8080/"
        }
      },
      "outputs": [
        {
          "output_type": "stream",
          "name": "stdout",
          "text": [
            "                   Python Programming     Class\n"
          ]
        }
      ],
      "source": [
        "print ( '{0:>25} {1:15} Class'.format('Python', 'Programming'))"
      ]
    },
    {
      "cell_type": "code",
      "execution_count": 12,
      "metadata": {
        "id": "DrCUClHR0M-l",
        "outputId": "36ab2594-eff6-44b9-81f5-d57f09ff6f85",
        "colab": {
          "base_uri": "https://localhost:8080/"
        }
      },
      "outputs": [
        {
          "output_type": "stream",
          "name": "stdout",
          "text": [
            "This spam is absolutely horrible.\n"
          ]
        }
      ],
      "source": [
        "print('This {food} is {adjective}.'.format(food='spam', adjective='absolutely horrible'))"
      ]
    },
    {
      "cell_type": "code",
      "execution_count": 13,
      "metadata": {
        "id": "Q7XyozVI0M-l",
        "outputId": "ea3f0fe3-fc3a-4e75-b792-5b6f3b2fa9eb",
        "colab": {
          "base_uri": "https://localhost:8080/"
        }
      },
      "outputs": [
        {
          "output_type": "stream",
          "name": "stdout",
          "text": [
            "Value 1: 100 and Value 2: 200\n"
          ]
        }
      ],
      "source": [
        "v1 = 100; v2 = 200\n",
        "\n",
        "print (\"Value 1: {} and Value 2: {}\".format(v1, v2))"
      ]
    },
    {
      "cell_type": "code",
      "execution_count": 14,
      "metadata": {
        "id": "7_z_4q2K0M-m",
        "outputId": "75d055b2-b23d-4acf-a2a1-50639057517e",
        "colab": {
          "base_uri": "https://localhost:8080/"
        }
      },
      "outputs": [
        {
          "output_type": "stream",
          "name": "stdout",
          "text": [
            "The average is 56.67 \n",
            "The average is 56.67 \n",
            "The average is 60.00\n"
          ]
        }
      ],
      "source": [
        "avg = (100 + 50 + 20) / 3\n",
        "\n",
        "print (\"The average is {0:.2f} \".format(avg))\n",
        "print (\"The average is {:.2f} \".format(avg))\n",
        "\n",
        "print('The average is {0:.2f}'.format(59.999999))"
      ]
    },
    {
      "cell_type": "code",
      "execution_count": 15,
      "metadata": {
        "id": "uJbIk3ei0M-m",
        "outputId": "2a371856-431c-4270-edb3-ddb69be9dd7a",
        "colab": {
          "base_uri": "https://localhost:8080/"
        }
      },
      "outputs": [
        {
          "output_type": "stream",
          "name": "stdout",
          "text": [
            "12345.68\n",
            "     12345\n",
            "1.234568e+04\n",
            "1.23e+04\n",
            "1234567.89%\n"
          ]
        }
      ],
      "source": [
        "print ( format(12345.6789, '.2f'))\n",
        "print ( format(12345, '10d'))\n",
        "print ( format(12345.6789, 'e'))\n",
        "print ( format(12345.6789, '.2e'))\n",
        "print ( format(12345.6789, '.2%'))"
      ]
    },
    {
      "cell_type": "code",
      "execution_count": 16,
      "metadata": {
        "id": "HZYpBim_0M-m",
        "outputId": "36167e2c-135b-486a-e507-bceaa94f873e",
        "colab": {
          "base_uri": "https://localhost:8080/"
        }
      },
      "outputs": [
        {
          "output_type": "stream",
          "name": "stdout",
          "text": [
            "one\n",
            "two\n",
            "three\n",
            "one two three one/two/three\n"
          ]
        }
      ],
      "source": [
        "# 2.8 More about Data output\n",
        "\n",
        "print ('one')\n",
        "print ('two')\n",
        "print ('three')\n",
        "\n",
        "print ('one', end=' ')\n",
        "print ('two', end=' ')\n",
        "print ('three', end=' ')\n",
        "\n",
        "#? Specifying an Item Separator\n",
        "print ('one', 'two', 'three', sep='/')\n"
      ]
    },
    {
      "cell_type": "markdown",
      "metadata": {
        "id": "0tnBaFql0M-m"
      },
      "source": [
        "## 👉✅ <mark style=\"background-color:green; color:white\"> PEP 498; f-string </mark>"
      ]
    },
    {
      "cell_type": "code",
      "execution_count": 19,
      "metadata": {
        "id": "wY9uNHZe0M-m",
        "outputId": "d1e5f436-ddfb-472d-8799-cace42a79ddf",
        "colab": {
          "base_uri": "https://localhost:8080/"
        }
      },
      "outputs": [
        {
          "output_type": "stream",
          "name": "stdout",
          "text": [
            "The value is 10\n",
            "The value is                   10\n",
            "The value is      12.34\n",
            "The value is 12.34000\n",
            "The string value is                                 Python Programming\n"
          ]
        }
      ],
      "source": [
        "value = 10\n",
        "\n",
        "print (f'The value is {value}')\n",
        "print (f'The value is {value:20}')\n",
        "\n",
        "fvalue = 12.34\n",
        "print (f'The value is {fvalue:>10}')\n",
        "print (f'The value is {fvalue:.5f}')\n",
        "\n",
        "strval = \"Python Programming\"\n",
        "print (f\"The string value is {strval:>50}\")"
      ]
    },
    {
      "cell_type": "markdown",
      "metadata": {
        "id": "Pz8MQDcU0M-m"
      },
      "source": [
        "***\n",
        "### Operators\n",
        "![Operators](https://p76.f0.n0.cdn.getcloudapp.com/items/6quEZnzo/bd9ed612-c454-488d-99e3-47237866c01e.jpg?source=viewer&v=6133a6ca78498b57666506941afd8a12)"
      ]
    },
    {
      "cell_type": "markdown",
      "metadata": {
        "id": "OoPvHEh30M-m"
      },
      "source": [
        "## 👉 Please save<font color='red'> **(ctrl-s or cmd-s)** </font> your file to make a checkpoint."
      ]
    },
    {
      "cell_type": "markdown",
      "metadata": {
        "id": "WJKAvS8V0M-m"
      },
      "source": [
        "***\n",
        "<a id='section4'> </a>\n",
        "# <p style=\"font-family: Arial; font-size:2.4em;color:Red;\"> 4. Input Statement </p>\n",
        "\n",
        "<blockquote>\n",
        "variable = input(prompt)\n",
        "</blockquote>"
      ]
    },
    {
      "cell_type": "markdown",
      "metadata": {
        "id": "HyyJhMmU0M-n"
      },
      "source": [
        "#### **Problem #4.0**\n",
        "\n",
        "#### Run all the following codes and see the results\n",
        "#### <font color=\"red\">\"Where does the input box appear?\" </font>"
      ]
    },
    {
      "cell_type": "code",
      "execution_count": 20,
      "metadata": {
        "id": "JJ9swf270M-n",
        "outputId": "3de99bbb-1d0d-4078-aae1-d8594e69fcf2",
        "colab": {
          "base_uri": "https://localhost:8080/"
        }
      },
      "outputs": [
        {
          "output_type": "stream",
          "name": "stdout",
          "text": [
            "Enter your score10\n",
            "Your score is  10\n"
          ]
        }
      ],
      "source": [
        "score = input('Enter your score')\n",
        "print ('Your score is ', score)\n"
      ]
    },
    {
      "cell_type": "code",
      "execution_count": 21,
      "metadata": {
        "id": "9W8OA1Te0M-n",
        "outputId": "4004669a-5d66-4cda-94f3-21f231fe8d68",
        "colab": {
          "base_uri": "https://localhost:8080/",
          "height": 211
        }
      },
      "outputs": [
        {
          "name": "stdout",
          "output_type": "stream",
          "text": [
            "Enter your score10\n"
          ]
        },
        {
          "output_type": "error",
          "ename": "TypeError",
          "evalue": "can only concatenate str (not \"int\") to str",
          "traceback": [
            "\u001b[0;31m---------------------------------------------------------------------------\u001b[0m",
            "\u001b[0;31mTypeError\u001b[0m                                 Traceback (most recent call last)",
            "\u001b[0;32m<ipython-input-21-b764131ad9ae>\u001b[0m in \u001b[0;36m<cell line: 0>\u001b[0;34m()\u001b[0m\n\u001b[1;32m      1\u001b[0m \u001b[0mscore\u001b[0m \u001b[0;34m=\u001b[0m \u001b[0minput\u001b[0m \u001b[0;34m(\u001b[0m\u001b[0;34m'Enter your score'\u001b[0m\u001b[0;34m)\u001b[0m\u001b[0;34m\u001b[0m\u001b[0;34m\u001b[0m\u001b[0m\n\u001b[0;32m----> 2\u001b[0;31m \u001b[0mfinal_score\u001b[0m \u001b[0;34m=\u001b[0m \u001b[0mscore\u001b[0m \u001b[0;34m+\u001b[0m \u001b[0;36m100\u001b[0m\u001b[0;34m;\u001b[0m              \u001b[0;31m# this line causes an error\u001b[0m\u001b[0;34m\u001b[0m\u001b[0;34m\u001b[0m\u001b[0m\n\u001b[0m\u001b[1;32m      3\u001b[0m \u001b[0;34m\u001b[0m\u001b[0m\n\u001b[1;32m      4\u001b[0m \u001b[0mprint\u001b[0m \u001b[0;34m(\u001b[0m\u001b[0mfinal_score\u001b[0m\u001b[0;34m)\u001b[0m\u001b[0;34m\u001b[0m\u001b[0;34m\u001b[0m\u001b[0m\n",
            "\u001b[0;31mTypeError\u001b[0m: can only concatenate str (not \"int\") to str"
          ]
        }
      ],
      "source": [
        "score = input ('Enter your score')\n",
        "final_score = score + 100;\t\t# this line causes an error\n",
        "\n",
        "print (final_score)"
      ]
    },
    {
      "cell_type": "code",
      "execution_count": 22,
      "metadata": {
        "id": "jysYGDqx0M-n",
        "outputId": "9e09d3d6-88ab-4bc7-97f5-f9af3c27505c",
        "colab": {
          "base_uri": "https://localhost:8080/"
        }
      },
      "outputs": [
        {
          "output_type": "stream",
          "name": "stdout",
          "text": [
            "Enter your score10\n",
            "Final Score is        110\n"
          ]
        }
      ],
      "source": [
        "score = input ('Enter your score')\n",
        "final_score = int(score) + 100;\t\t# this line causes an error\n",
        "\n",
        "print (f'Final Score is {final_score:10}')"
      ]
    },
    {
      "cell_type": "markdown",
      "metadata": {
        "id": "Bf3D1ZVF0M-n"
      },
      "source": [
        "#### **Problem #4.1**\n",
        "<ol>\n",
        "<li> <font color=\"red\"> Ask the user name and score </font> </li>\n",
        "<li> Print the name and score </li>\n",
        "</ol>"
      ]
    },
    {
      "cell_type": "code",
      "execution_count": 25,
      "metadata": {
        "id": "01Lr_21Q0M-n",
        "outputId": "3e9a0819-1d78-407d-c12e-a22f655e54cf",
        "colab": {
          "base_uri": "https://localhost:8080/"
        }
      },
      "outputs": [
        {
          "output_type": "stream",
          "name": "stdout",
          "text": [
            "Enter your name: Jordy\n",
            "Enter your score: 10\n",
            "Name: Jordy \n",
            " Score: 10\n"
          ]
        }
      ],
      "source": [
        "name = input('Enter your name: ')\n",
        "score = int(input('Enter your score: '))\n",
        "print (f'Name: {name} \\n Score: {score}')\n",
        "# complete the code"
      ]
    },
    {
      "cell_type": "markdown",
      "metadata": {
        "id": "ly8y0C700M-n"
      },
      "source": [
        "#### **Problem #4.2**\n",
        "<ol>\n",
        "<li> <font color=\"red\"> Ask two scores </font> </li>\n",
        "<li> Print all the scores, summation and average </li>\n",
        "</ol>\n",
        "\n",
        "<ul>\n",
        "<li> Why should we use the funtion <font color=\"red\"> int()</font> for the scores? </li>\n",
        "</ul>"
      ]
    },
    {
      "cell_type": "code",
      "execution_count": 31,
      "metadata": {
        "id": "TeWi3a-90M-n",
        "outputId": "5e17c49d-ec06-40f1-ebb0-5eb0d3eef1fe",
        "colab": {
          "base_uri": "https://localhost:8080/"
        }
      },
      "outputs": [
        {
          "output_type": "stream",
          "name": "stdout",
          "text": [
            "Enter the score 1: 5\n",
            "Enter the score 2: 10\n",
            "Scores: 5, 10 \n",
            " Summation: 15 \n",
            " Average: 7.5\n"
          ]
        }
      ],
      "source": [
        "score1 = int(input('Enter the score 1: '))\n",
        "score2 = int(input('Enter the score 2: '))\n",
        "print(f'Scores: {score1}, {score2} \\n Summation: {score1 + score2} \\n Average: {(score1 + score2) /2}')\n",
        "# Complete the code"
      ]
    },
    {
      "cell_type": "markdown",
      "metadata": {
        "id": "MwkqrlND0M-o"
      },
      "source": [
        "#### **Problem #4.3**\n",
        "<ol>\n",
        "<li> Ask the regular price\n",
        "<li> Ask the discount rate as a percentage(e.g, 30)</li>\n",
        "<li> Calcurate the final price ( Regular price * discount_rate / 100 ) </li>\n",
        "<li> Print Regular Prices, Discount Rate and Final Price with F-String format </li>\n",
        "</ol>\n",
        "<ul>\n",
        "<li> For example, print (f'Regular Price: {rprice:10}, Discount Rate: {drate:10}, Final Price: {fprice}) </li>\n",
        "</ul>"
      ]
    },
    {
      "cell_type": "code",
      "execution_count": 40,
      "metadata": {
        "id": "k6d-QLbz0M-o",
        "colab": {
          "base_uri": "https://localhost:8080/"
        },
        "outputId": "ad2a5b99-82de-4c4b-a3bb-2ba7beec8656"
      },
      "outputs": [
        {
          "output_type": "stream",
          "name": "stdout",
          "text": [
            "Enter regular price: 25\n",
            "Enter discount rate: 10\n",
            "Regular Price: $25\n",
            "Discount Rate: 10%\n",
            "Final Price: $22.5\n"
          ]
        }
      ],
      "source": [
        "price = int(input('Enter regular price: '))\n",
        "discount_rate = int(input('Enter discount rate: '))\n",
        "final_Price = price * (100 - discount_rate) / 100\n",
        "print(f'Regular Price: ${price}\\nDiscount Rate: {discount_rate}%\\nFinal Price: ${final_Price}')"
      ]
    },
    {
      "cell_type": "markdown",
      "metadata": {
        "id": "oroxk15u0M-o"
      },
      "source": [
        "#### **Problem #4.4**\n",
        "<ol>\n",
        "<li> Ask the regular price\n",
        "<li> Ask the discount rate as a percentage(e.g, 30)</li>\n",
        "<li> Calcurate the discount price ( Regular price * discount_rate / 100 ) </li>\n",
        "<li> Print Regular Prices, Discount Rate and Final Price with F-String format </li>\n",
        "</ol>\n",
        "<ul>\n",
        "<li> For example, </li>\n",
        "<pre>\n",
        "print (f'Regular Price: {rprice:10}, Discount Rate: {drate:10}, Final Price: {fprice})\n",
        "<pre>\n",
        "</ul>"
      ]
    },
    {
      "cell_type": "code",
      "execution_count": null,
      "metadata": {
        "id": "EHv2S4Gb0M-o"
      },
      "outputs": [],
      "source": []
    },
    {
      "cell_type": "code",
      "execution_count": 41,
      "metadata": {
        "outputId": "84230a0d-5415-4424-a361-cb3b26adca56",
        "colab": {
          "base_uri": "https://localhost:8080/"
        },
        "id": "IzfJXpqCyz_g"
      },
      "outputs": [
        {
          "output_type": "stream",
          "name": "stdout",
          "text": [
            "Enter regular price: 30\n",
            "Enter discount rate: 25\n",
            "Regular Price: $30\n",
            "Discount Rate: 25%\n",
            "Final Price: $22.5\n"
          ]
        }
      ],
      "source": [
        "price = int(input('Enter regular price: '))\n",
        "discount_rate = int(input('Enter discount rate: '))\n",
        "final_Price = price * (100 - discount_rate) / 100\n",
        "print(f'Regular Price: ${price}\\nDiscount Rate: {discount_rate}%\\nFinal Price: ${final_Price}')"
      ]
    },
    {
      "cell_type": "markdown",
      "metadata": {
        "id": "rKq8qFT60M-o"
      },
      "source": [
        "#### **Problem #4.5**\n",
        "<ol>\n",
        "<li> Ask the celcius temperature(<font color=\"red\">floating value</font>) to the user\n",
        "<li> Calculate the Farenheit Temperature </li>\n",
        "<li> Print the Celcius and Farenheit Temperature with F-String format. Show the two practional digits </li>\n",
        "</ol>\n",
        "<ul>\n",
        "<li> For example, </li>\n",
        "<pre>\n",
        "print (f'Inputted Celcius: {celcius:10.2f}, Converted Fahrenhiet: {fahrenheit:10.2f}')\n",
        "<pre>\n",
        "</ul>"
      ]
    },
    {
      "cell_type": "code",
      "execution_count": 44,
      "metadata": {
        "id": "0go40xiI0M-o",
        "outputId": "608befa2-dd81-4a2c-e057-62a55436490f",
        "colab": {
          "base_uri": "https://localhost:8080/"
        }
      },
      "outputs": [
        {
          "output_type": "stream",
          "name": "stdout",
          "text": [
            "Enter the temperature: 0\n",
            "Inputted Celcius: 0.00 Converted Farenhiet: 32.00\n"
          ]
        }
      ],
      "source": [
        "celcius = float((input('Enter the temperature: ')))\n",
        "farenheit = (celcius * (9/5)) + 32\n",
        "print(f'Inputted Celcius: {format(celcius, \".2f\")} Converted Farenhiet: {format(farenheit,\".2f\")}')\n",
        "\n",
        "# Print the output with F-string format(2 digits after decimal points)\n",
        "# e.g,  95.75"
      ]
    },
    {
      "cell_type": "markdown",
      "metadata": {
        "id": "NJPH3P7q0M-o"
      },
      "source": [
        "#### **Problem #4.6**\n",
        "\n",
        "<ol>\n",
        "<li> Ask the last name to the user </li>\n",
        "<li> Ask the first name to the user </li>\n",
        "<li> Print the first and last name in the seprated line </li>\n",
        "</ol>"
      ]
    },
    {
      "cell_type": "code",
      "execution_count": 47,
      "metadata": {
        "id": "z6WT9tHs0M-o",
        "outputId": "7075a9d5-9696-4486-92cc-dbc6882641b9",
        "colab": {
          "base_uri": "https://localhost:8080/"
        }
      },
      "outputs": [
        {
          "output_type": "stream",
          "name": "stdout",
          "text": [
            "Enter the last name Jordy\n",
            "Enter the first name Figueroa\n",
            "First name: Jordy \n",
            "Last name: Figueroa\n"
          ]
        }
      ],
      "source": [
        "# Complete your code\n",
        "fname = input('Enter the last name ')\n",
        "lname = input('Enter the first name ')\n",
        "print(f'First name: {fname} \\nLast name: {lname}')\n",
        "# print (f' First name: {fname} \\n Last name: {lname}')"
      ]
    },
    {
      "cell_type": "markdown",
      "metadata": {
        "id": "RrkZGkys0M-p"
      },
      "source": [
        "## 👉 Please save<font color='red'> **(ctrl-s or cmd-s)** </font> your file to make a checkpoint."
      ]
    },
    {
      "cell_type": "markdown",
      "metadata": {
        "id": "6x2PcW480M-p"
      },
      "source": [
        "<a id=section5></a>\n",
        "# <p style=\"font-family: Arial; font-size:2.4em;color:Red;\"> 5. String </p>\n",
        "<mark style=\"background-color:teal; color:white\"> Useful Links </mark>\n",
        "#### <a href=\"https://docs.python.org/3/library/stdtypes.html#string-methods\"> String Method in Python Documentation </a>\n",
        "#### <a href=\"https://www.w3schools.com/python/python_ref_string.asp\"> W3 School Examples </a>"
      ]
    },
    {
      "cell_type": "markdown",
      "metadata": {
        "id": "mLacJ2EK0M-p"
      },
      "source": [
        "#### <p style=\"font-family: Arial; font-size:1.4em; background-color: yellow; color:black;\"> Problem #5.1 </p>\n",
        "<ul>\n",
        "<li> Run all the example code cells below\n",
        "</ul>"
      ]
    },
    {
      "cell_type": "markdown",
      "metadata": {
        "id": "s369_wlt0M-p"
      },
      "source": [
        "#### The string value can be accessed by <mark style=\"background-color:yellow; color:black\">index</mark>\n",
        "\n",
        "#### String variable can be followed by all the <mark style=\"background-color:yellow; color:black\"> string methods.</mark>\n"
      ]
    },
    {
      "cell_type": "code",
      "execution_count": null,
      "metadata": {
        "id": "x4w---3w0M-p"
      },
      "outputs": [],
      "source": [
        "cname = \"Python Programming\"\n",
        "\n",
        "print (cname)\n",
        "print (cname[:6])\n",
        "print (cname[:-11])\n",
        "print (cname[:-1])\n",
        "\n",
        "\n",
        "print (cname.split(\" \"))\n",
        "print (cname.split()[0])\n",
        "print (cname.split()[1])"
      ]
    },
    {
      "cell_type": "markdown",
      "metadata": {
        "id": "nXr_Vzp00M-p"
      },
      "source": [
        "### String Methods Examples\n"
      ]
    },
    {
      "cell_type": "code",
      "execution_count": null,
      "metadata": {
        "id": "UcMQ5zWo0M-p"
      },
      "outputs": [],
      "source": [
        "string1 = 'Python Programming Livermore'\n",
        "substring = 'py'\n",
        "\n",
        "city = 'Livermore'\n",
        "cnt = string1.count(city)\n",
        "print ('Number of {1} occurrence {0}'.format(cnt, city))\n",
        "print (f'Number of {cnt:10} occurrence {city:10}')\n",
        "\n",
        "idx = string1.find('Livermore')\n",
        "print ('Index of Livermore', idx)\n",
        "idx = string1.find('Livermore', 8)\n",
        "print ('Index of Livermore', idx)\n",
        "\n",
        "print (string1[idx:idx+len(city)])\n"
      ]
    },
    {
      "cell_type": "code",
      "execution_count": null,
      "metadata": {
        "id": "64D6bl0l0M-p"
      },
      "outputs": [],
      "source": [
        "\n",
        "languages = 'Python, Java, C++, Ruby, Rail, Java Script, PHP, Go, Gotlin'\n",
        "list_languages = languages.split(',')\n",
        "\n",
        "print (list_languages)\n",
        "print (list_languages[0])\n"
      ]
    },
    {
      "cell_type": "markdown",
      "metadata": {
        "id": "cq0HVKI20M-p"
      },
      "source": [
        "#### strip() methods"
      ]
    },
    {
      "cell_type": "code",
      "execution_count": null,
      "metadata": {
        "id": "mpsy9YiZ0M-p"
      },
      "outputs": [],
      "source": [
        "strval = 'Python Programming    '\n",
        "## strval has the additional spaces after values\n",
        "\n",
        "strval = strval.strip() # now, the spaces after string value have been stripped\n",
        "strval"
      ]
    },
    {
      "cell_type": "code",
      "execution_count": null,
      "metadata": {
        "id": "G48m_dSw0M-q"
      },
      "outputs": [],
      "source": [
        "\n",
        "## rstrip\n",
        "\n",
        "blank_padded_str = \"    Python   \"\n",
        "print (blank_padded_str)\n",
        "rstripped_str = blank_padded_str.rstrip(' ')\n",
        "print (rstripped_str)\n",
        "\n",
        "lstripped_str = blank_padded_str.lstrip(' ')\n",
        "print (lstripped_str)\n",
        "\n",
        "garbage_padded = '   Pyhton_+$?....'\n",
        "rstripped_str = garbage_padded.rstrip('_+?.')\n"
      ]
    },
    {
      "cell_type": "markdown",
      "metadata": {
        "id": "s8qWCPxd0M-q"
      },
      "source": [
        "## isalnum, isalpha, isdigit, isnumeric"
      ]
    },
    {
      "cell_type": "code",
      "execution_count": null,
      "metadata": {
        "id": "B-YBU_vZ0M-q"
      },
      "outputs": [],
      "source": [
        "\n",
        "val1 = 'Python'\n",
        "print (val1.isalpha())\n",
        "val1 = 'Python3'\n",
        "print (val1.isalpha())\n",
        "\n",
        "\n",
        "val2 = '94543'\n",
        "print (val2.isnumeric())\n",
        "print (val2.isdigit())\n",
        "print (val2.isdecimal())\n",
        "\n"
      ]
    },
    {
      "cell_type": "code",
      "execution_count": null,
      "metadata": {
        "id": "hXJMPgPZ0M-q"
      },
      "outputs": [],
      "source": [
        "original_str = input('Enter your string')\n",
        "word_str = input('Enter the serach keyword')\n",
        "\n",
        "idx = original_str.find(word_str)\n",
        "print (original_str[idx: idx+len(word_str)])\n",
        "\n"
      ]
    },
    {
      "cell_type": "markdown",
      "metadata": {
        "id": "PrqByp9W0M-q"
      },
      "source": [
        "## split()"
      ]
    },
    {
      "cell_type": "code",
      "execution_count": null,
      "metadata": {
        "id": "BA9B3XWJ0M-q"
      },
      "outputs": [],
      "source": [
        "strval = \"Python Java PHP C++ R SQL\"\n",
        "strval.split()"
      ]
    },
    {
      "cell_type": "code",
      "execution_count": null,
      "metadata": {
        "id": "qSjzIyg_0M-q"
      },
      "outputs": [],
      "source": [
        "strval = \"Python Java PHP C++ R SQL\"\n",
        "strval = strval.split()\n",
        "print (strval)"
      ]
    },
    {
      "cell_type": "markdown",
      "metadata": {
        "id": "PAdaE35_0M-q"
      },
      "source": [
        "#### <p style=\"font-family: Arial; font-size:1.4em; background-color: yellow; color:black;\"> Problem #5.2 </p>\n",
        "> <p> 1. Print the first name from the given names using the indices  </p>"
      ]
    },
    {
      "cell_type": "code",
      "execution_count": null,
      "metadata": {
        "id": "zD2m0rMT0M-r",
        "outputId": "57e73c0c-4938-4cfc-bd72-fe8f5610a4e5"
      },
      "outputs": [
        {
          "data": {
            "text/plain": [
              "'John'"
            ]
          },
          "execution_count": 28,
          "metadata": {},
          "output_type": "execute_result"
        }
      ],
      "source": [
        "name = \"John Doe\"\n",
        "fname = name[:4]\n",
        "fname"
      ]
    },
    {
      "cell_type": "markdown",
      "metadata": {
        "id": "7squE60_0M-r"
      },
      "source": [
        "> 2. Print the last name from the given name using the indices"
      ]
    },
    {
      "cell_type": "code",
      "execution_count": null,
      "metadata": {
        "id": "3cqNZYYy0M-r"
      },
      "outputs": [],
      "source": [
        "lname = # complete this code"
      ]
    },
    {
      "cell_type": "markdown",
      "metadata": {
        "id": "-CSfWLFJ0M-r"
      },
      "source": [
        "> 3. Create a new variable that holds the last and first name, like \"Doe John\""
      ]
    },
    {
      "cell_type": "code",
      "execution_count": null,
      "metadata": {
        "id": "I318zUXD0M-r"
      },
      "outputs": [],
      "source": [
        "new_name = # complete the code"
      ]
    },
    {
      "cell_type": "markdown",
      "metadata": {
        "id": "E7rItqua0M-r"
      },
      "source": [
        "#### <p style=\"font-family: Arial; font-size:1.4em; background-color: yellow; color:black;\"> Problem #5.3 </p>\n",
        "> <p> 1. Find the index of first space in the name </p>"
      ]
    },
    {
      "cell_type": "code",
      "execution_count": null,
      "metadata": {
        "id": "gkRhISTM0M-r"
      },
      "outputs": [],
      "source": [
        "name = 'Jane Doe'\n",
        "found_index = name.find(' ')\n",
        "found_index"
      ]
    },
    {
      "cell_type": "markdown",
      "metadata": {
        "id": "kJnZDrkv0M-r"
      },
      "source": [
        "> <p> 2. Find the index of the symbol '@' in the email string </p>"
      ]
    },
    {
      "cell_type": "code",
      "execution_count": null,
      "metadata": {
        "id": "b6u2tz7u0M-r"
      },
      "outputs": [],
      "source": [
        "email_str = 'John@company.com'\n",
        "idx = # complete the code"
      ]
    },
    {
      "cell_type": "markdown",
      "metadata": {
        "id": "cehqIOEq0M-s"
      },
      "source": [
        "> <p> 3. Find the 2nd index of the symbol '.' in the email string </p>"
      ]
    },
    {
      "cell_type": "code",
      "execution_count": null,
      "metadata": {
        "id": "Kp5aCVvA0M-s"
      },
      "outputs": [],
      "source": [
        "email_str = 'noreply@database.company.edu'\n",
        "idx_dot = # complete the code"
      ]
    },
    {
      "cell_type": "markdown",
      "metadata": {
        "id": "Eh-jnB080M-s"
      },
      "source": [
        "> <p> 4. Does the email ID '2myemail' start with alphabet ? </p>\n",
        "- Use the method <mark> isalpha() </mark>"
      ]
    },
    {
      "cell_type": "code",
      "execution_count": null,
      "metadata": {
        "id": "dhRqDPrB0M-s"
      },
      "outputs": [],
      "source": [
        "email_id = '2myemail'\n",
        "result = email_id[0].isalpha()\n",
        "print (result)"
      ]
    },
    {
      "cell_type": "markdown",
      "metadata": {
        "id": "Qb_f05fh0M-s"
      },
      "source": [
        "> <p> 5. Does the email ID 'myemail.1234' include non-alphabet letters ? </p>\n",
        "- Use the method <mark> isalpha() </mark>"
      ]
    },
    {
      "cell_type": "code",
      "execution_count": null,
      "metadata": {
        "id": "x6aYpNYw0M-s"
      },
      "outputs": [],
      "source": [
        "email_id = 'myemail.1234'\n",
        "result = # complete this code"
      ]
    },
    {
      "cell_type": "markdown",
      "metadata": {
        "id": "ei7KJXzK0M-s"
      },
      "source": [
        "> <p> 6. Does the email ID 'myemail.1234' end with the digit? </p>\n",
        "- Use the method <mark> isalpha() </mark>"
      ]
    },
    {
      "cell_type": "code",
      "execution_count": null,
      "metadata": {
        "id": "4fBHbKR10M-s"
      },
      "outputs": [],
      "source": [
        "email_id = 'myeamil.1234'\n",
        "result = # complete this code"
      ]
    },
    {
      "cell_type": "markdown",
      "metadata": {
        "id": "wyjYupcg0M-s"
      },
      "source": [
        "#### <p style=\"font-family: Arial; font-size:1.4em; background-color: yellow; color:black;\"> Problem #5.4 </p>"
      ]
    },
    {
      "cell_type": "markdown",
      "metadata": {
        "id": "k6GefSgJ0M-t"
      },
      "source": [
        "> <p> 1. Split this word 'Python C++ HTML PHP JAVA\" by the space\n",
        "- Use the method <mark> split() </mark>"
      ]
    },
    {
      "cell_type": "code",
      "execution_count": null,
      "metadata": {
        "id": "kVoMj45B0M-t"
      },
      "outputs": [],
      "source": [
        "original_str = 'Python C++ HTML PHP JAVA'\n",
        "split_str = original_str.split()\n",
        "print (split_str)"
      ]
    },
    {
      "cell_type": "markdown",
      "metadata": {
        "id": "bRdjsxWD0M-t"
      },
      "source": [
        "> <p> 2. Split the word 'John/Jane/Doe/Smith/Tom' by the '/'\n",
        "- Use the method <mark> split() </mark>"
      ]
    },
    {
      "cell_type": "code",
      "execution_count": null,
      "metadata": {
        "id": "VkjVyIjw0M-t"
      },
      "outputs": [],
      "source": [
        "original_str = 'John/Jane/Doe/Smith/Tom'\n",
        "split_str =  # complete the code\n",
        "split_str"
      ]
    },
    {
      "cell_type": "markdown",
      "metadata": {
        "id": "6_eOc-wQ0M-t"
      },
      "source": [
        "> <p> 3. Merge the string 'first', 'second' and 'third' with the space between each word\n",
        "- Use the operator <mark> + </mark>"
      ]
    },
    {
      "cell_type": "code",
      "execution_count": null,
      "metadata": {
        "id": "sDvIWTxa0M-t"
      },
      "outputs": [],
      "source": [
        "str1 = 'first'\n",
        "str2 = 'second'\n",
        "str3 = 'third'\n",
        "merged_str = # complete the code\n",
        "merged_str\n",
        "# It must print 'first second third'"
      ]
    },
    {
      "cell_type": "markdown",
      "metadata": {
        "id": "vWyTO52Q0M-t"
      },
      "source": [
        "## 👉 Please save<font color='red'> **(ctrl-s or cmd-s)** </font> your file to make a checkpoint."
      ]
    }
  ],
  "metadata": {
    "kernelspec": {
      "display_name": "base",
      "language": "python",
      "name": "python3"
    },
    "language_info": {
      "codemirror_mode": {
        "name": "ipython",
        "version": 3
      },
      "file_extension": ".py",
      "mimetype": "text/x-python",
      "name": "python",
      "nbconvert_exporter": "python",
      "pygments_lexer": "ipython3",
      "version": "3.9.17"
    },
    "orig_nbformat": 4,
    "vscode": {
      "interpreter": {
        "hash": "32cd87c0c55905266dc8232ebf1148f668af0d9324249c125246585210a29cd6"
      }
    },
    "colab": {
      "provenance": []
    }
  },
  "nbformat": 4,
  "nbformat_minor": 0
}