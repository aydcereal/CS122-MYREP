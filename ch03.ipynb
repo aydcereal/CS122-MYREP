{
  "cells": [
    {
      "cell_type": "markdown",
      "metadata": {
        "id": "PXzJOj93Ipzm"
      },
      "source": [
        "# <p style=\"font-family: Arial; font-size:1.4em;color:red;\"> Chapter 3. Decision Structures and Boolean Logic </p>\n",
        "<li> 3.1 The if Statement </li>\n",
        "<li> 3.2 The if-else Statement </li>\n",
        "<li> 3.3 Comparing Strings </li>\n",
        "<li> 3.4 Nested Decision Structures and the if-elif-else Statement </li>\n",
        "<li> 3.5 Logical Operators </li>\n",
        "<li> 3.6 Boolean Variables </li>"
      ]
    },
    {
      "cell_type": "markdown",
      "metadata": {
        "id": "iSvnV_4BIpzo"
      },
      "source": [
        "***\n",
        "# <p style=\"font-family: Arial; font-size:1.4em;color:red;\"> 1. Basic If statement </p>"
      ]
    },
    {
      "cell_type": "markdown",
      "metadata": {
        "id": "Ayvs-L7tIpzo"
      },
      "source": [
        "\n",
        "### <a href=\"https://docs.python.org/3/reference/compound_stmts.html#the-if-statement\"> Python Document\n",
        "<img src =\"https://p76.f0.n0.cdn.getcloudapp.com/items/RBuymyQx/5b9e398d-9339-47e9-b7cc-3de7e83dee6f.jpg?v=b1c31360e564f178e39a3d7373b6979b\"> </a>"
      ]
    },
    {
      "cell_type": "markdown",
      "metadata": {
        "id": "fqCth46dIpzp"
      },
      "source": [
        "### Boolean Expression and Relational Operators\n",
        "\n",
        "<img src=\"https://p76.f0.n0.cdn.getcloudapp.com/items/YEuBkB7B/d8fe2712-76cc-4478-bd79-7c9b8d8f5b4d.jpg?v=b1eec79ab236a39691d7f4df6a371842\">"
      ]
    },
    {
      "cell_type": "markdown",
      "metadata": {
        "id": "BnrNce8MIpzp"
      },
      "source": [
        "#### <p style=\"font-family: Arial; font-size:1.4em; background-color: yellow; color:black;\"> Problem #1.0 </p>\n",
        "Run the below code cell and figure out the basic usage of if-statement\n",
        "<br>\n"
      ]
    },
    {
      "cell_type": "code",
      "execution_count": null,
      "metadata": {
        "colab": {
          "base_uri": "https://localhost:8080/"
        },
        "id": "1mgRHFpMIpzp",
        "outputId": "038503ba-8371-4e28-c523-9aa5c75ff3e4"
      },
      "outputs": [
        {
          "name": "stdout",
          "output_type": "stream",
          "text": [
            "Enter the number-1\n"
          ]
        }
      ],
      "source": [
        "number = int(input('Enter the number'))\n",
        "\n",
        "if number > 0:\n",
        "    print (f'The number {number} is greater than 0')"
      ]
    },
    {
      "cell_type": "code",
      "execution_count": null,
      "metadata": {
        "colab": {
          "base_uri": "https://localhost:8080/"
        },
        "id": "Jx4HFHmCIpzq",
        "outputId": "28198227-b2e3-4931-9e67-cabc2edd0289"
      },
      "outputs": [
        {
          "output_type": "stream",
          "name": "stdout",
          "text": [
            "The number -1 is less than 0\n"
          ]
        }
      ],
      "source": [
        "if number < 0:\n",
        "    print (f'The number {number} is less than 0')"
      ]
    },
    {
      "cell_type": "code",
      "execution_count": null,
      "metadata": {
        "colab": {
          "base_uri": "https://localhost:8080/"
        },
        "id": "aB9taFbiIpzq",
        "outputId": "fe3adac8-7ea5-4ff4-eeca-8e275ef42724"
      },
      "outputs": [
        {
          "output_type": "stream",
          "name": "stdout",
          "text": [
            "Enter your score99\n",
            "The score  99  is great than 90\n"
          ]
        }
      ],
      "source": [
        "x = input(\"Enter your score\")\n",
        "\n",
        "if int(x) > 90:\n",
        "\tprint (\"The score \", x ,  \" is great than 90\")\n",
        "else:\n",
        "\tprint (\" The score \", x,  \"is less than or equal to 90\")\n"
      ]
    },
    {
      "cell_type": "code",
      "execution_count": null,
      "metadata": {
        "colab": {
          "base_uri": "https://localhost:8080/"
        },
        "id": "eTRlT6whIpzr",
        "outputId": "20abe6f9-e433-4718-ebfb-09526fe29304"
      },
      "outputs": [
        {
          "output_type": "stream",
          "name": "stdout",
          "text": [
            "Enter your score95\n",
            "The grade : A\n"
          ]
        }
      ],
      "source": [
        "score = int(input('Enter your score'))\n",
        "if score > 90:\n",
        "\tprint (\"The grade : A\")\n",
        "else:\n",
        "\tif score > 80 :   # (score < 90 ) and ( score >80)\n",
        "\t\tprint (\"The grade : B\")\n",
        "\telif score > 70:   # (score < 80 ) and ( score >70)\n",
        "\t\tprint (\"The grade : C\")\n"
      ]
    },
    {
      "cell_type": "markdown",
      "metadata": {
        "id": "D7oW7vhqIpzr"
      },
      "source": [
        "#### <p style=\"font-family: Arial; font-size:1.4em; background-color: yellow; color:black;\"> Problem #1.1 </p>\n",
        "1. Input a number\n",
        "2. Decide whether it is even or odd number\n",
        "3. Print the result ( Even or Odd)\n",
        "<br>\n"
      ]
    },
    {
      "cell_type": "code",
      "execution_count": null,
      "metadata": {
        "colab": {
          "base_uri": "https://localhost:8080/"
        },
        "id": "5EJZVMRyIpzr",
        "outputId": "2280660c-6a4c-4fba-e65b-bb9579c07ec9"
      },
      "outputs": [
        {
          "output_type": "stream",
          "name": "stdout",
          "text": [
            "Enter a number1\n",
            "The number 1 is odd number\n"
          ]
        }
      ],
      "source": [
        "number = int(input('Enter a number'))\n",
        "if number % 2 == 0:\n",
        "    print (f'The number {number} is even number')\n",
        "else:\n",
        "    print (f'The number {number} is odd number')"
      ]
    },
    {
      "cell_type": "markdown",
      "metadata": {
        "id": "h2AKdZl8Ipzr"
      },
      "source": [
        "#### <p style=\"font-family: Arial; font-size:1.4em; background-color: yellow; color:black;\"> Problem #1.2 </p>\n",
        "1. Input a number\n",
        "2. Decide whether a number is less than or equal to 100\n",
        "3. Print the result ( number is less than or equal to 100 or not)\n",
        "<br>\n"
      ]
    },
    {
      "cell_type": "code",
      "execution_count": null,
      "metadata": {
        "colab": {
          "base_uri": "https://localhost:8080/"
        },
        "id": "ot1gdAnsIpzr",
        "outputId": "da2966c8-42cb-439f-9c3f-c62c13aad810"
      },
      "outputs": [
        {
          "output_type": "stream",
          "name": "stdout",
          "text": [
            "Enter a number: 101\n",
            "101 is more than 100\n"
          ]
        }
      ],
      "source": [
        "number = int(input('Enter a number: '))\n",
        "\n",
        "if number <= 100:\n",
        "    print (f'{number} is less than or equal to 100')\n",
        "else:\n",
        "    print (f'{number} is more than 100')"
      ]
    },
    {
      "cell_type": "markdown",
      "metadata": {
        "id": "sD_88Y1zIpzs"
      },
      "source": [
        "#### <p style=\"font-family: Arial; font-size:1.4em; background-color: yellow; color:black;\"> Problem #1.3 </p>\n",
        "1. Input a first name\n",
        "2. Decide whether the name starts with 'A'\n",
        "3. Print the result ( True or False )\n",
        "<br>\n"
      ]
    },
    {
      "cell_type": "code",
      "execution_count": null,
      "metadata": {
        "colab": {
          "base_uri": "https://localhost:8080/"
        },
        "id": "5HYAjon2Ipzs",
        "outputId": "f33b8c0c-7de8-4a86-c388-5edbba2d3af2"
      },
      "outputs": [
        {
          "output_type": "stream",
          "name": "stdout",
          "text": [
            "Enter a name Allison\n",
            "True\n"
          ]
        }
      ],
      "source": [
        "name = input('Enter a name ')\n",
        "\n",
        "if name[0] == \"A\":\n",
        "    result = True\n",
        "\n",
        "else:\n",
        "  result = False\n",
        "\n",
        "print(result)\n"
      ]
    },
    {
      "cell_type": "markdown",
      "metadata": {
        "id": "1c1HuqzaIpzs"
      },
      "source": [
        "#### <p style=\"font-family: Arial; font-size:1.4em; background-color: yellow; color:black;\"> Problem #1.4 </p>\n",
        "1. Set two floating number values to the variables, like\n",
        "> val1 = 12.34; val2 = 12.34000000000000001\n",
        "2. Decide whether two values are same\n",
        "3. Print the result ( True or False )\n",
        "<br>\n"
      ]
    },
    {
      "cell_type": "code",
      "execution_count": null,
      "metadata": {
        "colab": {
          "base_uri": "https://localhost:8080/"
        },
        "id": "6DClPSiTIpzs",
        "outputId": "43b50444-6e24-431a-c657-ff1992ce35ea"
      },
      "outputs": [
        {
          "output_type": "stream",
          "name": "stdout",
          "text": [
            "Two value are same\n"
          ]
        }
      ],
      "source": [
        "val1 = 12.34; val2 = 12.340000000000000001\n",
        "\n",
        "if val1 == val2:\n",
        "    print ('Two value are same')"
      ]
    },
    {
      "cell_type": "code",
      "execution_count": null,
      "metadata": {
        "id": "8b6H8jl2Ipzs"
      },
      "outputs": [],
      "source": [
        "val1 = 12.34; val2 = 12.340000000001\n",
        "\n",
        "if val1 == val2:\n",
        "    print ('Two value are same')"
      ]
    },
    {
      "cell_type": "markdown",
      "metadata": {
        "id": "lcjatWRRIpzs"
      },
      "source": [
        "#### <p style=\"font-family: Arial; font-size:1.4em; background-color: yellow; color:black;\"> Problem #1.5 </p>\n",
        "1. Input two string values\n",
        "> strval1 = input('Enter a word')\n",
        "> strval2 = input('Enter a word')\n",
        "2. Decide which input value is greater in alphabetical order\n",
        "3. Print the greater word  \n",
        "<br>\n"
      ]
    },
    {
      "cell_type": "code",
      "execution_count": null,
      "metadata": {
        "colab": {
          "base_uri": "https://localhost:8080/"
        },
        "id": "lkpoSwKeIpzs",
        "outputId": "53cf1852-dc4b-4d99-fc04-381dd8284b72"
      },
      "outputs": [
        {
          "output_type": "stream",
          "name": "stdout",
          "text": [
            "Enter a wordbike\n",
            "Enter a wordcar\n",
            "car\n"
          ]
        }
      ],
      "source": [
        "strval1 = input('Enter a word')\n",
        "strval2 = input('Enter a word')\n",
        "\n",
        "if strval1 > strval2:\n",
        "    print(strval1)\n",
        "else:\n",
        "  print(strval2)"
      ]
    },
    {
      "cell_type": "markdown",
      "metadata": {
        "id": "WROOI4xPIpzs"
      },
      "source": [
        "#### <p style=\"font-family: Arial; font-size:1.4em; background-color: yellow; color:black;\"> Problem #1.6 </p>\n",
        "1. Input two string values\n",
        "> strval1 = input('Enter a word')\n",
        "> strval2 = input('Enter a word')\n",
        "2. Determine which input value is longer in length.\n",
        "3. Print the longer word  \n",
        "<br>\n",
        "** Use the library <font color='red'> len( ) </font>\n"
      ]
    },
    {
      "cell_type": "code",
      "execution_count": null,
      "metadata": {
        "colab": {
          "base_uri": "https://localhost:8080/"
        },
        "id": "7lNFNe_yIpzt",
        "outputId": "1130cfc5-a0eb-4776-af06-a076351cb7e3"
      },
      "outputs": [
        {
          "output_type": "stream",
          "name": "stdout",
          "text": [
            "Enter a word asdasdas\n",
            "Enter a word as\n",
            "asdasdas\n"
          ]
        }
      ],
      "source": [
        "strval1 = input('Enter a word ')\n",
        "strval2 = input('Enter a word ')\n",
        "\n",
        "if len(strval1) > len(strval2):\n",
        "  print(strval1)\n",
        "else:\n",
        "  print(strval2)\n"
      ]
    },
    {
      "cell_type": "markdown",
      "metadata": {
        "id": "aY_0Tfj9Ipzt"
      },
      "source": [
        "## Don't forget to <font color='red'> **\"commit\"** </font> your work or <font color='red'> **\"save\"** </font> in Google Colab\n",
        "## before moving to the next section."
      ]
    },
    {
      "cell_type": "markdown",
      "metadata": {
        "id": "u474-V3DIpzt"
      },
      "source": [
        "***\n",
        "# <p style=\"font-family: Arial; font-size:1.4em;color:red;\"> 2. if-elif-else statement </p>"
      ]
    },
    {
      "cell_type": "markdown",
      "metadata": {
        "id": "bwJVTGJoIpzt"
      },
      "source": [
        "<a href=\"https://docs.python.org/3/tutorial/controlflow.html#if-statements\"> <img src=\"https://p76.f0.n0.cdn.getcloudapp.com/items/4guZrZo9/7293141a-5f3f-44bc-9e97-4586b89a63dc.jpg?v=09b11b0fee8688bd799c1f90a09f723f\"> </a>"
      ]
    },
    {
      "cell_type": "markdown",
      "metadata": {
        "id": "otyh_LmDIpzt"
      },
      "source": [
        "#### <p style=\"font-family: Arial; font-size:1.4em; background-color: yellow; color:black;\"> Problem #2.0 </p>\n",
        "Run the below code cell and figure out the basic usage of if-statement\n",
        "<br>\n"
      ]
    },
    {
      "cell_type": "code",
      "execution_count": null,
      "metadata": {
        "colab": {
          "base_uri": "https://localhost:8080/"
        },
        "id": "OMYHMqaVIpzt",
        "outputId": "2e0a1492-7713-4ac2-9472-d0883938b38b"
      },
      "outputs": [
        {
          "output_type": "stream",
          "name": "stdout",
          "text": [
            "Enter your score92\n",
            "The grade : A\n"
          ]
        }
      ],
      "source": [
        "# Take one user input\n",
        "# if it is even number, print\n",
        "# otherwise, do nothing\n",
        "\n",
        "score = int(input('Enter your score'))\n",
        "if score > 90:\n",
        "\tprint (\"The grade : A\")\n",
        "elif score > 80 :   # (score < 90 ) and ( score >80)\n",
        "\tprint (\"The grade : B\")\n",
        "elif score > 70:   # (score < 80 ) and ( score >70)\n",
        "\tprint (\"The grade : C\")\n"
      ]
    },
    {
      "cell_type": "code",
      "execution_count": null,
      "metadata": {
        "colab": {
          "base_uri": "https://localhost:8080/"
        },
        "id": "0v3W8J_GIpzt",
        "outputId": "e057d794-ac60-4580-bd63-027ebab6f4cf"
      },
      "outputs": [
        {
          "output_type": "stream",
          "name": "stdout",
          "text": [
            "Enter your score91\n",
            "The score  91  is great than 90\n"
          ]
        }
      ],
      "source": [
        "x = int(input(\"Enter your score\"))\n",
        "\n",
        "if x > 90:\n",
        "\tprint (\"The score \", x ,  \" is great than 90\")\n",
        "elif x > 80:\n",
        "\tprint (\"The score \", x ,  \" is great than 80\")\n",
        "else:\n",
        "\tprint (\" The score \", x,  \"is less than or equal to 80\")\n"
      ]
    },
    {
      "cell_type": "markdown",
      "metadata": {
        "id": "R89eP8F-Ipzt"
      },
      "source": [
        "#### <p style=\"font-family: Arial; font-size:1.4em; background-color: yellow; color:black;\"> Problem #2.1 </p>\n",
        "1. Input a score\n",
        "2. Determine the grade base on the following policy\n",
        "- A if greater than 90\n",
        "- B if greater than 80 and less than or equal 90\n",
        "- C if greater than 70 and less than or equal 80\n",
        "- D if greater than 60 and less than or equal 70\n",
        "- F if less than 60\n",
        "3. Print the final grade\n",
        "<br>\n"
      ]
    },
    {
      "cell_type": "code",
      "execution_count": null,
      "metadata": {
        "colab": {
          "base_uri": "https://localhost:8080/"
        },
        "id": "uJG3EURdIpzt",
        "outputId": "5680d8df-47a6-4569-f3cf-7eae6b02dca1"
      },
      "outputs": [
        {
          "output_type": "stream",
          "name": "stdout",
          "text": [
            "Enter a score 20\n",
            "Final grade is: F\n"
          ]
        }
      ],
      "source": [
        "score = int(input('Enter a score '))\n",
        "\n",
        "if score > 90:\n",
        "  print(f'Final grade is: A')\n",
        "elif score > 80:\n",
        "  print(f'Final grade is: B')\n",
        "elif score > 70:\n",
        "   print(f'Final grade is: C')\n",
        "elif score > 60:\n",
        "  print(f'Final grade is: D')\n",
        "else:\n",
        "  print(f'Final grade is: F')\n",
        "\n",
        "# complete the code\n"
      ]
    },
    {
      "cell_type": "markdown",
      "metadata": {
        "id": "z6uBmhUqIpzt"
      },
      "source": [
        "<br>\n",
        "#### <p style=\"font-family: Arial; font-size:1.4em; background-color: yellow; color:black;\"> Problem #2.2 </p>\n",
        "\n",
        "1. Input a number\n",
        "2. Decide whether it is even ,odd number or zero\n",
        "3. Print the result ( Even, Odd, or Zero)\n",
        "\n",
        "> Use the if-elif-else statement\n"
      ]
    },
    {
      "cell_type": "code",
      "execution_count": null,
      "metadata": {
        "colab": {
          "base_uri": "https://localhost:8080/"
        },
        "id": "EsaPofP-Ipzt",
        "outputId": "31f8409a-f482-4138-c440-916e98e6674b"
      },
      "outputs": [
        {
          "output_type": "stream",
          "name": "stdout",
          "text": [
            "Enter a number5\n",
            "The number is odd\n"
          ]
        }
      ],
      "source": [
        "number = int(input('Enter a number'))\n",
        "\n",
        "if number == 0:\n",
        "  print(f'The number is Zero')\n",
        "elif number % 2 == 0:\n",
        "  print(f'The number is Even')\n",
        "else:\n",
        "  print(f'The number is odd')\n",
        "\n"
      ]
    },
    {
      "cell_type": "markdown",
      "metadata": {
        "id": "yh8n0KJ4Ipzu"
      },
      "source": [
        "#### <p style=\"font-family: Arial; font-size:1.4em; background-color: yellow; color:black;\"> Problem #2.3 </p>\n",
        "\n",
        "1. Input a number\n",
        "2. Decide whether it is  \n",
        ">  Case 1: number < 0 <br>\n",
        ">  Case 2: 0 <= number < 100 or <br>\n",
        ">  Case 3: number > 100\n",
        "3. Print the result ( Case 1, 2, or 3)\n",
        "\n",
        "> Use the if-elif-else statement\n",
        "\n",
        "<font color='red'> ** Do not use the \"Logical Opertors\" (and, or, not). Use only if-elif-else with single condition.\n",
        "<br> No need to use the condition like 0 <= number < 100 when you use \"elif\" statement ** </font>\n"
      ]
    },
    {
      "cell_type": "code",
      "execution_count": null,
      "metadata": {
        "colab": {
          "base_uri": "https://localhost:8080/"
        },
        "id": "4f_uy73KIpzu",
        "outputId": "62408998-e211-4dfa-cdd6-e921a190ae42"
      },
      "outputs": [
        {
          "output_type": "stream",
          "name": "stdout",
          "text": [
            "Enter a number 1\n",
            "Case 2\n"
          ]
        }
      ],
      "source": [
        "number = int(input('Enter a number '))\n",
        "\n",
        "if number == 0:\n",
        "  print(f'Case 1')\n",
        "elif number > 100:\n",
        "  print(f'Case 3')\n",
        "else:\n",
        "  print(f'Case 2')\n",
        "\n",
        "# complete the code"
      ]
    },
    {
      "cell_type": "markdown",
      "metadata": {
        "id": "sEXiwyx0Ipzu"
      },
      "source": [
        "## Don't forget to <font color='red'> **\"commit\"** </font> your work or <font color='red'> **\"save\"** </font> in Google Colab\n",
        "## before moving to the next section."
      ]
    },
    {
      "cell_type": "markdown",
      "metadata": {
        "id": "nJv9dy71Ipzu"
      },
      "source": [
        "***\n",
        "# <p style=\"font-family: Arial; font-size:1.4em;color:red;\"> 3. Nested if statement </p>"
      ]
    },
    {
      "cell_type": "markdown",
      "metadata": {
        "id": "Qbwce4KPIpzu"
      },
      "source": [
        "<img src=\"https://nimbus-screenshots.s3.amazonaws.com/s/40f9cb96e28bea9192302328e49fd175.png\" width=720>"
      ]
    },
    {
      "cell_type": "code",
      "execution_count": null,
      "metadata": {
        "colab": {
          "base_uri": "https://localhost:8080/"
        },
        "id": "QLFarXJkIpzu",
        "outputId": "d2820377-5efe-424a-c0c4-d253eb2ff6df"
      },
      "outputs": [
        {
          "output_type": "stream",
          "name": "stdout",
          "text": [
            "Enter your number50\n",
            "50  is greater than or equal to 50 and less than 100\n"
          ]
        }
      ],
      "source": [
        "\n",
        "usernum = int(input(\"Enter your number\"))\n",
        "\n",
        "if usernum < 50:\n",
        "\tprint (usernum, \" is less than 50\")\n",
        "else:\n",
        "\tif usernum < 100:\n",
        "\t\tprint (usernum, \" is greater than or equal to 50 and less than 100\")\n",
        "\telse:\n",
        "\t\tprint (usernum, \" is greater than or equal to 100\")\n"
      ]
    },
    {
      "cell_type": "code",
      "execution_count": null,
      "metadata": {
        "colab": {
          "base_uri": "https://localhost:8080/"
        },
        "id": "IluiTZheIpzv",
        "outputId": "42b68bbe-9a54-4ff6-ae39-72e50721c646"
      },
      "outputs": [
        {
          "output_type": "stream",
          "name": "stdout",
          "text": [
            "15\n",
            "15  is odd number\n"
          ]
        }
      ],
      "source": [
        "import random\n",
        "\n",
        "number = random.randint(0, 100)\n",
        "print (number)\n",
        "\n",
        "if (number % 2 == 0):\n",
        "\tprint ( number, \" is even number\")\n",
        "else:\n",
        "\tprint ( number, \" is odd number\")"
      ]
    },
    {
      "cell_type": "markdown",
      "metadata": {
        "id": "qZXDs6uOIpz2"
      },
      "source": [
        "#### <p style=\"font-family: Arial; font-size:1.4em; background-color: yellow; color:black;\"> Problem #3.1 </p>\n",
        "\n",
        "1. Make the if statement for the below flowchart\n",
        "> Use the \"nested if\" statement. Do not use \"elif\"\n",
        "\n",
        "<font color='red'> ** Do not use the \"elif\" if-elif-else strucutre. Use the Nested if statement\n",
        "</font>\n",
        "![Nested If statement Flow Chart](https://github.com/AVC-CS/PythonCH03/blob/main/FC31.png?raw=1)\n"
      ]
    },
    {
      "cell_type": "code",
      "execution_count": null,
      "metadata": {
        "colab": {
          "base_uri": "https://localhost:8080/"
        },
        "id": "3mTPilMoIpz2",
        "outputId": "1eac21ca-22a4-484e-a962-43e81e40eeae"
      },
      "outputs": [
        {
          "output_type": "stream",
          "name": "stdout",
          "text": [
            "Enter a number50\n",
            "Number 50 is greater than or equal to 0 and less than 100\n"
          ]
        }
      ],
      "source": [
        "number = int(input('Enter a number'))\n",
        "\n",
        "if number < 0:\n",
        "    print (f'Number {number} is negative')\n",
        "else:\n",
        "    if number < 100:\n",
        "        print (f'Number {number} is greater than or equal to 0 and less than 100')\n",
        "    else:\n",
        "        print (f'Number {number} is greater than 100')\n"
      ]
    },
    {
      "cell_type": "markdown",
      "metadata": {
        "id": "QRCln6-JIpz2"
      },
      "source": [
        "#### <p style=\"font-family: Arial; font-size:1.4em; background-color: yellow; color:black;\"> Problem #3.2 </p>\n",
        "\n",
        "1. Input a number\n",
        "2. Decide the range to which belongs\n",
        ">  Range 1: less than 0  <br>\n",
        ">  Range 2: 0 <= number < 100 <br>\n",
        ">  Range 3: number >= 100 <br>\n",
        "3. Print the result ( Range 1, 2, or 3)\n",
        "\n",
        "> Use the Nested if statement\n",
        "\n",
        "<font color='red'> ** Do not use the \"Logical Opertors\" (and, or, not) and elif statement. Use only Nested if.\n",
        "</font>\n"
      ]
    },
    {
      "cell_type": "code",
      "execution_count": null,
      "metadata": {
        "colab": {
          "base_uri": "https://localhost:8080/"
        },
        "id": "lQ2XtJkiIpz2",
        "outputId": "6dfe8762-2a7f-4c0f-c685-67920c16fb3a"
      },
      "outputs": [
        {
          "output_type": "stream",
          "name": "stdout",
          "text": [
            "Enter a number 3\n",
            "2\n"
          ]
        }
      ],
      "source": [
        "number = int(input('Enter a number '))\n",
        "\n",
        "if number < 0:\n",
        "    range = 1\n",
        "else:\n",
        "    if number < 100:\n",
        "        range = 2\n",
        "    else:\n",
        "      range = 3\n",
        "print(range)"
      ]
    },
    {
      "cell_type": "markdown",
      "metadata": {
        "id": "VpA-WLlHIpz3"
      },
      "source": [
        "#### <p style=\"font-family: Arial; font-size:1.4em; background-color: yellow; color:black;\"> Problem #3.3 </p>\n",
        "\n",
        "1. Input three numbers\n",
        "2. Decide the smallest number\n",
        "3. Print the smallest number\n",
        "\n",
        "> Use the Nested if statement. Implement the same code as the flow chart <br>\n",
        "> The purpose of this code is to practice \"NESTED IF\" <br>\n",
        "<font color='red'> ** Do not use the \"Logical Opertors\" (and, or, not) and elif statement. Use only Nested if.\n",
        "</font>\n",
        "\n",
        "![Flow Chart: Find the min value](https://github.com/AVC-CS/PythonCH03/blob/main/FC33.png?raw=1)"
      ]
    },
    {
      "cell_type": "code",
      "execution_count": null,
      "metadata": {
        "colab": {
          "base_uri": "https://localhost:8080/"
        },
        "id": "-WgU8YlqIpz3",
        "outputId": "ace0c753-118b-4319-f8c7-4d15d10e34d4"
      },
      "outputs": [
        {
          "output_type": "stream",
          "name": "stdout",
          "text": [
            "Enter a number 3\n",
            "Enter a number 2\n",
            "Enter a number 1\n",
            "1\n"
          ]
        }
      ],
      "source": [
        "num1 = int(input('Enter a number '))\n",
        "num2 = int(input('Enter a number '))\n",
        "num3 = int(input('Enter a number '))\n",
        "\n",
        "if num1 < num2:\n",
        "  if num1 < 3:\n",
        "    print(num1)\n",
        "  else:\n",
        "    print(num3)\n",
        "else:\n",
        "  if num2 < num3:\n",
        "    print(num2)\n",
        "  else:\n",
        "    print(num3)\n",
        "    # Complete the code. Only use Nested-If structure. If - else\n",
        "    # No and/or\n",
        "    # No elif\n"
      ]
    },
    {
      "cell_type": "markdown",
      "metadata": {
        "id": "7ihUb9DSIpz3"
      },
      "source": [
        "## Don't forget to <font color='red'> **\"commit\"** </font> your work or <font color='red'> **\"save\"** </font> in Google Colab\n",
        "## before moving to the next section."
      ]
    },
    {
      "cell_type": "markdown",
      "metadata": {
        "id": "exTsNvsZIpz3"
      },
      "source": [
        "***\n",
        "# <p style=\"font-family: Arial; font-size:1.4em;color:red;\"> 4. Logical Operators</p>\n",
        "\n",
        "<img src=\"https://p76.f0.n0.cdn.getcloudapp.com/items/nOu9XRmk/fddfa174-c3fd-4a15-815c-513e0d162889.jpg?v=1d8df7291331860f72b8eaf47140b26c\">\n"
      ]
    },
    {
      "cell_type": "markdown",
      "metadata": {
        "id": "C-JduhiEIpz3"
      },
      "source": [
        "#### <p style=\"font-family: Arial; font-size:1.4em; background-color: yellow; color:black;\"> Problem #4.1 </p>\n",
        "#### Check the score is valid.\n",
        "> The valid condition: score must be greager than 0 and less than or equal to 100\n"
      ]
    },
    {
      "cell_type": "code",
      "execution_count": null,
      "metadata": {
        "colab": {
          "base_uri": "https://localhost:8080/"
        },
        "id": "wORqlCmNIpz3",
        "outputId": "73da93da-6ad7-47d1-b8d2-c6ea7a2ab4a1"
      },
      "outputs": [
        {
          "name": "stdout",
          "output_type": "stream",
          "text": [
            "Enter your score20\n"
          ]
        }
      ],
      "source": [
        "score = int(input(\"Enter your score\"))\n",
        "\n",
        "if ( score < 0 or score > 100):\n",
        "\tprint (\"Score is out of range\")\n"
      ]
    },
    {
      "cell_type": "code",
      "execution_count": null,
      "metadata": {
        "colab": {
          "base_uri": "https://localhost:8080/"
        },
        "id": "LG7EqM6yIpz3",
        "outputId": "55fa3a22-cdce-4a3a-d61f-b18a238f1602"
      },
      "outputs": [
        {
          "output_type": "stream",
          "name": "stdout",
          "text": [
            "Enter your score20\n",
            "20  is between 0 and 100 \n"
          ]
        }
      ],
      "source": [
        "# Take the score\n",
        "# Check the scoer is between 0 and 100\n",
        "#\n",
        "score = int(input(\"Enter your score\"))\n",
        "if score >= 0 and score <= 100:\n",
        "\tprint (score, \" is between 0 and 100 \")\n",
        "else:\n",
        "\tprint (score, \" is less than 0 or greater than 100\")"
      ]
    },
    {
      "cell_type": "markdown",
      "metadata": {
        "id": "n67KgyBuIpz3"
      },
      "source": [
        "#### <p style=\"font-family: Arial; font-size:1.4em; background-color: yellow; color:black;\"> Problem #4.2 </p>\n",
        "#### Make the if-elif statement to do the following actions in the table\n",
        "> Condition A: num1 > 0 <br>\n",
        "> Condition B: num2 > 0 <br>\n",
        "\n",
        "..    | Condition A True | Condition A False |\n",
        "---|---|---|\n",
        "Condition B True | print ('Two values are positive') | print ('num2 is positive') |\n",
        "Condition B False | print ('num1 is positive) | |\n"
      ]
    },
    {
      "cell_type": "code",
      "execution_count": null,
      "metadata": {
        "colab": {
          "base_uri": "https://localhost:8080/"
        },
        "id": "etGVIFGxIpz3",
        "outputId": "7b9170e0-da71-4a76-835f-1f692d10be92"
      },
      "outputs": [
        {
          "output_type": "stream",
          "name": "stdout",
          "text": [
            "Enter the num1 -2\n",
            "Enter the num2 2\n",
            "num2 is positive\n"
          ]
        }
      ],
      "source": [
        "num1 = int(input('Enter the num1 '))\n",
        "num2 = int(input('Enter the num2 '))\n",
        "\n",
        "if num1 > 0 and num2 > 0:\n",
        "    print ('Two values are positive')\n",
        "elif num1 > 0:\n",
        "  print('num1 is positive')\n",
        "elif num2> 0:\n",
        "  print('num2 is positive')\n",
        "\n"
      ]
    },
    {
      "cell_type": "markdown",
      "metadata": {
        "id": "3Mrs-nBNIpz4"
      },
      "source": [
        "#### <p style=\"font-family: Arial; font-size:1.4em; background-color: yellow; color:black;\"> Problem #4.3 </p>\n",
        "#### Make the \"Nested if statement\" structure to do the following actions in the table\n",
        "> Condition A: num1 > 0 <br>\n",
        "> Condition B: num2 > 0 <br>\n",
        "\n",
        "..    | Condition A True | Condition A False |\n",
        "---|---|---|\n",
        "Condition B True | print ('Two values are positive') | print ('num2 is positive') |\n",
        "Condition B False | print ('num1 is positive) | |\n"
      ]
    },
    {
      "cell_type": "code",
      "execution_count": null,
      "metadata": {
        "colab": {
          "base_uri": "https://localhost:8080/"
        },
        "id": "fSvUmaSiIpz4",
        "outputId": "0278b3e8-bb05-4428-ac3c-6656ef32fdf0"
      },
      "outputs": [
        {
          "output_type": "stream",
          "name": "stdout",
          "text": [
            "Enter the num1 -2\n",
            "Enter the num2 2\n",
            "num2 is positive\n"
          ]
        }
      ],
      "source": [
        "num1 = int(input('Enter the num1 '))\n",
        "num2 = int(input('Enter the num2 '))\n",
        "\n",
        "if num1 > 0 and num2 > 0:\n",
        "    print ('Two values are positive')\n",
        "elif num1 > 0:\n",
        "  print('num1 is positive')\n",
        "elif num2> 0:\n",
        "  print('num2 is positive')\n"
      ]
    },
    {
      "cell_type": "markdown",
      "metadata": {
        "id": "1d3IOVi9Ipz4"
      },
      "source": [
        "#### <p style=\"font-family: Arial; font-size:1.4em; background-color: yellow; color:black;\"> Problem #4.4 </p>\n",
        "#### DeMorgen's Law\n",
        "#### <font color='red'> not ( A and B) = not A or not B </font>\n",
        "\n",
        "> Condition A: num1 > 0 <br>\n",
        "> Condition B: num2 > 0 <br>\n",
        "\n",
        "> not ( num1 > 0 and num2 > 0) <br>\n",
        "- is the same as <br>\n",
        "> not (num1 > 0) or not (num2 > 0) <br>\n",
        "- is the same as <br>\n",
        "> num1 <= 0 or num2 <= 0 <br>\n",
        "***\n",
        "#### Make the same if-statement using DeMorgen's Law <font color='red'> without \"not\" operator </font>\n",
        "\n",
        "> if not (num1 > 0 and num2 > 0):"
      ]
    },
    {
      "cell_type": "code",
      "execution_count": null,
      "metadata": {
        "colab": {
          "base_uri": "https://localhost:8080/"
        },
        "id": "WjtCoizYIpz4",
        "outputId": "0a8548c8-37d8-4c58-8392-8382ac5fe404"
      },
      "outputs": [
        {
          "output_type": "stream",
          "name": "stdout",
          "text": [
            "One of two values are less than 0\n"
          ]
        }
      ],
      "source": [
        "num1 = -10\n",
        "num2 = 20\n",
        "\n",
        "if num1 <= 0 or num2 <= 0:\n",
        "    print ('One of two values are less than 0')\n"
      ]
    },
    {
      "cell_type": "markdown",
      "metadata": {
        "id": "ieA4J9hcIpz4"
      },
      "source": [
        "#### <p style=\"font-family: Arial; font-size:1.4em; background-color: yellow; color:black;\"> Problem #4.5 </p>\n",
        "#### <font color='red'> number > 0 and number < 100  </font>\n",
        "- same as\n",
        "#### <font color='red'> 0 < number < 100 </font>\n",
        "\n",
        "#### Make the same if-statement without <font color='red'> \"and\" </font> operator\n",
        "\n",
        "> if num1 > 0 and num1 < 100: <br>\n",
        "***\n",
        "> 👉 <font color='red'> if 0 < num1 < 100: </font>"
      ]
    },
    {
      "cell_type": "code",
      "execution_count": null,
      "metadata": {
        "colab": {
          "base_uri": "https://localhost:8080/"
        },
        "id": "UnK9T1bHIpz4",
        "outputId": "3066a77c-ba86-452c-c993-1a1aec9126d0"
      },
      "outputs": [
        {
          "output_type": "stream",
          "name": "stdout",
          "text": [
            "Enter a number 5\n",
            "num1 is greater than 0 and less than 100\n"
          ]
        }
      ],
      "source": [
        "num1 = int(input('Enter a number '))\n",
        "\n",
        "if num1 < 100:\n",
        "  if num1 > 0:\n",
        "    print ('num1 is greater than 0 and less than 100')"
      ]
    },
    {
      "cell_type": "markdown",
      "metadata": {
        "id": "WL4ALrG-Ipz4"
      },
      "source": [
        "#### <p style=\"font-family: Arial; font-size:1.4em; background-color: yellow; color:black;\"> Problem #4.6 </p>\n",
        "#### Complete the code to check the input number is greater than 50 and leass than 100\n",
        "\n",
        "> 👉 <font color='red'> input value must be greater than 50 and less than 100 </font> <br>\n",
        "> if True, print it <br>\n",
        "> No requirement. What is your preference to make the if-condition?"
      ]
    },
    {
      "cell_type": "code",
      "execution_count": null,
      "metadata": {
        "id": "rc56wbMVIpz5",
        "colab": {
          "base_uri": "https://localhost:8080/"
        },
        "outputId": "dde9306a-0c6b-4191-ea91-5c85bb18db4d"
      },
      "outputs": [
        {
          "output_type": "stream",
          "name": "stdout",
          "text": [
            "Enter the number 75\n",
            "The number 75 is greater than 50 and less than 100\n"
          ]
        }
      ],
      "source": [
        "number = int(input('Enter the number '))\n",
        "\n",
        "if number > 50 and number < 100:\n",
        "  print(f'The number {number} is greater than 50 and less than 100')"
      ]
    },
    {
      "cell_type": "markdown",
      "metadata": {
        "id": "gbmpJ8IfIpz5"
      },
      "source": [
        "#### <p style=\"font-family: Arial; font-size:1.4em; background-color: yellow; color:black;\"> Problem #4.7 </p>\n",
        "#### Consider the following code. The if-condition is True or False?\n",
        "\n",
        "\n",
        "> 👉  What value of num will make the condition True?<br>\n",
        "```\n",
        "num = 50\n",
        "if num < 0 and num > 100:\n",
        "     print ('condition is True')\n",
        "```\n",
        "#### What value of num' will make the condition True?\n"
      ]
    },
    {
      "cell_type": "code",
      "execution_count": null,
      "metadata": {
        "id": "rV4UiL7RIpz5",
        "colab": {
          "base_uri": "https://localhost:8080/",
          "height": 106
        },
        "outputId": "5705099b-7cb4-4e7a-f9c3-d106ca4514a0"
      },
      "outputs": [
        {
          "output_type": "error",
          "ename": "SyntaxError",
          "evalue": "invalid syntax (<ipython-input-11-6ae683bffb3e>, line 1)",
          "traceback": [
            "\u001b[0;36m  File \u001b[0;32m\"<ipython-input-11-6ae683bffb3e>\"\u001b[0;36m, line \u001b[0;32m1\u001b[0m\n\u001b[0;31m    num = # it is not possible to make num less than 0 and more than 100 at the same time\u001b[0m\n\u001b[0m          ^\u001b[0m\n\u001b[0;31mSyntaxError\u001b[0m\u001b[0;31m:\u001b[0m invalid syntax\n"
          ]
        }
      ],
      "source": [
        "num = # it is not possible to make num less than 0 and more than 100 at the same time\n",
        "\n",
        "if num < 0 and num > 100:\n",
        "    print ('Condition True')"
      ]
    },
    {
      "cell_type": "markdown",
      "metadata": {
        "id": "uP_i4AAXIpz5"
      },
      "source": [
        "## Don't forget to <font color='red'> **\"commit\"** </font> your work or <font color='red'> **\"save\"** </font> in Google Colab\n",
        "## before moving to the next section."
      ]
    },
    {
      "cell_type": "markdown",
      "metadata": {
        "id": "6tphSQbIIpz5"
      },
      "source": [
        "***\n",
        "# <p style=\"font-family: Arial; font-size:1.4em;color:red;\"> 5. Short-hand if statement </p>"
      ]
    },
    {
      "cell_type": "markdown",
      "metadata": {
        "id": "0hwXxpSKIpz5"
      },
      "source": [
        "#### <p style=\"font-family: Arial; font-size:1.4em; background-color: yellow; color:black;\"> Problem #5.1 </p>\n",
        "#### Run all the below cells and check out the results\n",
        "\n",
        "\n",
        "> 👉  What is the main adavantage of short-hand if statement?\n",
        "```\n",
        "num = 50\n",
        "flag = 1 if num > 0 else 0\n",
        "```\n"
      ]
    },
    {
      "cell_type": "markdown",
      "metadata": {
        "id": "j4xVmkLAIpz5"
      },
      "source": [
        "### Short Hand if"
      ]
    },
    {
      "cell_type": "code",
      "execution_count": null,
      "metadata": {
        "id": "48KK2_zFIpz5",
        "colab": {
          "base_uri": "https://localhost:8080/"
        },
        "outputId": "a35b18fb-5633-4918-aded-f83637cfee53"
      },
      "outputs": [
        {
          "output_type": "stream",
          "name": "stdout",
          "text": [
            "100  is less than  90\n"
          ]
        }
      ],
      "source": [
        "score1 = 100\n",
        "score2 = 90\n",
        "\n",
        "if ( score1 > score2): print( score1, \" is less than \", score2)"
      ]
    },
    {
      "cell_type": "markdown",
      "metadata": {
        "id": "fm0ZlF1OIpz5"
      },
      "source": [
        "### Short Hand if else\n",
        "\n",
        "```\n",
        "if num % 2 == 0:\n",
        "    even = 1\n",
        "else:\n",
        "    even = 0\n",
        "    \n",
        "> This code is the same as below"
      ]
    },
    {
      "cell_type": "code",
      "execution_count": null,
      "metadata": {
        "id": "cxNWGMhgIpz6",
        "colab": {
          "base_uri": "https://localhost:8080/"
        },
        "outputId": "09092fd8-8bc6-489c-fbee-7da62ed97b8a"
      },
      "outputs": [
        {
          "output_type": "execute_result",
          "data": {
            "text/plain": [
              "1"
            ]
          },
          "metadata": {},
          "execution_count": 13
        }
      ],
      "source": [
        "num  = 22\n",
        "even = 1 if num % 2 == 0 else 0\n",
        "even"
      ]
    },
    {
      "cell_type": "code",
      "execution_count": null,
      "metadata": {
        "id": "vFDNcA9JIpz6",
        "colab": {
          "base_uri": "https://localhost:8080/"
        },
        "outputId": "e4039c18-7a9f-40f3-ff5e-59b3035ade8c"
      },
      "outputs": [
        {
          "output_type": "stream",
          "name": "stdout",
          "text": [
            "100  is greater than 90\n"
          ]
        }
      ],
      "source": [
        "print (score2, \" is greater than \", score1) if ( score1 < score2) else print(score1, \" is greater than\", score2)"
      ]
    },
    {
      "cell_type": "markdown",
      "metadata": {
        "id": "WY5GcyisIpz6"
      },
      "source": [
        "### The following code has error since there is no else part"
      ]
    },
    {
      "cell_type": "code",
      "execution_count": null,
      "metadata": {
        "id": "rwlT_5RCIpz6"
      },
      "outputs": [],
      "source": [
        "# Error\n",
        "# print (score2, \" is greater than \", score1) if ( score1 < score2)"
      ]
    },
    {
      "cell_type": "markdown",
      "metadata": {
        "id": "W9csC0SEIpz6"
      },
      "source": [
        "#### if val is even flag =0, otherwise 1"
      ]
    },
    {
      "cell_type": "code",
      "execution_count": null,
      "metadata": {
        "id": "1KZY2rqSIpz6",
        "outputId": "69749975-a9be-4794-ac56-2032e5eb9f72",
        "colab": {
          "base_uri": "https://localhost:8080/"
        }
      },
      "outputs": [
        {
          "output_type": "stream",
          "name": "stdout",
          "text": [
            "1\n"
          ]
        }
      ],
      "source": [
        "val = 11\n",
        "\n",
        "flag = 0 if val % 2 == 0 else 1\n",
        "print (flag)"
      ]
    },
    {
      "cell_type": "markdown",
      "metadata": {
        "id": "FmSuvhogIpz6"
      },
      "source": [
        "#### <p style=\"font-family: Arial; font-size:1.4em; background-color: yellow; color:black;\"> Problem #5.2 </p>\n",
        "#### Run all the below cells and check out the <font color='red'> results </font>\n",
        "\n",
        "\n",
        "> 👉  Check out the \"returned\" value from the conidtion\n",
        "```\n",
        "num > 0 and num < 200 and 99\n",
        "```\n"
      ]
    },
    {
      "cell_type": "markdown",
      "metadata": {
        "id": "OevLheUAIpz6"
      },
      "source": [
        "#### And operator will return the last term if all the previous terms are True\n",
        "#### if the previous terms are not True, the first false term will be returned"
      ]
    },
    {
      "cell_type": "code",
      "execution_count": null,
      "metadata": {
        "id": "ohsVHyKQIpz7",
        "outputId": "dcfa330a-2e2c-46f4-982f-82e33cb8eda5",
        "colab": {
          "base_uri": "https://localhost:8080/"
        }
      },
      "outputs": [
        {
          "output_type": "execute_result",
          "data": {
            "text/plain": [
              "False"
            ]
          },
          "metadata": {},
          "execution_count": 17
        }
      ],
      "source": [
        "True and False and True # will return False"
      ]
    },
    {
      "cell_type": "code",
      "execution_count": null,
      "metadata": {
        "id": "lsO-nYu3Ipz7",
        "colab": {
          "base_uri": "https://localhost:8080/"
        },
        "outputId": "4c4f5d64-7080-48cc-cd6d-0fbe61b08fbc"
      },
      "outputs": [
        {
          "output_type": "execute_result",
          "data": {
            "text/plain": [
              "True"
            ]
          },
          "metadata": {},
          "execution_count": 18
        }
      ],
      "source": [
        "True and True and True # will return True"
      ]
    },
    {
      "cell_type": "code",
      "execution_count": null,
      "metadata": {
        "id": "W7dGiqIyIpz7"
      },
      "outputs": [],
      "source": [
        "A = 10 ; B = 5; C = 0\n",
        "\n",
        "A and B and C   # will return 0. It treated as False\n",
        "\n",
        "if A and B and C:\n",
        "    print(C)    # not printed since the condition is False"
      ]
    },
    {
      "cell_type": "code",
      "execution_count": null,
      "metadata": {
        "id": "HTzVEREUIpz7",
        "outputId": "2e4b5f3a-bd9c-4bda-e290-71e311b34406",
        "colab": {
          "base_uri": "https://localhost:8080/"
        }
      },
      "outputs": [
        {
          "output_type": "execute_result",
          "data": {
            "text/plain": [
              "False"
            ]
          },
          "metadata": {},
          "execution_count": 20
        }
      ],
      "source": [
        "num1 = 10; num2 = 20; num3 = -5\n",
        "\n",
        "num1 == 10 and num2 < 100 and num3 > 0\n",
        "# will return false since the last condition is false"
      ]
    },
    {
      "cell_type": "code",
      "execution_count": null,
      "metadata": {
        "id": "wkvhDMV1Ipz7",
        "colab": {
          "base_uri": "https://localhost:8080/"
        },
        "outputId": "a5ecc701-dc4f-42e2-90ec-4a0a52430121"
      },
      "outputs": [
        {
          "output_type": "execute_result",
          "data": {
            "text/plain": [
              "99"
            ]
          },
          "metadata": {},
          "execution_count": 22
        }
      ],
      "source": [
        "num1 = 10; num2 = 20;\n",
        "\n",
        "num1 == 10 and num2 < 100 and 99\n",
        "# will return 99 since all the conditions except the last one is True"
      ]
    },
    {
      "cell_type": "code",
      "execution_count": null,
      "metadata": {
        "id": "qpFep5_qIpz7",
        "colab": {
          "base_uri": "https://localhost:8080/"
        },
        "outputId": "2f7782db-c545-44dc-af21-2462b933de9f"
      },
      "outputs": [
        {
          "output_type": "execute_result",
          "data": {
            "text/plain": [
              "False"
            ]
          },
          "metadata": {},
          "execution_count": 23
        }
      ],
      "source": [
        "num1 = 10; num2 = 20;\n",
        "\n",
        "num1 == 10 and num2 > 100 and 99\n",
        "# will return False since the second condition is Fals"
      ]
    },
    {
      "cell_type": "code",
      "execution_count": null,
      "metadata": {
        "id": "8O2dPeQKIpz7",
        "colab": {
          "base_uri": "https://localhost:8080/"
        },
        "outputId": "4ebafaf2-6046-4626-b77a-0ba53d1463e4"
      },
      "outputs": [
        {
          "output_type": "stream",
          "name": "stdout",
          "text": [
            "True\n",
            "10\n"
          ]
        }
      ],
      "source": [
        "a = 10\n",
        "b = 5\n",
        "x = a > b\n",
        "print (x) # true\n",
        "x = a > b and 10\n",
        "print (x) # 10"
      ]
    },
    {
      "cell_type": "code",
      "execution_count": null,
      "metadata": {
        "id": "vv6mJosYIpz8",
        "colab": {
          "base_uri": "https://localhost:8080/"
        },
        "outputId": "e1c4464f-8a2e-43d1-f029-042c325c3f65"
      },
      "outputs": [
        {
          "output_type": "stream",
          "name": "stdout",
          "text": [
            "10\n"
          ]
        }
      ],
      "source": [
        "a = 10\n",
        "b = 5\n",
        "x = a > b and 10 or 11\n",
        "print (x)"
      ]
    },
    {
      "cell_type": "code",
      "execution_count": null,
      "metadata": {
        "id": "t0p3UWL8Ipz8",
        "colab": {
          "base_uri": "https://localhost:8080/"
        },
        "outputId": "d7ffa696-fcef-4ace-8fdb-3cffec3f7eaa"
      },
      "outputs": [
        {
          "output_type": "stream",
          "name": "stdout",
          "text": [
            "[2, 4]\n"
          ]
        }
      ],
      "source": [
        "l1 = [1,2,3,4,5]\n",
        "\n",
        "even = [ i for i in l1 if i % 2 ==0]\n",
        "print (even)"
      ]
    },
    {
      "cell_type": "markdown",
      "metadata": {
        "id": "BPXoQrJPIpz8"
      },
      "source": [
        "#### <p style=\"font-family: Arial; font-size:1.4em; background-color: yellow; color:black;\"> Problem #5.3 </p>\n",
        "#### Complete the code to set the flag variable to 0 if num is less than 0 otherwise set it to 1\n",
        "\n",
        "> 👉 Use the short-hand if statement  \n",
        "```\n",
        "# the same if-statement\n",
        "if num < 0:\n",
        "    flag = 0\n",
        "else:\n",
        "    flag = 1\n",
        "```\n"
      ]
    },
    {
      "cell_type": "code",
      "execution_count": null,
      "metadata": {
        "id": "gyB1uCJ_Ipz8",
        "colab": {
          "base_uri": "https://localhost:8080/"
        },
        "outputId": "25a7f0df-e4be-4c56-b1c9-3c98eb66c47f"
      },
      "outputs": [
        {
          "output_type": "stream",
          "name": "stdout",
          "text": [
            "Enter a num: -2\n",
            "0\n"
          ]
        }
      ],
      "source": [
        "num = int(input('Enter a num: '))\n",
        "\n",
        "flag = 0 if num < 0 else 1\n",
        "print(flag)"
      ]
    },
    {
      "cell_type": "markdown",
      "metadata": {
        "id": "9eSEEzxCIpz8"
      },
      "source": [
        "## Don't forget to <font color='red'> **\"commit\"** </font> your work or <font color='red'> **\"save\"** </font> in Google Colab\n",
        "## before moving to the next section."
      ]
    },
    {
      "cell_type": "markdown",
      "metadata": {
        "id": "3XKB2MzFIpz8"
      },
      "source": [
        "***\n",
        "# <p style=\"font-family:Arial; font-size:1.4em;color:Red;\"> 6. Comparing Strings </p>\n"
      ]
    },
    {
      "cell_type": "markdown",
      "metadata": {
        "id": "9eioWj1zIpz8"
      },
      "source": [
        "#### <p style=\"font-family: Arial; font-size:1.4em; background-color: yellow; color:black;\"> Problem #6.1 </p>\n",
        "#### Run the following code cell and check out the result\n",
        "\n",
        "> 👉 String value comparison"
      ]
    },
    {
      "cell_type": "markdown",
      "metadata": {
        "id": "qCHggSsoIpz8"
      },
      "source": [
        "#### Alphabetical order comparison"
      ]
    },
    {
      "cell_type": "code",
      "execution_count": null,
      "metadata": {
        "id": "lxjsyj84Ipz8",
        "colab": {
          "base_uri": "https://localhost:8080/"
        },
        "outputId": "497729bf-c220-45dc-c974-aededc3717e8"
      },
      "outputs": [
        {
          "output_type": "stream",
          "name": "stdout",
          "text": [
            "Mary  is greater than or equal to Macy\n"
          ]
        }
      ],
      "source": [
        "name1 = 'Mary'\n",
        "name2 = 'Macy'\n",
        "\n",
        "if name1 < name2:\n",
        "\tprint (f'{name1}  is less than {name2}')\n",
        "else:\n",
        "\tprint (f'{name1}  is greater than or equal to {name2}')\n",
        "\n"
      ]
    },
    {
      "cell_type": "code",
      "execution_count": null,
      "metadata": {
        "id": "u6tH84iMIpz8",
        "outputId": "9e13fbf2-6ea8-4444-a153-e322d562bc57",
        "colab": {
          "base_uri": "https://localhost:8080/"
        }
      },
      "outputs": [
        {
          "output_type": "stream",
          "name": "stdout",
          "text": [
            "Mary  is less than or equal to Nancy\n"
          ]
        }
      ],
      "source": [
        "name1 = \"Mary\"\n",
        "name2 = \"Nancy\"\n",
        "\n",
        "if (name1 > name2):\n",
        "\tprint (f'{name1}  is greater than {name2}')\n",
        "else:\n",
        "\tprint (f'{name1}  is less than or equal to {name2}')\n"
      ]
    },
    {
      "cell_type": "markdown",
      "metadata": {
        "id": "sb7NMwObIpz9"
      },
      "source": [
        "#### <p style=\"font-family: Arial; font-size:1.4em; background-color: yellow; color:black;\"> Problem #6.2 </p>\n",
        "#### Run the following code cell and check out the result\n",
        "\n",
        "> 👉 String value comparison\n",
        "\n",
        "#### String comparison by the \"length\""
      ]
    },
    {
      "cell_type": "code",
      "execution_count": null,
      "metadata": {
        "id": "5XMp3WpzIpz9",
        "colab": {
          "base_uri": "https://localhost:8080/"
        },
        "outputId": "efd4f3ff-e142-498e-cec7-dbcb3589caa4"
      },
      "outputs": [
        {
          "output_type": "stream",
          "name": "stdout",
          "text": [
            "Mary  is shorter than Mariella\n"
          ]
        }
      ],
      "source": [
        "name1 = 'Mary'\n",
        "name2 = 'Mariella'\n",
        "\n",
        "if len(name1) < len(name2):\n",
        "\tprint (f'{name1}  is shorter than {name2}')\n",
        "else:\n",
        "\tprint (f'{name1}  is longer than or equal to {name2}')\n",
        "\n"
      ]
    },
    {
      "cell_type": "markdown",
      "metadata": {
        "id": "RKNkBIyMIpz9"
      },
      "source": [
        "#### <p style=\"font-family: Arial; font-size:1.4em; background-color: yellow; color:black;\"> Problem #6.3 </p>\n",
        "#### Run the following code cell and check out the result\n",
        "\n",
        "> 👉 String Library functions  \n"
      ]
    },
    {
      "cell_type": "markdown",
      "metadata": {
        "id": "lBO6RjKSIpz9"
      },
      "source": [
        "### String Library Functions\n",
        "<a href=\"https://docs.python.org/3/library/string.html\"> Python Documents for String </a>\n",
        "\n",
        "\n",
        "\n",
        "<a href=\"https://docs.python.org/3/library/stdtypes.html#string-methods\"> String Methods\n",
        "<br>\n",
        "</a>\n",
        "<a href=\"https://www.w3schools.com/python/python_ref_string.asp\"> W3 School </a>\n",
        "\n",
        "<img src=\"https://nimbus-screenshots.s3.amazonaws.com/s/4ac262e3ba568032f7992d4556be2443.png\">\n",
        "\n"
      ]
    },
    {
      "cell_type": "code",
      "execution_count": 1,
      "metadata": {
        "id": "VFNbFeoeIpz9",
        "colab": {
          "base_uri": "https://localhost:8080/"
        },
        "outputId": "872476e6-872a-411f-cfec-99e6a1eb8f95"
      },
      "outputs": [
        {
          "output_type": "execute_result",
          "data": {
            "text/plain": [
              "False"
            ]
          },
          "metadata": {},
          "execution_count": 1
        }
      ],
      "source": [
        "'BANANA'.isupper()\n",
        "\n",
        "'banana'.isupper()\n",
        "\n",
        "'baNana'.isupper()\n",
        "\n",
        "' '.isupper()"
      ]
    },
    {
      "cell_type": "code",
      "execution_count": null,
      "metadata": {
        "id": "ZE4htCbPIpz9",
        "colab": {
          "base_uri": "https://localhost:8080/",
          "height": 35
        },
        "outputId": "1558d842-17ca-4a95-ebfe-d6ec44e9e15a"
      },
      "outputs": [
        {
          "output_type": "execute_result",
          "data": {
            "text/plain": [
              "'three!'"
            ],
            "application/vnd.google.colaboratory.intrinsic+json": {
              "type": "string"
            }
          },
          "metadata": {},
          "execution_count": 34
        }
      ],
      "source": [
        "\n",
        "'   spacious   '.lstrip()\n",
        "\n",
        "'www.example.com'.lstrip('cmowz.')\n",
        "\n",
        "'Arthur: three!'.lstrip('Arthur: ')\n",
        "\n",
        "'Arthur: three!'.removeprefix('Arthur: ')"
      ]
    },
    {
      "cell_type": "code",
      "execution_count": null,
      "metadata": {
        "id": "T5AiznusIpz9",
        "colab": {
          "base_uri": "https://localhost:8080/"
        },
        "outputId": "dae8a510-9a31-4363-e136-670b0275d785"
      },
      "outputs": [
        {
          "output_type": "stream",
          "name": "stdout",
          "text": [
            "name@company\n",
            "company.com\n",
            "name@company.com\n"
          ]
        }
      ],
      "source": [
        "email_str = \"name@company.com\"\n",
        "result1 = email_str.rstrip(\".com\" )\n",
        "result2 = email_str.lstrip(\"name@\")\n",
        "print (result1)\n",
        "print (result2)\n",
        "print (email_str)"
      ]
    },
    {
      "cell_type": "code",
      "execution_count": null,
      "metadata": {
        "id": "PPpUflK1Ipz9",
        "colab": {
          "base_uri": "https://localhost:8080/"
        },
        "outputId": "232ada4f-9408-4fc6-f64d-b8a242e490fb"
      },
      "outputs": [
        {
          "output_type": "stream",
          "name": "stdout",
          "text": [
            "4\n",
            "@company.com\n",
            "@c\n",
            "@company.com\n",
            "@company.com\n",
            "@company.com\n"
          ]
        }
      ],
      "source": [
        "email_str = \"name@company.com\"\n",
        "idx = email_str.find('@')\n",
        "print (idx)\n",
        "\n",
        "company_name = email_str[idx:len(email_str)]\n",
        "print (company_name)\n",
        "email_id = email_str[:idx]\n",
        "\n",
        "\n",
        "\n",
        "print (email_str[4:6])\n",
        "print (email_str[4:16])\n",
        "last_idx = len(email_str)\n",
        "print (email_str[4:last_idx])\n",
        "print (email_str[4:])\n"
      ]
    },
    {
      "cell_type": "code",
      "execution_count": 4,
      "metadata": {
        "id": "q02FN28KIpz9",
        "outputId": "08defdc4-4b6c-432f-c715-1aade8056359",
        "colab": {
          "base_uri": "https://localhost:8080/",
          "height": 35
        }
      },
      "outputs": [
        {
          "output_type": "execute_result",
          "data": {
            "text/plain": [
              "'Monty'"
            ],
            "application/vnd.google.colaboratory.intrinsic+json": {
              "type": "string"
            }
          },
          "metadata": {},
          "execution_count": 4
        }
      ],
      "source": [
        "\n",
        "'   spacious   '.rstrip()\n",
        "\n",
        "'mississippi'.rstrip('ipz')\n",
        "\n",
        "'Monty Python'.rstrip(' Python')\n",
        "\n",
        "'Monty Python'.removesuffix(' Python')"
      ]
    },
    {
      "cell_type": "code",
      "execution_count": 5,
      "metadata": {
        "id": "rPAPrIczIpz-",
        "outputId": "26d5d732-8a3d-406c-e823-85ebf0723be3",
        "colab": {
          "base_uri": "https://localhost:8080/",
          "height": 35
        }
      },
      "outputs": [
        {
          "output_type": "execute_result",
          "data": {
            "text/plain": [
              "'example'"
            ],
            "application/vnd.google.colaboratory.intrinsic+json": {
              "type": "string"
            }
          },
          "metadata": {},
          "execution_count": 5
        }
      ],
      "source": [
        "\n",
        "\n",
        "'1,2,3'.split(',')\n",
        "\n",
        "'1,2,3'.split(',', maxsplit=1)\n",
        "\n",
        "'1,2,,3,'.split(',')\n",
        "\n",
        "'1 2 3'.split()\n",
        "\n",
        "'1 2 3'.split(maxsplit=1)\n",
        "\n",
        "'   1   2   3   '.split()\n",
        "\n",
        "'   spacious   '.strip()\n",
        "\n",
        "'www.example.com'.strip('cmowz.')\n",
        "\n"
      ]
    },
    {
      "cell_type": "code",
      "execution_count": 12,
      "metadata": {
        "id": "UQVAx6egIpz-",
        "outputId": "db08fa03-d0ff-4fb8-d97e-b2ddd624eef2",
        "colab": {
          "base_uri": "https://localhost:8080/"
        }
      },
      "outputs": [
        {
          "output_type": "stream",
          "name": "stdout",
          "text": [
            "Enter two numbers1 2\n",
            "1 2\n",
            "1\n",
            "2\n",
            "Enter two numbers1 2\n",
            "1\n",
            "2\n"
          ]
        }
      ],
      "source": [
        "input_str = input('Enter two numbers')\n",
        "print (input_str)\n",
        "x,y = input_str.split()\n",
        "print (int(x))\n",
        "print (int(y))\n",
        "\n",
        "x, y = map(int, input('Enter two numbers').split())\n",
        "print (int(x))\n",
        "print (int(y))\n",
        "\n",
        "\n",
        "\n"
      ]
    },
    {
      "cell_type": "markdown",
      "metadata": {
        "id": "4WZWd9ewIpz-"
      },
      "source": [
        "<a href=\"https://docs.python.org/3/library/string.html\">\n",
        "\n",
        "\n",
        "<img src=\"https://nimbus-screenshots.s3.amazonaws.com/s/ebc2ce4ebcd9fa90a90f988674b16c1f.png\">\n",
        "\n",
        "</a>"
      ]
    }
  ],
  "metadata": {
    "kernelspec": {
      "display_name": "base",
      "language": "python",
      "name": "python3"
    },
    "language_info": {
      "codemirror_mode": {
        "name": "ipython",
        "version": 3
      },
      "file_extension": ".py",
      "mimetype": "text/x-python",
      "name": "python",
      "nbconvert_exporter": "python",
      "pygments_lexer": "ipython3",
      "version": "3.9.17"
    },
    "orig_nbformat": 4,
    "vscode": {
      "interpreter": {
        "hash": "32cd87c0c55905266dc8232ebf1148f668af0d9324249c125246585210a29cd6"
      }
    },
    "colab": {
      "provenance": []
    }
  },
  "nbformat": 4,
  "nbformat_minor": 0
}